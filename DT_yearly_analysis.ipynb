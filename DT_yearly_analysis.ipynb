{
 "cells": [
  {
   "cell_type": "markdown",
   "id": "c0b01d08",
   "metadata": {},
   "source": [
    "\n",
    "### Yearly analysis for 2021 and 2022 using Decision Trees\n"
   ]
  },
  {
   "cell_type": "markdown",
   "id": "0b54615d",
   "metadata": {},
   "source": [
    "### Decision Tree"
   ]
  },
  {
   "cell_type": "markdown",
   "id": "a3453627",
   "metadata": {},
   "source": [
    "This notebook contains analysis conducted using decision tree modeling for the years **2022 and 2021**. Again, the analysis is focused on the currency pair CAD=X - which focuses on the fluctuations of USD over these years and the predictable power of the models using historical data.\n",
    "\n",
    "This analysis would provide a point of reference and comparison to the Time Series model that was performed as part of this project."
   ]
  },
  {
   "cell_type": "markdown",
   "id": "dedc01c7",
   "metadata": {},
   "source": [
    "**Library Imports**"
   ]
  },
  {
   "cell_type": "markdown",
   "id": "b55bf524",
   "metadata": {},
   "source": [
    "Importing necessary libraries for the analysis"
   ]
  },
  {
   "cell_type": "code",
   "execution_count": 32,
   "id": "d88fda8a",
   "metadata": {},
   "outputs": [],
   "source": [
    "import pandas as pd\n",
    "import numpy as np\n",
    "\n",
    "from sklearn.model_selection import train_test_split\n",
    "from sklearn.tree import DecisionTreeRegressor\n",
    "from sklearn.metrics import mean_squared_error\n",
    "\n",
    "import matplotlib.pyplot as plt\n",
    "import seaborn as sns"
   ]
  },
  {
   "cell_type": "markdown",
   "id": "48b8bc8c",
   "metadata": {},
   "source": [
    "**Importing the csv file with CAD=X data**"
   ]
  },
  {
   "cell_type": "markdown",
   "id": "6035dac6",
   "metadata": {},
   "source": [
    "For this analysis, the dataset containing information on the currency pair CAD=X has been isolated and will be used for the rest of this analysis."
   ]
  },
  {
   "cell_type": "markdown",
   "id": "ce1abf5e",
   "metadata": {},
   "source": [
    "Reading the data from .csv file and doing initial exploration."
   ]
  },
  {
   "cell_type": "code",
   "execution_count": 33,
   "id": "a3f88944",
   "metadata": {},
   "outputs": [
    {
     "data": {
      "text/html": [
       "<div>\n",
       "<style scoped>\n",
       "    .dataframe tbody tr th:only-of-type {\n",
       "        vertical-align: middle;\n",
       "    }\n",
       "\n",
       "    .dataframe tbody tr th {\n",
       "        vertical-align: top;\n",
       "    }\n",
       "\n",
       "    .dataframe thead th {\n",
       "        text-align: right;\n",
       "    }\n",
       "</style>\n",
       "<table border=\"1\" class=\"dataframe\">\n",
       "  <thead>\n",
       "    <tr style=\"text-align: right;\">\n",
       "      <th></th>\n",
       "      <th>Ticker</th>\n",
       "      <th>Open</th>\n",
       "      <th>High</th>\n",
       "      <th>Low</th>\n",
       "      <th>Close</th>\n",
       "      <th>Adj Close</th>\n",
       "      <th>Time</th>\n",
       "    </tr>\n",
       "    <tr>\n",
       "      <th>Date</th>\n",
       "      <th></th>\n",
       "      <th></th>\n",
       "      <th></th>\n",
       "      <th></th>\n",
       "      <th></th>\n",
       "      <th></th>\n",
       "      <th></th>\n",
       "    </tr>\n",
       "  </thead>\n",
       "  <tbody>\n",
       "    <tr>\n",
       "      <th>2008-08-01</th>\n",
       "      <td>CAD=X</td>\n",
       "      <td>1.02340</td>\n",
       "      <td>1.02940</td>\n",
       "      <td>1.02290</td>\n",
       "      <td>1.02460</td>\n",
       "      <td>1.02460</td>\n",
       "      <td>2</td>\n",
       "    </tr>\n",
       "    <tr>\n",
       "      <th>2008-08-04</th>\n",
       "      <td>CAD=X</td>\n",
       "      <td>1.02800</td>\n",
       "      <td>1.03680</td>\n",
       "      <td>1.02620</td>\n",
       "      <td>1.03640</td>\n",
       "      <td>1.03640</td>\n",
       "      <td>8</td>\n",
       "    </tr>\n",
       "    <tr>\n",
       "      <th>2008-08-05</th>\n",
       "      <td>CAD=X</td>\n",
       "      <td>1.03630</td>\n",
       "      <td>1.04480</td>\n",
       "      <td>1.03630</td>\n",
       "      <td>1.04260</td>\n",
       "      <td>1.04260</td>\n",
       "      <td>14</td>\n",
       "    </tr>\n",
       "    <tr>\n",
       "      <th>2008-08-06</th>\n",
       "      <td>CAD=X</td>\n",
       "      <td>1.04260</td>\n",
       "      <td>1.04930</td>\n",
       "      <td>1.04000</td>\n",
       "      <td>1.04750</td>\n",
       "      <td>1.04750</td>\n",
       "      <td>20</td>\n",
       "    </tr>\n",
       "    <tr>\n",
       "      <th>2008-08-07</th>\n",
       "      <td>CAD=X</td>\n",
       "      <td>1.04760</td>\n",
       "      <td>1.05330</td>\n",
       "      <td>1.04490</td>\n",
       "      <td>1.05200</td>\n",
       "      <td>1.05200</td>\n",
       "      <td>26</td>\n",
       "    </tr>\n",
       "    <tr>\n",
       "      <th>...</th>\n",
       "      <td>...</td>\n",
       "      <td>...</td>\n",
       "      <td>...</td>\n",
       "      <td>...</td>\n",
       "      <td>...</td>\n",
       "      <td>...</td>\n",
       "      <td>...</td>\n",
       "    </tr>\n",
       "    <tr>\n",
       "      <th>2023-07-24</th>\n",
       "      <td>CAD=X</td>\n",
       "      <td>1.32240</td>\n",
       "      <td>1.32276</td>\n",
       "      <td>1.31542</td>\n",
       "      <td>1.32240</td>\n",
       "      <td>1.32240</td>\n",
       "      <td>38937</td>\n",
       "    </tr>\n",
       "    <tr>\n",
       "      <th>2023-07-25</th>\n",
       "      <td>CAD=X</td>\n",
       "      <td>1.31746</td>\n",
       "      <td>1.32095</td>\n",
       "      <td>1.31466</td>\n",
       "      <td>1.31746</td>\n",
       "      <td>1.31746</td>\n",
       "      <td>38947</td>\n",
       "    </tr>\n",
       "    <tr>\n",
       "      <th>2023-07-26</th>\n",
       "      <td>CAD=X</td>\n",
       "      <td>1.31871</td>\n",
       "      <td>1.32352</td>\n",
       "      <td>1.31720</td>\n",
       "      <td>1.31871</td>\n",
       "      <td>1.31871</td>\n",
       "      <td>38957</td>\n",
       "    </tr>\n",
       "    <tr>\n",
       "      <th>2023-07-27</th>\n",
       "      <td>CAD=X</td>\n",
       "      <td>1.32046</td>\n",
       "      <td>1.32039</td>\n",
       "      <td>1.31580</td>\n",
       "      <td>1.32046</td>\n",
       "      <td>1.32046</td>\n",
       "      <td>38967</td>\n",
       "    </tr>\n",
       "    <tr>\n",
       "      <th>2023-07-28</th>\n",
       "      <td>CAD=X</td>\n",
       "      <td>1.32270</td>\n",
       "      <td>1.32473</td>\n",
       "      <td>1.32061</td>\n",
       "      <td>1.32270</td>\n",
       "      <td>1.32270</td>\n",
       "      <td>38977</td>\n",
       "    </tr>\n",
       "  </tbody>\n",
       "</table>\n",
       "<p>3905 rows × 7 columns</p>\n",
       "</div>"
      ],
      "text/plain": [
       "           Ticker     Open     High      Low    Close  Adj Close   Time\n",
       "Date                                                                   \n",
       "2008-08-01  CAD=X  1.02340  1.02940  1.02290  1.02460    1.02460      2\n",
       "2008-08-04  CAD=X  1.02800  1.03680  1.02620  1.03640    1.03640      8\n",
       "2008-08-05  CAD=X  1.03630  1.04480  1.03630  1.04260    1.04260     14\n",
       "2008-08-06  CAD=X  1.04260  1.04930  1.04000  1.04750    1.04750     20\n",
       "2008-08-07  CAD=X  1.04760  1.05330  1.04490  1.05200    1.05200     26\n",
       "...           ...      ...      ...      ...      ...        ...    ...\n",
       "2023-07-24  CAD=X  1.32240  1.32276  1.31542  1.32240    1.32240  38937\n",
       "2023-07-25  CAD=X  1.31746  1.32095  1.31466  1.31746    1.31746  38947\n",
       "2023-07-26  CAD=X  1.31871  1.32352  1.31720  1.31871    1.31871  38957\n",
       "2023-07-27  CAD=X  1.32046  1.32039  1.31580  1.32046    1.32046  38967\n",
       "2023-07-28  CAD=X  1.32270  1.32473  1.32061  1.32270    1.32270  38977\n",
       "\n",
       "[3905 rows x 7 columns]"
      ]
     },
     "execution_count": 33,
     "metadata": {},
     "output_type": "execute_result"
    }
   ],
   "source": [
    "# Import the CAD=X currency pair data from the CSV file\n",
    "df = pd.read_csv('cad_x_currency_data.csv', index_col=0)\n",
    "df"
   ]
  },
  {
   "cell_type": "markdown",
   "id": "d6639e37",
   "metadata": {},
   "source": [
    "Checking shape of the dataset to ensure all rows from the original dataset have been successfully extracted. Looking at the result confirms that all data has been successfully extracted. Although, the weekend and holiday closure of the markets and missing rows associated with these days have not been dealt with."
   ]
  },
  {
   "cell_type": "code",
   "execution_count": 34,
   "id": "118df276",
   "metadata": {},
   "outputs": [
    {
     "data": {
      "text/plain": [
       "(3905, 7)"
      ]
     },
     "execution_count": 34,
     "metadata": {},
     "output_type": "execute_result"
    }
   ],
   "source": [
    "df.shape"
   ]
  },
  {
   "cell_type": "code",
   "execution_count": 35,
   "id": "4f02a01a",
   "metadata": {},
   "outputs": [
    {
     "data": {
      "text/html": [
       "<div>\n",
       "<style scoped>\n",
       "    .dataframe tbody tr th:only-of-type {\n",
       "        vertical-align: middle;\n",
       "    }\n",
       "\n",
       "    .dataframe tbody tr th {\n",
       "        vertical-align: top;\n",
       "    }\n",
       "\n",
       "    .dataframe thead th {\n",
       "        text-align: right;\n",
       "    }\n",
       "</style>\n",
       "<table border=\"1\" class=\"dataframe\">\n",
       "  <thead>\n",
       "    <tr style=\"text-align: right;\">\n",
       "      <th></th>\n",
       "      <th>Ticker</th>\n",
       "      <th>Open</th>\n",
       "      <th>High</th>\n",
       "      <th>Low</th>\n",
       "      <th>Close</th>\n",
       "      <th>Adj Close</th>\n",
       "      <th>Time</th>\n",
       "    </tr>\n",
       "    <tr>\n",
       "      <th>Date</th>\n",
       "      <th></th>\n",
       "      <th></th>\n",
       "      <th></th>\n",
       "      <th></th>\n",
       "      <th></th>\n",
       "      <th></th>\n",
       "      <th></th>\n",
       "    </tr>\n",
       "  </thead>\n",
       "  <tbody>\n",
       "    <tr>\n",
       "      <th>2008-08-01</th>\n",
       "      <td>CAD=X</td>\n",
       "      <td>1.0234</td>\n",
       "      <td>1.0294</td>\n",
       "      <td>1.0229</td>\n",
       "      <td>1.0246</td>\n",
       "      <td>1.0246</td>\n",
       "      <td>2</td>\n",
       "    </tr>\n",
       "    <tr>\n",
       "      <th>2008-08-04</th>\n",
       "      <td>CAD=X</td>\n",
       "      <td>1.0280</td>\n",
       "      <td>1.0368</td>\n",
       "      <td>1.0262</td>\n",
       "      <td>1.0364</td>\n",
       "      <td>1.0364</td>\n",
       "      <td>8</td>\n",
       "    </tr>\n",
       "    <tr>\n",
       "      <th>2008-08-05</th>\n",
       "      <td>CAD=X</td>\n",
       "      <td>1.0363</td>\n",
       "      <td>1.0448</td>\n",
       "      <td>1.0363</td>\n",
       "      <td>1.0426</td>\n",
       "      <td>1.0426</td>\n",
       "      <td>14</td>\n",
       "    </tr>\n",
       "    <tr>\n",
       "      <th>2008-08-06</th>\n",
       "      <td>CAD=X</td>\n",
       "      <td>1.0426</td>\n",
       "      <td>1.0493</td>\n",
       "      <td>1.0400</td>\n",
       "      <td>1.0475</td>\n",
       "      <td>1.0475</td>\n",
       "      <td>20</td>\n",
       "    </tr>\n",
       "    <tr>\n",
       "      <th>2008-08-07</th>\n",
       "      <td>CAD=X</td>\n",
       "      <td>1.0476</td>\n",
       "      <td>1.0533</td>\n",
       "      <td>1.0449</td>\n",
       "      <td>1.0520</td>\n",
       "      <td>1.0520</td>\n",
       "      <td>26</td>\n",
       "    </tr>\n",
       "  </tbody>\n",
       "</table>\n",
       "</div>"
      ],
      "text/plain": [
       "           Ticker    Open    High     Low   Close  Adj Close  Time\n",
       "Date                                                              \n",
       "2008-08-01  CAD=X  1.0234  1.0294  1.0229  1.0246     1.0246     2\n",
       "2008-08-04  CAD=X  1.0280  1.0368  1.0262  1.0364     1.0364     8\n",
       "2008-08-05  CAD=X  1.0363  1.0448  1.0363  1.0426     1.0426    14\n",
       "2008-08-06  CAD=X  1.0426  1.0493  1.0400  1.0475     1.0475    20\n",
       "2008-08-07  CAD=X  1.0476  1.0533  1.0449  1.0520     1.0520    26"
      ]
     },
     "execution_count": 35,
     "metadata": {},
     "output_type": "execute_result"
    }
   ],
   "source": [
    "df.head()"
   ]
  },
  {
   "cell_type": "code",
   "execution_count": 36,
   "id": "1ff210b8",
   "metadata": {},
   "outputs": [
    {
     "name": "stdout",
     "output_type": "stream",
     "text": [
      "<class 'pandas.core.frame.DataFrame'>\n",
      "Index: 3905 entries, 2008-08-01 to 2023-07-28\n",
      "Data columns (total 7 columns):\n",
      " #   Column     Non-Null Count  Dtype  \n",
      "---  ------     --------------  -----  \n",
      " 0   Ticker     3905 non-null   object \n",
      " 1   Open       3905 non-null   float64\n",
      " 2   High       3905 non-null   float64\n",
      " 3   Low        3905 non-null   float64\n",
      " 4   Close      3905 non-null   float64\n",
      " 5   Adj Close  3905 non-null   float64\n",
      " 6   Time       3905 non-null   int64  \n",
      "dtypes: float64(5), int64(1), object(1)\n",
      "memory usage: 244.1+ KB\n"
     ]
    }
   ],
   "source": [
    "df.info()"
   ]
  },
  {
   "cell_type": "code",
   "execution_count": 37,
   "id": "ecb3b00b",
   "metadata": {},
   "outputs": [
    {
     "data": {
      "text/html": [
       "<div>\n",
       "<style scoped>\n",
       "    .dataframe tbody tr th:only-of-type {\n",
       "        vertical-align: middle;\n",
       "    }\n",
       "\n",
       "    .dataframe tbody tr th {\n",
       "        vertical-align: top;\n",
       "    }\n",
       "\n",
       "    .dataframe thead th {\n",
       "        text-align: right;\n",
       "    }\n",
       "</style>\n",
       "<table border=\"1\" class=\"dataframe\">\n",
       "  <thead>\n",
       "    <tr style=\"text-align: right;\">\n",
       "      <th></th>\n",
       "      <th>Open</th>\n",
       "      <th>High</th>\n",
       "      <th>Low</th>\n",
       "      <th>Close</th>\n",
       "      <th>Adj Close</th>\n",
       "      <th>Time</th>\n",
       "    </tr>\n",
       "  </thead>\n",
       "  <tbody>\n",
       "    <tr>\n",
       "      <th>count</th>\n",
       "      <td>3905.000000</td>\n",
       "      <td>3905.000000</td>\n",
       "      <td>3905.000000</td>\n",
       "      <td>3905.000000</td>\n",
       "      <td>3905.000000</td>\n",
       "      <td>3905.000000</td>\n",
       "    </tr>\n",
       "    <tr>\n",
       "      <th>mean</th>\n",
       "      <td>1.198423</td>\n",
       "      <td>1.202731</td>\n",
       "      <td>1.194271</td>\n",
       "      <td>1.198412</td>\n",
       "      <td>1.198412</td>\n",
       "      <td>19457.018438</td>\n",
       "    </tr>\n",
       "    <tr>\n",
       "      <th>std</th>\n",
       "      <td>0.136652</td>\n",
       "      <td>0.136947</td>\n",
       "      <td>0.136378</td>\n",
       "      <td>0.136623</td>\n",
       "      <td>0.136623</td>\n",
       "      <td>11274.606568</td>\n",
       "    </tr>\n",
       "    <tr>\n",
       "      <th>min</th>\n",
       "      <td>0.943000</td>\n",
       "      <td>0.947200</td>\n",
       "      <td>0.940600</td>\n",
       "      <td>0.943200</td>\n",
       "      <td>0.943200</td>\n",
       "      <td>2.000000</td>\n",
       "    </tr>\n",
       "    <tr>\n",
       "      <th>25%</th>\n",
       "      <td>1.049800</td>\n",
       "      <td>1.054770</td>\n",
       "      <td>1.044800</td>\n",
       "      <td>1.049800</td>\n",
       "      <td>1.049800</td>\n",
       "      <td>9693.000000</td>\n",
       "    </tr>\n",
       "    <tr>\n",
       "      <th>50%</th>\n",
       "      <td>1.254420</td>\n",
       "      <td>1.259230</td>\n",
       "      <td>1.250170</td>\n",
       "      <td>1.254400</td>\n",
       "      <td>1.254400</td>\n",
       "      <td>19458.000000</td>\n",
       "    </tr>\n",
       "    <tr>\n",
       "      <th>75%</th>\n",
       "      <td>1.315860</td>\n",
       "      <td>1.319310</td>\n",
       "      <td>1.312870</td>\n",
       "      <td>1.315800</td>\n",
       "      <td>1.315800</td>\n",
       "      <td>29218.000000</td>\n",
       "    </tr>\n",
       "    <tr>\n",
       "      <th>max</th>\n",
       "      <td>1.458030</td>\n",
       "      <td>1.468730</td>\n",
       "      <td>1.449370</td>\n",
       "      <td>1.457800</td>\n",
       "      <td>1.457800</td>\n",
       "      <td>38977.000000</td>\n",
       "    </tr>\n",
       "  </tbody>\n",
       "</table>\n",
       "</div>"
      ],
      "text/plain": [
       "              Open         High          Low        Close    Adj Close  \\\n",
       "count  3905.000000  3905.000000  3905.000000  3905.000000  3905.000000   \n",
       "mean      1.198423     1.202731     1.194271     1.198412     1.198412   \n",
       "std       0.136652     0.136947     0.136378     0.136623     0.136623   \n",
       "min       0.943000     0.947200     0.940600     0.943200     0.943200   \n",
       "25%       1.049800     1.054770     1.044800     1.049800     1.049800   \n",
       "50%       1.254420     1.259230     1.250170     1.254400     1.254400   \n",
       "75%       1.315860     1.319310     1.312870     1.315800     1.315800   \n",
       "max       1.458030     1.468730     1.449370     1.457800     1.457800   \n",
       "\n",
       "               Time  \n",
       "count   3905.000000  \n",
       "mean   19457.018438  \n",
       "std    11274.606568  \n",
       "min        2.000000  \n",
       "25%     9693.000000  \n",
       "50%    19458.000000  \n",
       "75%    29218.000000  \n",
       "max    38977.000000  "
      ]
     },
     "execution_count": 37,
     "metadata": {},
     "output_type": "execute_result"
    }
   ],
   "source": [
    "df.describe()"
   ]
  },
  {
   "cell_type": "code",
   "execution_count": 38,
   "id": "f967b4d2",
   "metadata": {},
   "outputs": [
    {
     "name": "stdout",
     "output_type": "stream",
     "text": [
      "Ticker       0\n",
      "Open         0\n",
      "High         0\n",
      "Low          0\n",
      "Close        0\n",
      "Adj Close    0\n",
      "Time         0\n",
      "dtype: int64\n"
     ]
    }
   ],
   "source": [
    "# Check for missing values in each column\n",
    "missing_values = df.isna().sum()\n",
    "print(missing_values)"
   ]
  },
  {
   "cell_type": "markdown",
   "id": "1c0b2de1",
   "metadata": {},
   "source": [
    "From  the EDA above, we notice that all coumns are in the required datatypes. Also, there are no missing values that need to be dealt with. It is safe to continue analysis."
   ]
  },
  {
   "cell_type": "markdown",
   "id": "6813defe",
   "metadata": {},
   "source": [
    "**Interest in 1-year's data**\n",
    "\n",
    "This section will cover the analysis for 2022, where a portion of the datapoints will be used to train the model, and the rest will be used to test the model's prediction and obtain performance metrics."
   ]
  },
  {
   "cell_type": "markdown",
   "id": "6be6d004",
   "metadata": {},
   "source": [
    "Filter the data for 2022"
   ]
  },
  {
   "cell_type": "code",
   "execution_count": 39,
   "id": "ec6b4795",
   "metadata": {},
   "outputs": [],
   "source": [
    "# Select the data for the year of interest\n",
    "df_2022 = df.loc['2022-01-01':'2022-12-31']"
   ]
  },
  {
   "cell_type": "markdown",
   "id": "1dbab0cf",
   "metadata": {},
   "source": [
    "**Pick the features and target variables**\n",
    "\n",
    "- Target: 'Close' rates\n",
    "- Features used for modeling: 'Open', 'High' and 'Low' rates"
   ]
  },
  {
   "cell_type": "code",
   "execution_count": 40,
   "id": "dbaaa7b2",
   "metadata": {},
   "outputs": [],
   "source": [
    "X_2022 = df_2022[['Open', 'High', 'Low']]  # Features\n",
    "y_2022 = df_2022['Close']  # Target"
   ]
  },
  {
   "cell_type": "markdown",
   "id": "0ca587c9",
   "metadata": {},
   "source": [
    "**Train test split**"
   ]
  },
  {
   "cell_type": "markdown",
   "id": "ae8cc1df",
   "metadata": {},
   "source": [
    "This section will focus on manually selecting the data points within the time period of interest. \n",
    "\n",
    "Train test split ratio - 80-20"
   ]
  },
  {
   "cell_type": "code",
   "execution_count": 41,
   "id": "5f724b3c",
   "metadata": {},
   "outputs": [],
   "source": [
    "# Selecting a split of 80 -20\n",
    "split_point = int(len(X_2022) * 0.8)\n",
    "\n",
    "# selecting train data\n",
    "X_train = X_2022.iloc[:split_point]\n",
    "y_train = y_2022.iloc[:split_point]\n",
    "\n",
    "# selecting test data\n",
    "X_test = X_2022.iloc[split_point:]\n",
    "y_test = y_2022.iloc[split_point:]\n"
   ]
  },
  {
   "cell_type": "markdown",
   "id": "58a2f901",
   "metadata": {},
   "source": [
    "**Next, fit the decision tree model**"
   ]
  },
  {
   "cell_type": "code",
   "execution_count": 42,
   "id": "c3c166b4",
   "metadata": {},
   "outputs": [
    {
     "name": "stdout",
     "output_type": "stream",
     "text": [
      "Mean Squared Error for 2022: 3.242314771184202e-05\n"
     ]
    }
   ],
   "source": [
    "# Fit the DT model\n",
    "model = DecisionTreeRegressor()\n",
    "model.fit(X_train, y_train)\n",
    "\n",
    "\n",
    "predictions = model.predict(X_test)\n",
    "mse = mean_squared_error(y_test, predictions)\n",
    "print(f\"Mean Squared Error for 2022: {mse}\")\n"
   ]
  },
  {
   "cell_type": "markdown",
   "id": "f04082bc",
   "metadata": {},
   "source": [
    "The mean is low and shows that the model is performing well for the year 2022"
   ]
  },
  {
   "cell_type": "markdown",
   "id": "c6b546ea",
   "metadata": {},
   "source": [
    "**Model Evaluation**"
   ]
  },
  {
   "cell_type": "markdown",
   "id": "9f485fae",
   "metadata": {},
   "source": [
    "**R-squared (Coefficient of Determination):**"
   ]
  },
  {
   "cell_type": "code",
   "execution_count": 43,
   "id": "dc623fa8",
   "metadata": {},
   "outputs": [
    {
     "name": "stdout",
     "output_type": "stream",
     "text": [
      "R-squared for 2022: 0.8162534642006183\n"
     ]
    }
   ],
   "source": [
    "from sklearn.metrics import r2_score\n",
    "\n",
    "r2 = r2_score(y_test, predictions)\n",
    "print(f\"R-squared for 2022: {r2}\")"
   ]
  },
  {
   "cell_type": "markdown",
   "id": "c5a04294",
   "metadata": {},
   "source": [
    "**Mean Absolute Error (MAE):**"
   ]
  },
  {
   "cell_type": "code",
   "execution_count": 44,
   "id": "e3cadd7e",
   "metadata": {},
   "outputs": [
    {
     "name": "stdout",
     "output_type": "stream",
     "text": [
      "Mean Absolute Error for 2022: 0.003632504206437318\n"
     ]
    }
   ],
   "source": [
    "from sklearn.metrics import mean_absolute_error\n",
    "\n",
    "\n",
    "mae = mean_absolute_error(y_test, predictions)\n",
    "print(f\"Mean Absolute Error for 2022: {mae}\")"
   ]
  },
  {
   "cell_type": "markdown",
   "id": "6682ec57",
   "metadata": {},
   "source": [
    "**Mean Squared Error (MSE):**"
   ]
  },
  {
   "cell_type": "code",
   "execution_count": 45,
   "id": "03cb1810",
   "metadata": {},
   "outputs": [
    {
     "name": "stdout",
     "output_type": "stream",
     "text": [
      "Mean Squared Error for 2022: 3.242314771184202e-05\n"
     ]
    }
   ],
   "source": [
    "from sklearn.metrics import mean_squared_error\n",
    "\n",
    "mse = mean_squared_error(y_test, predictions)\n",
    "print(f\"Mean Squared Error for 2022: {mse}\")"
   ]
  },
  {
   "cell_type": "markdown",
   "id": "0b35e4eb",
   "metadata": {},
   "source": [
    "**Root Mean Squared Error (RMSE):**"
   ]
  },
  {
   "cell_type": "code",
   "execution_count": 46,
   "id": "6848a718",
   "metadata": {},
   "outputs": [
    {
     "name": "stdout",
     "output_type": "stream",
     "text": [
      "Root Mean Squared Error for 2022: 0.00569413274448726\n"
     ]
    }
   ],
   "source": [
    "from math import sqrt\n",
    "\n",
    "rmse = sqrt(mse)\n",
    "print(f\"Root Mean Squared Error for 2022: {rmse}\")"
   ]
  },
  {
   "cell_type": "markdown",
   "id": "1a7478a7",
   "metadata": {},
   "source": [
    "R-squared value of approximately 0.92 suggests that the model is capturing a significant portion of the variance in the data. The low values for MAE, MSE, and RMSE indicate that the model's predictions are generally close to the actual values."
   ]
  },
  {
   "cell_type": "markdown",
   "id": "9527f063",
   "metadata": {},
   "source": [
    "**Plot Actual versus Predicted**"
   ]
  },
  {
   "cell_type": "code",
   "execution_count": 47,
   "id": "d8ac3e22",
   "metadata": {},
   "outputs": [
    {
     "data": {
      "image/png": "[encoded data removed]",
      "text/plain": [
       "<Figure size 1200x600 with 1 Axes>"
      ]
     },
     "metadata": {},
     "output_type": "display_data"
    }
   ],
   "source": [
    "import matplotlib.pyplot as plt\n",
    "\n",
    "# Make predictions for the training set\n",
    "train_predictions = model.predict(X_train)\n",
    "\n",
    "# Combine the actual and predicted values for the training and testing sets\n",
    "train_results = pd.DataFrame({'Actual': y_train, 'Predicted': train_predictions})\n",
    "test_results = pd.DataFrame({'Actual': y_test, 'Predicted': predictions})\n",
    "\n",
    "# Plot the actual vs predicted values\n",
    "plt.figure(figsize=(12, 6))\n",
    "plt.plot(train_results['Actual'], label='Actual Train', color='blue')\n",
    "plt.plot(train_results['Predicted'], label='Predicted Train', color='blue', linestyle='--')\n",
    "plt.plot(test_results['Actual'], label='Actual Test', color='red')\n",
    "plt.plot(test_results['Predicted'], label='Predicted Test', color='green', linestyle='--')\n",
    "plt.xlabel('Index')\n",
    "plt.ylabel('Close Price')\n",
    "plt.title('Actual vs Predicted Close Prices for 2022')\n",
    "plt.legend()\n",
    "plt.show()\n"
   ]
  },
  {
   "cell_type": "markdown",
   "id": "5d4c320d",
   "metadata": {},
   "source": [
    "### Iteration 2"
   ]
  },
  {
   "cell_type": "markdown",
   "id": "174e30dc",
   "metadata": {},
   "source": [
    "**Feature Engineering**"
   ]
  },
  {
   "cell_type": "markdown",
   "id": "59339794",
   "metadata": {},
   "source": [
    "In this iteration, there will be 2 features engineered and used for further analysis"
   ]
  },
  {
   "cell_type": "markdown",
   "id": "fb2ec985",
   "metadata": {},
   "source": [
    "1. Percent change feature will capture change from previous day's close rates"
   ]
  },
  {
   "cell_type": "code",
   "execution_count": 48,
   "id": "527df826",
   "metadata": {},
   "outputs": [
    {
     "data": {
      "text/html": [
       "<div>\n",
       "<style scoped>\n",
       "    .dataframe tbody tr th:only-of-type {\n",
       "        vertical-align: middle;\n",
       "    }\n",
       "\n",
       "    .dataframe tbody tr th {\n",
       "        vertical-align: top;\n",
       "    }\n",
       "\n",
       "    .dataframe thead th {\n",
       "        text-align: right;\n",
       "    }\n",
       "</style>\n",
       "<table border=\"1\" class=\"dataframe\">\n",
       "  <thead>\n",
       "    <tr style=\"text-align: right;\">\n",
       "      <th></th>\n",
       "      <th>Ticker</th>\n",
       "      <th>Open</th>\n",
       "      <th>High</th>\n",
       "      <th>Low</th>\n",
       "      <th>Close</th>\n",
       "      <th>Adj Close</th>\n",
       "      <th>Time</th>\n",
       "      <th>Close_pct_change</th>\n",
       "    </tr>\n",
       "    <tr>\n",
       "      <th>Date</th>\n",
       "      <th></th>\n",
       "      <th></th>\n",
       "      <th></th>\n",
       "      <th></th>\n",
       "      <th></th>\n",
       "      <th></th>\n",
       "      <th></th>\n",
       "      <th></th>\n",
       "    </tr>\n",
       "  </thead>\n",
       "  <tbody>\n",
       "    <tr>\n",
       "      <th>2008-08-01</th>\n",
       "      <td>CAD=X</td>\n",
       "      <td>1.0234</td>\n",
       "      <td>1.0294</td>\n",
       "      <td>1.0229</td>\n",
       "      <td>1.0246</td>\n",
       "      <td>1.0246</td>\n",
       "      <td>2</td>\n",
       "      <td>0.000000</td>\n",
       "    </tr>\n",
       "    <tr>\n",
       "      <th>2008-08-04</th>\n",
       "      <td>CAD=X</td>\n",
       "      <td>1.0280</td>\n",
       "      <td>1.0368</td>\n",
       "      <td>1.0262</td>\n",
       "      <td>1.0364</td>\n",
       "      <td>1.0364</td>\n",
       "      <td>8</td>\n",
       "      <td>0.011517</td>\n",
       "    </tr>\n",
       "    <tr>\n",
       "      <th>2008-08-05</th>\n",
       "      <td>CAD=X</td>\n",
       "      <td>1.0363</td>\n",
       "      <td>1.0448</td>\n",
       "      <td>1.0363</td>\n",
       "      <td>1.0426</td>\n",
       "      <td>1.0426</td>\n",
       "      <td>14</td>\n",
       "      <td>0.005982</td>\n",
       "    </tr>\n",
       "    <tr>\n",
       "      <th>2008-08-06</th>\n",
       "      <td>CAD=X</td>\n",
       "      <td>1.0426</td>\n",
       "      <td>1.0493</td>\n",
       "      <td>1.0400</td>\n",
       "      <td>1.0475</td>\n",
       "      <td>1.0475</td>\n",
       "      <td>20</td>\n",
       "      <td>0.004700</td>\n",
       "    </tr>\n",
       "    <tr>\n",
       "      <th>2008-08-07</th>\n",
       "      <td>CAD=X</td>\n",
       "      <td>1.0476</td>\n",
       "      <td>1.0533</td>\n",
       "      <td>1.0449</td>\n",
       "      <td>1.0520</td>\n",
       "      <td>1.0520</td>\n",
       "      <td>26</td>\n",
       "      <td>0.004296</td>\n",
       "    </tr>\n",
       "  </tbody>\n",
       "</table>\n",
       "</div>"
      ],
      "text/plain": [
       "           Ticker    Open    High     Low   Close  Adj Close  Time  \\\n",
       "Date                                                                 \n",
       "2008-08-01  CAD=X  1.0234  1.0294  1.0229  1.0246     1.0246     2   \n",
       "2008-08-04  CAD=X  1.0280  1.0368  1.0262  1.0364     1.0364     8   \n",
       "2008-08-05  CAD=X  1.0363  1.0448  1.0363  1.0426     1.0426    14   \n",
       "2008-08-06  CAD=X  1.0426  1.0493  1.0400  1.0475     1.0475    20   \n",
       "2008-08-07  CAD=X  1.0476  1.0533  1.0449  1.0520     1.0520    26   \n",
       "\n",
       "            Close_pct_change  \n",
       "Date                          \n",
       "2008-08-01          0.000000  \n",
       "2008-08-04          0.011517  \n",
       "2008-08-05          0.005982  \n",
       "2008-08-06          0.004700  \n",
       "2008-08-07          0.004296  "
      ]
     },
     "execution_count": 48,
     "metadata": {},
     "output_type": "execute_result"
    }
   ],
   "source": [
    "# Calculate the percentage change in 'Close' rates from the previous day\n",
    "df['Close_pct_change'] = df['Close'].pct_change()\n",
    "\n",
    "# The first row will have NaN because there's no previous day to compare with\n",
    "# fill it with 0\n",
    "df['Close_pct_change'] = df['Close_pct_change'].fillna(0)\n",
    "\n",
    "# Display the head to confirm the new feature\n",
    "df.head()"
   ]
  },
  {
   "cell_type": "markdown",
   "id": "3709d1a9",
   "metadata": {},
   "source": [
    "2. Adding a second feature for 5-day moving averages"
   ]
  },
  {
   "cell_type": "code",
   "execution_count": 49,
   "id": "998d4dfb",
   "metadata": {},
   "outputs": [],
   "source": [
    "# Create a new feature (a 5-day moving average of the Close price)\n",
    "df['Moving_Average'] = df['Close'].rolling(window=5).mean()"
   ]
  },
  {
   "cell_type": "code",
   "execution_count": 50,
   "id": "a6ec6a14",
   "metadata": {},
   "outputs": [],
   "source": [
    "df2_2022 = df.copy()"
   ]
  },
  {
   "cell_type": "code",
   "execution_count": 51,
   "id": "a9ea1014",
   "metadata": {},
   "outputs": [
    {
     "data": {
      "text/html": [
       "<div>\n",
       "<style scoped>\n",
       "    .dataframe tbody tr th:only-of-type {\n",
       "        vertical-align: middle;\n",
       "    }\n",
       "\n",
       "    .dataframe tbody tr th {\n",
       "        vertical-align: top;\n",
       "    }\n",
       "\n",
       "    .dataframe thead th {\n",
       "        text-align: right;\n",
       "    }\n",
       "</style>\n",
       "<table border=\"1\" class=\"dataframe\">\n",
       "  <thead>\n",
       "    <tr style=\"text-align: right;\">\n",
       "      <th></th>\n",
       "      <th>Ticker</th>\n",
       "      <th>Open</th>\n",
       "      <th>High</th>\n",
       "      <th>Low</th>\n",
       "      <th>Close</th>\n",
       "      <th>Adj Close</th>\n",
       "      <th>Time</th>\n",
       "      <th>Close_pct_change</th>\n",
       "      <th>Moving_Average</th>\n",
       "    </tr>\n",
       "    <tr>\n",
       "      <th>Date</th>\n",
       "      <th></th>\n",
       "      <th></th>\n",
       "      <th></th>\n",
       "      <th></th>\n",
       "      <th></th>\n",
       "      <th></th>\n",
       "      <th></th>\n",
       "      <th></th>\n",
       "      <th></th>\n",
       "    </tr>\n",
       "  </thead>\n",
       "  <tbody>\n",
       "    <tr>\n",
       "      <th>2008-08-01</th>\n",
       "      <td>CAD=X</td>\n",
       "      <td>1.02340</td>\n",
       "      <td>1.02940</td>\n",
       "      <td>1.02290</td>\n",
       "      <td>1.02460</td>\n",
       "      <td>1.02460</td>\n",
       "      <td>2</td>\n",
       "      <td>0.000000</td>\n",
       "      <td>NaN</td>\n",
       "    </tr>\n",
       "    <tr>\n",
       "      <th>2008-08-04</th>\n",
       "      <td>CAD=X</td>\n",
       "      <td>1.02800</td>\n",
       "      <td>1.03680</td>\n",
       "      <td>1.02620</td>\n",
       "      <td>1.03640</td>\n",
       "      <td>1.03640</td>\n",
       "      <td>8</td>\n",
       "      <td>0.011517</td>\n",
       "      <td>NaN</td>\n",
       "    </tr>\n",
       "    <tr>\n",
       "      <th>2008-08-05</th>\n",
       "      <td>CAD=X</td>\n",
       "      <td>1.03630</td>\n",
       "      <td>1.04480</td>\n",
       "      <td>1.03630</td>\n",
       "      <td>1.04260</td>\n",
       "      <td>1.04260</td>\n",
       "      <td>14</td>\n",
       "      <td>0.005982</td>\n",
       "      <td>NaN</td>\n",
       "    </tr>\n",
       "    <tr>\n",
       "      <th>2008-08-06</th>\n",
       "      <td>CAD=X</td>\n",
       "      <td>1.04260</td>\n",
       "      <td>1.04930</td>\n",
       "      <td>1.04000</td>\n",
       "      <td>1.04750</td>\n",
       "      <td>1.04750</td>\n",
       "      <td>20</td>\n",
       "      <td>0.004700</td>\n",
       "      <td>NaN</td>\n",
       "    </tr>\n",
       "    <tr>\n",
       "      <th>2008-08-07</th>\n",
       "      <td>CAD=X</td>\n",
       "      <td>1.04760</td>\n",
       "      <td>1.05330</td>\n",
       "      <td>1.04490</td>\n",
       "      <td>1.05200</td>\n",
       "      <td>1.05200</td>\n",
       "      <td>26</td>\n",
       "      <td>0.004296</td>\n",
       "      <td>1.040620</td>\n",
       "    </tr>\n",
       "    <tr>\n",
       "      <th>...</th>\n",
       "      <td>...</td>\n",
       "      <td>...</td>\n",
       "      <td>...</td>\n",
       "      <td>...</td>\n",
       "      <td>...</td>\n",
       "      <td>...</td>\n",
       "      <td>...</td>\n",
       "      <td>...</td>\n",
       "      <td>...</td>\n",
       "    </tr>\n",
       "    <tr>\n",
       "      <th>2023-07-24</th>\n",
       "      <td>CAD=X</td>\n",
       "      <td>1.32240</td>\n",
       "      <td>1.32276</td>\n",
       "      <td>1.31542</td>\n",
       "      <td>1.32240</td>\n",
       "      <td>1.32240</td>\n",
       "      <td>38937</td>\n",
       "      <td>0.003780</td>\n",
       "      <td>1.318578</td>\n",
       "    </tr>\n",
       "    <tr>\n",
       "      <th>2023-07-25</th>\n",
       "      <td>CAD=X</td>\n",
       "      <td>1.31746</td>\n",
       "      <td>1.32095</td>\n",
       "      <td>1.31466</td>\n",
       "      <td>1.31746</td>\n",
       "      <td>1.31746</td>\n",
       "      <td>38947</td>\n",
       "      <td>-0.003736</td>\n",
       "      <td>1.318040</td>\n",
       "    </tr>\n",
       "    <tr>\n",
       "      <th>2023-07-26</th>\n",
       "      <td>CAD=X</td>\n",
       "      <td>1.31871</td>\n",
       "      <td>1.32352</td>\n",
       "      <td>1.31720</td>\n",
       "      <td>1.31871</td>\n",
       "      <td>1.31871</td>\n",
       "      <td>38957</td>\n",
       "      <td>0.000949</td>\n",
       "      <td>1.318458</td>\n",
       "    </tr>\n",
       "    <tr>\n",
       "      <th>2023-07-27</th>\n",
       "      <td>CAD=X</td>\n",
       "      <td>1.32046</td>\n",
       "      <td>1.32039</td>\n",
       "      <td>1.31580</td>\n",
       "      <td>1.32046</td>\n",
       "      <td>1.32046</td>\n",
       "      <td>38967</td>\n",
       "      <td>0.001327</td>\n",
       "      <td>1.319290</td>\n",
       "    </tr>\n",
       "    <tr>\n",
       "      <th>2023-07-28</th>\n",
       "      <td>CAD=X</td>\n",
       "      <td>1.32270</td>\n",
       "      <td>1.32473</td>\n",
       "      <td>1.32061</td>\n",
       "      <td>1.32270</td>\n",
       "      <td>1.32270</td>\n",
       "      <td>38977</td>\n",
       "      <td>0.001696</td>\n",
       "      <td>1.320346</td>\n",
       "    </tr>\n",
       "  </tbody>\n",
       "</table>\n",
       "<p>3905 rows × 9 columns</p>\n",
       "</div>"
      ],
      "text/plain": [
       "           Ticker     Open     High      Low    Close  Adj Close   Time  \\\n",
       "Date                                                                      \n",
       "2008-08-01  CAD=X  1.02340  1.02940  1.02290  1.02460    1.02460      2   \n",
       "2008-08-04  CAD=X  1.02800  1.03680  1.02620  1.03640    1.03640      8   \n",
       "2008-08-05  CAD=X  1.03630  1.04480  1.03630  1.04260    1.04260     14   \n",
       "2008-08-06  CAD=X  1.04260  1.04930  1.04000  1.04750    1.04750     20   \n",
       "2008-08-07  CAD=X  1.04760  1.05330  1.04490  1.05200    1.05200     26   \n",
       "...           ...      ...      ...      ...      ...        ...    ...   \n",
       "2023-07-24  CAD=X  1.32240  1.32276  1.31542  1.32240    1.32240  38937   \n",
       "2023-07-25  CAD=X  1.31746  1.32095  1.31466  1.31746    1.31746  38947   \n",
       "2023-07-26  CAD=X  1.31871  1.32352  1.31720  1.31871    1.31871  38957   \n",
       "2023-07-27  CAD=X  1.32046  1.32039  1.31580  1.32046    1.32046  38967   \n",
       "2023-07-28  CAD=X  1.32270  1.32473  1.32061  1.32270    1.32270  38977   \n",
       "\n",
       "            Close_pct_change  Moving_Average  \n",
       "Date                                          \n",
       "2008-08-01          0.000000             NaN  \n",
       "2008-08-04          0.011517             NaN  \n",
       "2008-08-05          0.005982             NaN  \n",
       "2008-08-06          0.004700             NaN  \n",
       "2008-08-07          0.004296        1.040620  \n",
       "...                      ...             ...  \n",
       "2023-07-24          0.003780        1.318578  \n",
       "2023-07-25         -0.003736        1.318040  \n",
       "2023-07-26          0.000949        1.318458  \n",
       "2023-07-27          0.001327        1.319290  \n",
       "2023-07-28          0.001696        1.320346  \n",
       "\n",
       "[3905 rows x 9 columns]"
      ]
     },
     "execution_count": 51,
     "metadata": {},
     "output_type": "execute_result"
    }
   ],
   "source": [
    "df2_2022"
   ]
  },
  {
   "cell_type": "code",
   "execution_count": 52,
   "id": "7f03f8e3",
   "metadata": {},
   "outputs": [],
   "source": [
    "# Filter the data for the year 2022\n",
    "df2_2022 = df.loc['2022-01-01':'2022-12-31']"
   ]
  },
  {
   "cell_type": "code",
   "execution_count": 53,
   "id": "5286ff61",
   "metadata": {},
   "outputs": [
    {
     "data": {
      "text/html": [
       "<div>\n",
       "<style scoped>\n",
       "    .dataframe tbody tr th:only-of-type {\n",
       "        vertical-align: middle;\n",
       "    }\n",
       "\n",
       "    .dataframe tbody tr th {\n",
       "        vertical-align: top;\n",
       "    }\n",
       "\n",
       "    .dataframe thead th {\n",
       "        text-align: right;\n",
       "    }\n",
       "</style>\n",
       "<table border=\"1\" class=\"dataframe\">\n",
       "  <thead>\n",
       "    <tr style=\"text-align: right;\">\n",
       "      <th></th>\n",
       "      <th>Ticker</th>\n",
       "      <th>Open</th>\n",
       "      <th>High</th>\n",
       "      <th>Low</th>\n",
       "      <th>Close</th>\n",
       "      <th>Adj Close</th>\n",
       "      <th>Time</th>\n",
       "      <th>Close_pct_change</th>\n",
       "      <th>Moving_Average</th>\n",
       "    </tr>\n",
       "    <tr>\n",
       "      <th>Date</th>\n",
       "      <th></th>\n",
       "      <th></th>\n",
       "      <th></th>\n",
       "      <th></th>\n",
       "      <th></th>\n",
       "      <th></th>\n",
       "      <th></th>\n",
       "      <th></th>\n",
       "      <th></th>\n",
       "    </tr>\n",
       "  </thead>\n",
       "  <tbody>\n",
       "    <tr>\n",
       "      <th>2022-01-03</th>\n",
       "      <td>CAD=X</td>\n",
       "      <td>1.26571</td>\n",
       "      <td>1.27781</td>\n",
       "      <td>1.26440</td>\n",
       "      <td>1.26588</td>\n",
       "      <td>1.26588</td>\n",
       "      <td>34887</td>\n",
       "      <td>-0.006717</td>\n",
       "      <td>1.275716</td>\n",
       "    </tr>\n",
       "    <tr>\n",
       "      <th>2022-01-04</th>\n",
       "      <td>CAD=X</td>\n",
       "      <td>1.27514</td>\n",
       "      <td>1.27656</td>\n",
       "      <td>1.26672</td>\n",
       "      <td>1.27513</td>\n",
       "      <td>1.27513</td>\n",
       "      <td>34897</td>\n",
       "      <td>0.007307</td>\n",
       "      <td>1.275002</td>\n",
       "    </tr>\n",
       "    <tr>\n",
       "      <th>2022-01-05</th>\n",
       "      <td>CAD=X</td>\n",
       "      <td>1.27035</td>\n",
       "      <td>1.27392</td>\n",
       "      <td>1.26911</td>\n",
       "      <td>1.27044</td>\n",
       "      <td>1.27044</td>\n",
       "      <td>34907</td>\n",
       "      <td>-0.003678</td>\n",
       "      <td>1.272830</td>\n",
       "    </tr>\n",
       "    <tr>\n",
       "      <th>2022-01-06</th>\n",
       "      <td>CAD=X</td>\n",
       "      <td>1.27576</td>\n",
       "      <td>1.28133</td>\n",
       "      <td>1.27226</td>\n",
       "      <td>1.27601</td>\n",
       "      <td>1.27601</td>\n",
       "      <td>34917</td>\n",
       "      <td>0.004384</td>\n",
       "      <td>1.272380</td>\n",
       "    </tr>\n",
       "    <tr>\n",
       "      <th>2022-01-07</th>\n",
       "      <td>CAD=X</td>\n",
       "      <td>1.27269</td>\n",
       "      <td>1.27296</td>\n",
       "      <td>1.26426</td>\n",
       "      <td>1.27302</td>\n",
       "      <td>1.27302</td>\n",
       "      <td>34927</td>\n",
       "      <td>-0.002343</td>\n",
       "      <td>1.272096</td>\n",
       "    </tr>\n",
       "    <tr>\n",
       "      <th>...</th>\n",
       "      <td>...</td>\n",
       "      <td>...</td>\n",
       "      <td>...</td>\n",
       "      <td>...</td>\n",
       "      <td>...</td>\n",
       "      <td>...</td>\n",
       "      <td>...</td>\n",
       "      <td>...</td>\n",
       "      <td>...</td>\n",
       "    </tr>\n",
       "    <tr>\n",
       "      <th>2022-12-26</th>\n",
       "      <td>CAD=X</td>\n",
       "      <td>1.35897</td>\n",
       "      <td>1.36330</td>\n",
       "      <td>1.35458</td>\n",
       "      <td>1.35897</td>\n",
       "      <td>1.35897</td>\n",
       "      <td>37437</td>\n",
       "      <td>-0.003454</td>\n",
       "      <td>1.361632</td>\n",
       "    </tr>\n",
       "    <tr>\n",
       "      <th>2022-12-27</th>\n",
       "      <td>CAD=X</td>\n",
       "      <td>1.35570</td>\n",
       "      <td>1.35680</td>\n",
       "      <td>1.34846</td>\n",
       "      <td>1.35570</td>\n",
       "      <td>1.35570</td>\n",
       "      <td>37447</td>\n",
       "      <td>-0.002406</td>\n",
       "      <td>1.359912</td>\n",
       "    </tr>\n",
       "    <tr>\n",
       "      <th>2022-12-28</th>\n",
       "      <td>CAD=X</td>\n",
       "      <td>1.35250</td>\n",
       "      <td>1.35983</td>\n",
       "      <td>1.34861</td>\n",
       "      <td>1.35250</td>\n",
       "      <td>1.35250</td>\n",
       "      <td>37457</td>\n",
       "      <td>-0.002360</td>\n",
       "      <td>1.358424</td>\n",
       "    </tr>\n",
       "    <tr>\n",
       "      <th>2022-12-29</th>\n",
       "      <td>CAD=X</td>\n",
       "      <td>1.35994</td>\n",
       "      <td>1.36076</td>\n",
       "      <td>1.35445</td>\n",
       "      <td>1.35994</td>\n",
       "      <td>1.35994</td>\n",
       "      <td>37467</td>\n",
       "      <td>0.005501</td>\n",
       "      <td>1.358158</td>\n",
       "    </tr>\n",
       "    <tr>\n",
       "      <th>2022-12-30</th>\n",
       "      <td>CAD=X</td>\n",
       "      <td>1.35520</td>\n",
       "      <td>1.35788</td>\n",
       "      <td>1.35145</td>\n",
       "      <td>1.35520</td>\n",
       "      <td>1.35520</td>\n",
       "      <td>37477</td>\n",
       "      <td>-0.003485</td>\n",
       "      <td>1.356462</td>\n",
       "    </tr>\n",
       "  </tbody>\n",
       "</table>\n",
       "<p>260 rows × 9 columns</p>\n",
       "</div>"
      ],
      "text/plain": [
       "           Ticker     Open     High      Low    Close  Adj Close   Time  \\\n",
       "Date                                                                      \n",
       "2022-01-03  CAD=X  1.26571  1.27781  1.26440  1.26588    1.26588  34887   \n",
       "2022-01-04  CAD=X  1.27514  1.27656  1.26672  1.27513    1.27513  34897   \n",
       "2022-01-05  CAD=X  1.27035  1.27392  1.26911  1.27044    1.27044  34907   \n",
       "2022-01-06  CAD=X  1.27576  1.28133  1.27226  1.27601    1.27601  34917   \n",
       "2022-01-07  CAD=X  1.27269  1.27296  1.26426  1.27302    1.27302  34927   \n",
       "...           ...      ...      ...      ...      ...        ...    ...   \n",
       "2022-12-26  CAD=X  1.35897  1.36330  1.35458  1.35897    1.35897  37437   \n",
       "2022-12-27  CAD=X  1.35570  1.35680  1.34846  1.35570    1.35570  37447   \n",
       "2022-12-28  CAD=X  1.35250  1.35983  1.34861  1.35250    1.35250  37457   \n",
       "2022-12-29  CAD=X  1.35994  1.36076  1.35445  1.35994    1.35994  37467   \n",
       "2022-12-30  CAD=X  1.35520  1.35788  1.35145  1.35520    1.35520  37477   \n",
       "\n",
       "            Close_pct_change  Moving_Average  \n",
       "Date                                          \n",
       "2022-01-03         -0.006717        1.275716  \n",
       "2022-01-04          0.007307        1.275002  \n",
       "2022-01-05         -0.003678        1.272830  \n",
       "2022-01-06          0.004384        1.272380  \n",
       "2022-01-07         -0.002343        1.272096  \n",
       "...                      ...             ...  \n",
       "2022-12-26         -0.003454        1.361632  \n",
       "2022-12-27         -0.002406        1.359912  \n",
       "2022-12-28         -0.002360        1.358424  \n",
       "2022-12-29          0.005501        1.358158  \n",
       "2022-12-30         -0.003485        1.356462  \n",
       "\n",
       "[260 rows x 9 columns]"
      ]
     },
     "execution_count": 53,
     "metadata": {},
     "output_type": "execute_result"
    }
   ],
   "source": [
    "df2_2022"
   ]
  },
  {
   "cell_type": "markdown",
   "id": "7096bd9b",
   "metadata": {},
   "source": [
    "Choosing the variables/features of interest for X"
   ]
  },
  {
   "cell_type": "code",
   "execution_count": 54,
   "id": "ec09088c",
   "metadata": {},
   "outputs": [],
   "source": [
    "# Split the data into features (including the new feature) and target\n",
    "X2_2022 = df2_2022[['Open', 'High', 'Low', 'Moving_Average', 'Close_pct_change']]  # Include the new feature\n",
    "y2_2022 = df2_2022['Close']"
   ]
  },
  {
   "cell_type": "code",
   "execution_count": 55,
   "id": "0cc5bcfb",
   "metadata": {},
   "outputs": [
    {
     "data": {
      "text/html": [
       "<div>\n",
       "<style scoped>\n",
       "    .dataframe tbody tr th:only-of-type {\n",
       "        vertical-align: middle;\n",
       "    }\n",
       "\n",
       "    .dataframe tbody tr th {\n",
       "        vertical-align: top;\n",
       "    }\n",
       "\n",
       "    .dataframe thead th {\n",
       "        text-align: right;\n",
       "    }\n",
       "</style>\n",
       "<table border=\"1\" class=\"dataframe\">\n",
       "  <thead>\n",
       "    <tr style=\"text-align: right;\">\n",
       "      <th></th>\n",
       "      <th>Open</th>\n",
       "      <th>High</th>\n",
       "      <th>Low</th>\n",
       "      <th>Moving_Average</th>\n",
       "      <th>Close_pct_change</th>\n",
       "    </tr>\n",
       "    <tr>\n",
       "      <th>Date</th>\n",
       "      <th></th>\n",
       "      <th></th>\n",
       "      <th></th>\n",
       "      <th></th>\n",
       "      <th></th>\n",
       "    </tr>\n",
       "  </thead>\n",
       "  <tbody>\n",
       "    <tr>\n",
       "      <th>2022-01-03</th>\n",
       "      <td>1.26571</td>\n",
       "      <td>1.27781</td>\n",
       "      <td>1.26440</td>\n",
       "      <td>1.275716</td>\n",
       "      <td>-0.006717</td>\n",
       "    </tr>\n",
       "    <tr>\n",
       "      <th>2022-01-04</th>\n",
       "      <td>1.27514</td>\n",
       "      <td>1.27656</td>\n",
       "      <td>1.26672</td>\n",
       "      <td>1.275002</td>\n",
       "      <td>0.007307</td>\n",
       "    </tr>\n",
       "    <tr>\n",
       "      <th>2022-01-05</th>\n",
       "      <td>1.27035</td>\n",
       "      <td>1.27392</td>\n",
       "      <td>1.26911</td>\n",
       "      <td>1.272830</td>\n",
       "      <td>-0.003678</td>\n",
       "    </tr>\n",
       "    <tr>\n",
       "      <th>2022-01-06</th>\n",
       "      <td>1.27576</td>\n",
       "      <td>1.28133</td>\n",
       "      <td>1.27226</td>\n",
       "      <td>1.272380</td>\n",
       "      <td>0.004384</td>\n",
       "    </tr>\n",
       "    <tr>\n",
       "      <th>2022-01-07</th>\n",
       "      <td>1.27269</td>\n",
       "      <td>1.27296</td>\n",
       "      <td>1.26426</td>\n",
       "      <td>1.272096</td>\n",
       "      <td>-0.002343</td>\n",
       "    </tr>\n",
       "    <tr>\n",
       "      <th>...</th>\n",
       "      <td>...</td>\n",
       "      <td>...</td>\n",
       "      <td>...</td>\n",
       "      <td>...</td>\n",
       "      <td>...</td>\n",
       "    </tr>\n",
       "    <tr>\n",
       "      <th>2022-12-26</th>\n",
       "      <td>1.35897</td>\n",
       "      <td>1.36330</td>\n",
       "      <td>1.35458</td>\n",
       "      <td>1.361632</td>\n",
       "      <td>-0.003454</td>\n",
       "    </tr>\n",
       "    <tr>\n",
       "      <th>2022-12-27</th>\n",
       "      <td>1.35570</td>\n",
       "      <td>1.35680</td>\n",
       "      <td>1.34846</td>\n",
       "      <td>1.359912</td>\n",
       "      <td>-0.002406</td>\n",
       "    </tr>\n",
       "    <tr>\n",
       "      <th>2022-12-28</th>\n",
       "      <td>1.35250</td>\n",
       "      <td>1.35983</td>\n",
       "      <td>1.34861</td>\n",
       "      <td>1.358424</td>\n",
       "      <td>-0.002360</td>\n",
       "    </tr>\n",
       "    <tr>\n",
       "      <th>2022-12-29</th>\n",
       "      <td>1.35994</td>\n",
       "      <td>1.36076</td>\n",
       "      <td>1.35445</td>\n",
       "      <td>1.358158</td>\n",
       "      <td>0.005501</td>\n",
       "    </tr>\n",
       "    <tr>\n",
       "      <th>2022-12-30</th>\n",
       "      <td>1.35520</td>\n",
       "      <td>1.35788</td>\n",
       "      <td>1.35145</td>\n",
       "      <td>1.356462</td>\n",
       "      <td>-0.003485</td>\n",
       "    </tr>\n",
       "  </tbody>\n",
       "</table>\n",
       "<p>260 rows × 5 columns</p>\n",
       "</div>"
      ],
      "text/plain": [
       "               Open     High      Low  Moving_Average  Close_pct_change\n",
       "Date                                                                   \n",
       "2022-01-03  1.26571  1.27781  1.26440        1.275716         -0.006717\n",
       "2022-01-04  1.27514  1.27656  1.26672        1.275002          0.007307\n",
       "2022-01-05  1.27035  1.27392  1.26911        1.272830         -0.003678\n",
       "2022-01-06  1.27576  1.28133  1.27226        1.272380          0.004384\n",
       "2022-01-07  1.27269  1.27296  1.26426        1.272096         -0.002343\n",
       "...             ...      ...      ...             ...               ...\n",
       "2022-12-26  1.35897  1.36330  1.35458        1.361632         -0.003454\n",
       "2022-12-27  1.35570  1.35680  1.34846        1.359912         -0.002406\n",
       "2022-12-28  1.35250  1.35983  1.34861        1.358424         -0.002360\n",
       "2022-12-29  1.35994  1.36076  1.35445        1.358158          0.005501\n",
       "2022-12-30  1.35520  1.35788  1.35145        1.356462         -0.003485\n",
       "\n",
       "[260 rows x 5 columns]"
      ]
     },
     "execution_count": 55,
     "metadata": {},
     "output_type": "execute_result"
    }
   ],
   "source": [
    "X2_2022"
   ]
  },
  {
   "cell_type": "markdown",
   "id": "65d9d8b4",
   "metadata": {},
   "source": [
    "**Train-Test split - 80-20**"
   ]
  },
  {
   "cell_type": "code",
   "execution_count": 56,
   "id": "6b5c2bc6",
   "metadata": {},
   "outputs": [],
   "source": [
    "# Split the data into training and testing sets (80-20 split)\n",
    "# Define split point\n",
    "split_point = int(len(X2_2022) * 0.8)\n",
    "\n",
    "# create X and y splits for training set\n",
    "X2_train = X2_2022.iloc[:split_point]\n",
    "y2_train = y2_2022.iloc[:split_point]\n",
    "\n",
    "# create X and y splits for test set\n",
    "X2_test = X2_2022.iloc[split_point:]\n",
    "y2_test = y2_2022.iloc[split_point:]\n"
   ]
  },
  {
   "cell_type": "markdown",
   "id": "32097b28",
   "metadata": {},
   "source": [
    "Fitting a baseline model"
   ]
  },
  {
   "cell_type": "code",
   "execution_count": 57,
   "id": "fac21f01",
   "metadata": {},
   "outputs": [
    {
     "name": "stdout",
     "output_type": "stream",
     "text": [
      "Baseline Mean Squared Error: 3.242314771184202e-05\n"
     ]
    }
   ],
   "source": [
    "from sklearn.tree import DecisionTreeRegressor\n",
    "from sklearn.metrics import mean_squared_error\n",
    "\n",
    "# Instantiate the decision tree model with default parameters\n",
    "dtree2 = DecisionTreeRegressor()\n",
    "\n",
    "# Fit the model to the training data\n",
    "dtree2.fit(X2_train, y2_train)\n",
    "\n",
    "# Make predictions on the test set\n",
    "predictions2 = dtree2.predict(X2_test)\n",
    "\n",
    "# Calculate the mean squared error\n",
    "mse = mean_squared_error(y2_test, predictions)\n",
    "print(f\"Baseline Mean Squared Error: {mse}\")\n"
   ]
  },
  {
   "cell_type": "markdown",
   "id": "366aeba5",
   "metadata": {},
   "source": [
    "Performing grid search to find best parameters"
   ]
  },
  {
   "cell_type": "code",
   "execution_count": 58,
   "id": "d828a874",
   "metadata": {},
   "outputs": [
    {
     "name": "stdout",
     "output_type": "stream",
     "text": [
      "Best parameters: {'max_depth': 10, 'min_samples_leaf': 1, 'min_samples_split': 2}\n"
     ]
    },
    {
     "data": {
      "text/html": [
       "<style>#sk-container-id-2 {color: black;}#sk-container-id-2 pre{padding: 0;}#sk-container-id-2 div.sk-toggleable {background-color: white;}#sk-container-id-2 label.sk-toggleable__label {cursor: pointer;display: block;width: 100%;margin-bottom: 0;padding: 0.3em;box-sizing: border-box;text-align: center;}#sk-container-id-2 label.sk-toggleable__label-arrow:before {content: \"▸\";float: left;margin-right: 0.25em;color: #696969;}#sk-container-id-2 label.sk-toggleable__label-arrow:hover:before {color: black;}#sk-container-id-2 div.sk-estimator:hover label.sk-toggleable__label-arrow:before {color: black;}#sk-container-id-2 div.sk-toggleable__content {max-height: 0;max-width: 0;overflow: hidden;text-align: left;background-color: #f0f8ff;}#sk-container-id-2 div.sk-toggleable__content pre {margin: 0.2em;color: black;border-radius: 0.25em;background-color: #f0f8ff;}#sk-container-id-2 input.sk-toggleable__control:checked~div.sk-toggleable__content {max-height: 200px;max-width: 100%;overflow: auto;}#sk-container-id-2 input.sk-toggleable__control:checked~label.sk-toggleable__label-arrow:before {content: \"▾\";}#sk-container-id-2 div.sk-estimator input.sk-toggleable__control:checked~label.sk-toggleable__label {background-color: #d4ebff;}#sk-container-id-2 div.sk-label input.sk-toggleable__control:checked~label.sk-toggleable__label {background-color: #d4ebff;}#sk-container-id-2 input.sk-hidden--visually {border: 0;clip: rect(1px 1px 1px 1px);clip: rect(1px, 1px, 1px, 1px);height: 1px;margin: -1px;overflow: hidden;padding: 0;position: absolute;width: 1px;}#sk-container-id-2 div.sk-estimator {font-family: monospace;background-color: #f0f8ff;border: 1px dotted black;border-radius: 0.25em;box-sizing: border-box;margin-bottom: 0.5em;}#sk-container-id-2 div.sk-estimator:hover {background-color: #d4ebff;}#sk-container-id-2 div.sk-parallel-item::after {content: \"\";width: 100%;border-bottom: 1px solid gray;flex-grow: 1;}#sk-container-id-2 div.sk-label:hover label.sk-toggleable__label {background-color: #d4ebff;}#sk-container-id-2 div.sk-serial::before {content: \"\";position: absolute;border-left: 1px solid gray;box-sizing: border-box;top: 0;bottom: 0;left: 50%;z-index: 0;}#sk-container-id-2 div.sk-serial {display: flex;flex-direction: column;align-items: center;background-color: white;padding-right: 0.2em;padding-left: 0.2em;position: relative;}#sk-container-id-2 div.sk-item {position: relative;z-index: 1;}#sk-container-id-2 div.sk-parallel {display: flex;align-items: stretch;justify-content: center;background-color: white;position: relative;}#sk-container-id-2 div.sk-item::before, #sk-container-id-2 div.sk-parallel-item::before {content: \"\";position: absolute;border-left: 1px solid gray;box-sizing: border-box;top: 0;bottom: 0;left: 50%;z-index: -1;}#sk-container-id-2 div.sk-parallel-item {display: flex;flex-direction: column;z-index: 1;position: relative;background-color: white;}#sk-container-id-2 div.sk-parallel-item:first-child::after {align-self: flex-end;width: 50%;}#sk-container-id-2 div.sk-parallel-item:last-child::after {align-self: flex-start;width: 50%;}#sk-container-id-2 div.sk-parallel-item:only-child::after {width: 0;}#sk-container-id-2 div.sk-dashed-wrapped {border: 1px dashed gray;margin: 0 0.4em 0.5em 0.4em;box-sizing: border-box;padding-bottom: 0.4em;background-color: white;}#sk-container-id-2 div.sk-label label {font-family: monospace;font-weight: bold;display: inline-block;line-height: 1.2em;}#sk-container-id-2 div.sk-label-container {text-align: center;}#sk-container-id-2 div.sk-container {/* jupyter's `normalize.less` sets `[hidden] { display: none; }` but bootstrap.min.css set `[hidden] { display: none !important; }` so we also need the `!important` here to be able to override the default hidden behavior on the sphinx rendered scikit-learn.org. See: https://github.com/scikit-learn/scikit-learn/issues/21755 */display: inline-block !important;position: relative;}#sk-container-id-2 div.sk-text-repr-fallback {display: none;}</style><div id=\"sk-container-id-2\" class=\"sk-top-container\"><div class=\"sk-text-repr-fallback\"><pre>DecisionTreeRegressor(max_depth=10)</pre><b>In a Jupyter environment, please rerun this cell to show the HTML representation or trust the notebook. <br />On GitHub, the HTML representation is unable to render, please try loading this page with nbviewer.org.</b></div><div class=\"sk-container\" hidden><div class=\"sk-item\"><div class=\"sk-estimator sk-toggleable\"><input class=\"sk-toggleable__control sk-hidden--visually\" id=\"sk-estimator-id-2\" type=\"checkbox\" checked><label for=\"sk-estimator-id-2\" class=\"sk-toggleable__label sk-toggleable__label-arrow\">DecisionTreeRegressor</label><div class=\"sk-toggleable__content\"><pre>DecisionTreeRegressor(max_depth=10)</pre></div></div></div></div></div>"
      ],
      "text/plain": [
       "DecisionTreeRegressor(max_depth=10)"
      ]
     },
     "execution_count": 58,
     "metadata": {},
     "output_type": "execute_result"
    }
   ],
   "source": [
    "from sklearn.tree import DecisionTreeRegressor\n",
    "from sklearn.model_selection import GridSearchCV\n",
    "\n",
    "# Define the parameter grid\n",
    "param_grid = {\n",
    "    'max_depth': [3, 5, 7, 10],\n",
    "    'min_samples_split': [2, 5, 10],\n",
    "    'min_samples_leaf': [1, 2, 4]\n",
    "}\n",
    "\n",
    "# Instantiate the decision tree model\n",
    "dtree2 = DecisionTreeRegressor()\n",
    "\n",
    "# Instantiate the GridSearchCV object\n",
    "grid_search = GridSearchCV(estimator=dtree2, param_grid=param_grid, cv=5, scoring='neg_mean_squared_error')\n",
    "\n",
    "# Fit the grid search to the data\n",
    "grid_search.fit(X2_train, y2_train)\n",
    "\n",
    "# Get the best parameters\n",
    "best_params = grid_search.best_params_\n",
    "print(\"Best parameters:\", best_params)\n",
    "\n",
    "# Use these best parameters to create a new decision tree model\n",
    "best_dtree = DecisionTreeRegressor(**best_params)\n",
    "best_dtree.fit(X2_train, y2_train)\n"
   ]
  },
  {
   "cell_type": "code",
   "execution_count": 59,
   "id": "3233cacb",
   "metadata": {},
   "outputs": [
    {
     "name": "stdout",
     "output_type": "stream",
     "text": [
      "Mean Squared Error with Best Parameters: 8.550826182366572e-06\n",
      "Mean Absolute Error with Best Parameters: 0.002271737043674201\n",
      "Root Mean Squared Error with Best Parameters: 0.002924179574233869\n",
      "R-squared with Best Parameters: 0.9515412660363429\n"
     ]
    }
   ],
   "source": [
    "# Create a new decision tree model using the best parameters\n",
    "best_dtree = DecisionTreeRegressor(max_depth=7, min_samples_leaf=1, min_samples_split=2)\n",
    "\n",
    "# Fit the model to the training data\n",
    "best_dtree.fit(X2_train, y2_train)\n",
    "\n",
    "# Make predictions on the test set\n",
    "best_predictions = best_dtree.predict(X2_test)\n",
    "\n",
    "# Calculate the mean squared error for the optimized model\n",
    "best_mse = mean_squared_error(y2_test, best_predictions)\n",
    "print(f\"Mean Squared Error with Best Parameters: {best_mse}\")\n",
    "\n",
    "# Calculate the mean absolute error for the optimized model\n",
    "best_mae = mean_absolute_error(y2_test, best_predictions)\n",
    "print(f\"Mean Absolute Error with Best Parameters: {best_mae}\")\n",
    "\n",
    "# Calculate the root mean squared error for the optimized model\n",
    "best_rmse = sqrt(best_mse)\n",
    "print(f\"Root Mean Squared Error with Best Parameters: {best_rmse}\")\n",
    "\n",
    "# Calculate the R-squared value for the optimized model\n",
    "best_r2 = best_dtree.score(X2_test, y2_test)\n",
    "print(f\"R-squared with Best Parameters: {best_r2}\")"
   ]
  },
  {
   "cell_type": "markdown",
   "id": "7a26a418",
   "metadata": {},
   "source": [
    "**Plotting the actual versus predictions for visual inspection**"
   ]
  },
  {
   "cell_type": "code",
   "execution_count": 61,
   "id": "bcb25f12",
   "metadata": {},
   "outputs": [
    {
     "data": {
      "image/png": "[encoded data removed]",
      "text/plain": [
       "<Figure size 1200x600 with 1 Axes>"
      ]
     },
     "metadata": {},
     "output_type": "display_data"
    }
   ],
   "source": [
    "import matplotlib.dates as mdates\n",
    "\n",
    "\n",
    "# Convert the indices to datetime format\n",
    "y2_train.index = pd.to_datetime(y2_train.index)\n",
    "y2_test.index = pd.to_datetime(y2_test.index)\n",
    "\n",
    "# Make predictions on the training set for plotting purposes\n",
    "train_predictions = best_dtree.predict(X2_train)\n",
    "\n",
    "# Create a figure and axis\n",
    "plt.figure(figsize=(12, 6))\n",
    "plt.plot(y2_train.index, y2_train, label='Actual Train', color='blue')\n",
    "plt.plot(y2_train.index, train_predictions, label='Predicted Train', color='blue', linestyle='--')\n",
    "plt.plot(y2_test.index, y2_test, label='Actual Test', color='red')\n",
    "plt.plot(y2_test.index, best_predictions, label='Predicted Test', color='green', linestyle='--')\n",
    "\n",
    "# Add labels and title\n",
    "plt.xlabel('Date')\n",
    "plt.ylabel('Close Price')\n",
    "plt.title('Actual vs Predicted Close Prices for 2022')\n",
    "plt.legend()\n",
    "\n",
    "# Format the x-axis\n",
    "plt.gca().xaxis.set_major_formatter(mdates.DateFormatter('%Y-%m-%d'))\n",
    "plt.gca().xaxis.set_major_locator(mdates.MonthLocator(interval=2))  # Adjust the interval as needed\n",
    "\n",
    "# Show the plot\n",
    "plt.show()\n"
   ]
  },
  {
   "cell_type": "code",
   "execution_count": 64,
   "id": "a2cd7ae4",
   "metadata": {},
   "outputs": [
    {
     "name": "stdout",
     "output_type": "stream",
     "text": [
      "Training MSE: 4.538285062475157e-08\n",
      "Testing MSE: 8.550826182366572e-06\n",
      "The model may be overfitting.\n"
     ]
    }
   ],
   "source": [
    "# Calculate MSE for the training set\n",
    "train_mse = mean_squared_error(y_train, train_predictions)\n",
    "\n",
    "# Calculate MSE for the testing set\n",
    "test_mse = mean_squared_error(y_test, best_predictions)\n",
    "\n",
    "print(f\"Training MSE: {train_mse}\")\n",
    "print(f\"Testing MSE: {test_mse}\")\n",
    "\n",
    "# Compare the MSE values\n",
    "if train_mse < test_mse:\n",
    "    print(\"The model may be overfitting.\")\n",
    "else:\n",
    "    print(\"The model is likely generalizing well.\")\n"
   ]
  },
  {
   "cell_type": "markdown",
   "id": "1f720cc0",
   "metadata": {},
   "source": [
    "**Conclusion**"
   ]
  },
  {
   "cell_type": "markdown",
   "id": "7154c819",
   "metadata": {},
   "source": [
    "With the above results, decision tree models are highly likely to overfit with a small dataset in this case. The maybe other complex reasons for this including feature selection. Also, MSE may not be capturing fully, the model's ability to generalize.\n",
    "\n",
    "However, MSE comparison doesn't necessarily explain the possible overfitting. The likelihood of the features' collinearity (which has been covered in the initial EDA) and the ability to predict the target variable making it possible to predict the target variable."
   ]
  },
  {
   "cell_type": "markdown",
   "id": "371551ae",
   "metadata": {},
   "source": [
    "**Analysis for the year 2021**"
   ]
  },
  {
   "cell_type": "markdown",
   "id": "71dd7d04",
   "metadata": {},
   "source": [
    "Doing a fresh import of the dataset for the currency pair CAD=X"
   ]
  },
  {
   "cell_type": "code",
   "execution_count": 65,
   "id": "03299a7f",
   "metadata": {},
   "outputs": [
    {
     "data": {
      "text/html": [
       "<div>\n",
       "<style scoped>\n",
       "    .dataframe tbody tr th:only-of-type {\n",
       "        vertical-align: middle;\n",
       "    }\n",
       "\n",
       "    .dataframe tbody tr th {\n",
       "        vertical-align: top;\n",
       "    }\n",
       "\n",
       "    .dataframe thead th {\n",
       "        text-align: right;\n",
       "    }\n",
       "</style>\n",
       "<table border=\"1\" class=\"dataframe\">\n",
       "  <thead>\n",
       "    <tr style=\"text-align: right;\">\n",
       "      <th></th>\n",
       "      <th>Ticker</th>\n",
       "      <th>Open</th>\n",
       "      <th>High</th>\n",
       "      <th>Low</th>\n",
       "      <th>Close</th>\n",
       "      <th>Adj Close</th>\n",
       "      <th>Time</th>\n",
       "    </tr>\n",
       "    <tr>\n",
       "      <th>Date</th>\n",
       "      <th></th>\n",
       "      <th></th>\n",
       "      <th></th>\n",
       "      <th></th>\n",
       "      <th></th>\n",
       "      <th></th>\n",
       "      <th></th>\n",
       "    </tr>\n",
       "  </thead>\n",
       "  <tbody>\n",
       "    <tr>\n",
       "      <th>2008-08-01</th>\n",
       "      <td>CAD=X</td>\n",
       "      <td>1.02340</td>\n",
       "      <td>1.02940</td>\n",
       "      <td>1.02290</td>\n",
       "      <td>1.02460</td>\n",
       "      <td>1.02460</td>\n",
       "      <td>2</td>\n",
       "    </tr>\n",
       "    <tr>\n",
       "      <th>2008-08-04</th>\n",
       "      <td>CAD=X</td>\n",
       "      <td>1.02800</td>\n",
       "      <td>1.03680</td>\n",
       "      <td>1.02620</td>\n",
       "      <td>1.03640</td>\n",
       "      <td>1.03640</td>\n",
       "      <td>8</td>\n",
       "    </tr>\n",
       "    <tr>\n",
       "      <th>2008-08-05</th>\n",
       "      <td>CAD=X</td>\n",
       "      <td>1.03630</td>\n",
       "      <td>1.04480</td>\n",
       "      <td>1.03630</td>\n",
       "      <td>1.04260</td>\n",
       "      <td>1.04260</td>\n",
       "      <td>14</td>\n",
       "    </tr>\n",
       "    <tr>\n",
       "      <th>2008-08-06</th>\n",
       "      <td>CAD=X</td>\n",
       "      <td>1.04260</td>\n",
       "      <td>1.04930</td>\n",
       "      <td>1.04000</td>\n",
       "      <td>1.04750</td>\n",
       "      <td>1.04750</td>\n",
       "      <td>20</td>\n",
       "    </tr>\n",
       "    <tr>\n",
       "      <th>2008-08-07</th>\n",
       "      <td>CAD=X</td>\n",
       "      <td>1.04760</td>\n",
       "      <td>1.05330</td>\n",
       "      <td>1.04490</td>\n",
       "      <td>1.05200</td>\n",
       "      <td>1.05200</td>\n",
       "      <td>26</td>\n",
       "    </tr>\n",
       "    <tr>\n",
       "      <th>...</th>\n",
       "      <td>...</td>\n",
       "      <td>...</td>\n",
       "      <td>...</td>\n",
       "      <td>...</td>\n",
       "      <td>...</td>\n",
       "      <td>...</td>\n",
       "      <td>...</td>\n",
       "    </tr>\n",
       "    <tr>\n",
       "      <th>2023-07-24</th>\n",
       "      <td>CAD=X</td>\n",
       "      <td>1.32240</td>\n",
       "      <td>1.32276</td>\n",
       "      <td>1.31542</td>\n",
       "      <td>1.32240</td>\n",
       "      <td>1.32240</td>\n",
       "      <td>38937</td>\n",
       "    </tr>\n",
       "    <tr>\n",
       "      <th>2023-07-25</th>\n",
       "      <td>CAD=X</td>\n",
       "      <td>1.31746</td>\n",
       "      <td>1.32095</td>\n",
       "      <td>1.31466</td>\n",
       "      <td>1.31746</td>\n",
       "      <td>1.31746</td>\n",
       "      <td>38947</td>\n",
       "    </tr>\n",
       "    <tr>\n",
       "      <th>2023-07-26</th>\n",
       "      <td>CAD=X</td>\n",
       "      <td>1.31871</td>\n",
       "      <td>1.32352</td>\n",
       "      <td>1.31720</td>\n",
       "      <td>1.31871</td>\n",
       "      <td>1.31871</td>\n",
       "      <td>38957</td>\n",
       "    </tr>\n",
       "    <tr>\n",
       "      <th>2023-07-27</th>\n",
       "      <td>CAD=X</td>\n",
       "      <td>1.32046</td>\n",
       "      <td>1.32039</td>\n",
       "      <td>1.31580</td>\n",
       "      <td>1.32046</td>\n",
       "      <td>1.32046</td>\n",
       "      <td>38967</td>\n",
       "    </tr>\n",
       "    <tr>\n",
       "      <th>2023-07-28</th>\n",
       "      <td>CAD=X</td>\n",
       "      <td>1.32270</td>\n",
       "      <td>1.32473</td>\n",
       "      <td>1.32061</td>\n",
       "      <td>1.32270</td>\n",
       "      <td>1.32270</td>\n",
       "      <td>38977</td>\n",
       "    </tr>\n",
       "  </tbody>\n",
       "</table>\n",
       "<p>3905 rows × 7 columns</p>\n",
       "</div>"
      ],
      "text/plain": [
       "           Ticker     Open     High      Low    Close  Adj Close   Time\n",
       "Date                                                                   \n",
       "2008-08-01  CAD=X  1.02340  1.02940  1.02290  1.02460    1.02460      2\n",
       "2008-08-04  CAD=X  1.02800  1.03680  1.02620  1.03640    1.03640      8\n",
       "2008-08-05  CAD=X  1.03630  1.04480  1.03630  1.04260    1.04260     14\n",
       "2008-08-06  CAD=X  1.04260  1.04930  1.04000  1.04750    1.04750     20\n",
       "2008-08-07  CAD=X  1.04760  1.05330  1.04490  1.05200    1.05200     26\n",
       "...           ...      ...      ...      ...      ...        ...    ...\n",
       "2023-07-24  CAD=X  1.32240  1.32276  1.31542  1.32240    1.32240  38937\n",
       "2023-07-25  CAD=X  1.31746  1.32095  1.31466  1.31746    1.31746  38947\n",
       "2023-07-26  CAD=X  1.31871  1.32352  1.31720  1.31871    1.31871  38957\n",
       "2023-07-27  CAD=X  1.32046  1.32039  1.31580  1.32046    1.32046  38967\n",
       "2023-07-28  CAD=X  1.32270  1.32473  1.32061  1.32270    1.32270  38977\n",
       "\n",
       "[3905 rows x 7 columns]"
      ]
     },
     "execution_count": 65,
     "metadata": {},
     "output_type": "execute_result"
    }
   ],
   "source": [
    "# Import the CAD=X currency pair data from the CSV file\n",
    "df2 = pd.read_csv('cad_x_currency_data.csv', index_col=0)\n",
    "df2"
   ]
  },
  {
   "cell_type": "markdown",
   "id": "a693cc43",
   "metadata": {},
   "source": [
    "Selecting year-specific data points"
   ]
  },
  {
   "cell_type": "code",
   "execution_count": 66,
   "id": "b4b9df09",
   "metadata": {},
   "outputs": [],
   "source": [
    "# Select the data for the year of interest\n",
    "df2_2021 = df2.loc['2021-01-01':'2021-12-31']"
   ]
  },
  {
   "cell_type": "code",
   "execution_count": 67,
   "id": "384e8bef",
   "metadata": {},
   "outputs": [
    {
     "data": {
      "text/html": [
       "<div>\n",
       "<style scoped>\n",
       "    .dataframe tbody tr th:only-of-type {\n",
       "        vertical-align: middle;\n",
       "    }\n",
       "\n",
       "    .dataframe tbody tr th {\n",
       "        vertical-align: top;\n",
       "    }\n",
       "\n",
       "    .dataframe thead th {\n",
       "        text-align: right;\n",
       "    }\n",
       "</style>\n",
       "<table border=\"1\" class=\"dataframe\">\n",
       "  <thead>\n",
       "    <tr style=\"text-align: right;\">\n",
       "      <th></th>\n",
       "      <th>Ticker</th>\n",
       "      <th>Open</th>\n",
       "      <th>High</th>\n",
       "      <th>Low</th>\n",
       "      <th>Close</th>\n",
       "      <th>Adj Close</th>\n",
       "      <th>Time</th>\n",
       "    </tr>\n",
       "    <tr>\n",
       "      <th>Date</th>\n",
       "      <th></th>\n",
       "      <th></th>\n",
       "      <th></th>\n",
       "      <th></th>\n",
       "      <th></th>\n",
       "      <th></th>\n",
       "      <th></th>\n",
       "    </tr>\n",
       "  </thead>\n",
       "  <tbody>\n",
       "    <tr>\n",
       "      <th>2021-01-01</th>\n",
       "      <td>CAD=X</td>\n",
       "      <td>1.23499</td>\n",
       "      <td>1.27290</td>\n",
       "      <td>1.23499</td>\n",
       "      <td>1.23499</td>\n",
       "      <td>1.23499</td>\n",
       "      <td>32277</td>\n",
       "    </tr>\n",
       "    <tr>\n",
       "      <th>2021-01-04</th>\n",
       "      <td>CAD=X</td>\n",
       "      <td>1.27236</td>\n",
       "      <td>1.27859</td>\n",
       "      <td>1.26630</td>\n",
       "      <td>1.27221</td>\n",
       "      <td>1.27221</td>\n",
       "      <td>32287</td>\n",
       "    </tr>\n",
       "    <tr>\n",
       "      <th>2021-01-05</th>\n",
       "      <td>CAD=X</td>\n",
       "      <td>1.27800</td>\n",
       "      <td>1.27884</td>\n",
       "      <td>1.27000</td>\n",
       "      <td>1.27810</td>\n",
       "      <td>1.27810</td>\n",
       "      <td>32297</td>\n",
       "    </tr>\n",
       "    <tr>\n",
       "      <th>2021-01-06</th>\n",
       "      <td>CAD=X</td>\n",
       "      <td>1.26764</td>\n",
       "      <td>1.27186</td>\n",
       "      <td>1.26300</td>\n",
       "      <td>1.26747</td>\n",
       "      <td>1.26747</td>\n",
       "      <td>32307</td>\n",
       "    </tr>\n",
       "    <tr>\n",
       "      <th>2021-01-07</th>\n",
       "      <td>CAD=X</td>\n",
       "      <td>1.26667</td>\n",
       "      <td>1.27327</td>\n",
       "      <td>1.26640</td>\n",
       "      <td>1.26654</td>\n",
       "      <td>1.26654</td>\n",
       "      <td>32317</td>\n",
       "    </tr>\n",
       "    <tr>\n",
       "      <th>...</th>\n",
       "      <td>...</td>\n",
       "      <td>...</td>\n",
       "      <td>...</td>\n",
       "      <td>...</td>\n",
       "      <td>...</td>\n",
       "      <td>...</td>\n",
       "      <td>...</td>\n",
       "    </tr>\n",
       "    <tr>\n",
       "      <th>2021-12-27</th>\n",
       "      <td>CAD=X</td>\n",
       "      <td>1.28142</td>\n",
       "      <td>1.28462</td>\n",
       "      <td>1.27788</td>\n",
       "      <td>1.28140</td>\n",
       "      <td>1.28140</td>\n",
       "      <td>34837</td>\n",
       "    </tr>\n",
       "    <tr>\n",
       "      <th>2021-12-28</th>\n",
       "      <td>CAD=X</td>\n",
       "      <td>1.27882</td>\n",
       "      <td>1.28232</td>\n",
       "      <td>1.27800</td>\n",
       "      <td>1.27870</td>\n",
       "      <td>1.27870</td>\n",
       "      <td>34847</td>\n",
       "    </tr>\n",
       "    <tr>\n",
       "      <th>2021-12-29</th>\n",
       "      <td>CAD=X</td>\n",
       "      <td>1.28140</td>\n",
       "      <td>1.28338</td>\n",
       "      <td>1.27890</td>\n",
       "      <td>1.28130</td>\n",
       "      <td>1.28130</td>\n",
       "      <td>34857</td>\n",
       "    </tr>\n",
       "    <tr>\n",
       "      <th>2021-12-30</th>\n",
       "      <td>CAD=X</td>\n",
       "      <td>1.27829</td>\n",
       "      <td>1.28118</td>\n",
       "      <td>1.27690</td>\n",
       "      <td>1.27826</td>\n",
       "      <td>1.27826</td>\n",
       "      <td>34867</td>\n",
       "    </tr>\n",
       "    <tr>\n",
       "      <th>2021-12-31</th>\n",
       "      <td>CAD=X</td>\n",
       "      <td>1.27430</td>\n",
       "      <td>1.27500</td>\n",
       "      <td>1.26268</td>\n",
       "      <td>1.27444</td>\n",
       "      <td>1.27444</td>\n",
       "      <td>34877</td>\n",
       "    </tr>\n",
       "  </tbody>\n",
       "</table>\n",
       "<p>261 rows × 7 columns</p>\n",
       "</div>"
      ],
      "text/plain": [
       "           Ticker     Open     High      Low    Close  Adj Close   Time\n",
       "Date                                                                   \n",
       "2021-01-01  CAD=X  1.23499  1.27290  1.23499  1.23499    1.23499  32277\n",
       "2021-01-04  CAD=X  1.27236  1.27859  1.26630  1.27221    1.27221  32287\n",
       "2021-01-05  CAD=X  1.27800  1.27884  1.27000  1.27810    1.27810  32297\n",
       "2021-01-06  CAD=X  1.26764  1.27186  1.26300  1.26747    1.26747  32307\n",
       "2021-01-07  CAD=X  1.26667  1.27327  1.26640  1.26654    1.26654  32317\n",
       "...           ...      ...      ...      ...      ...        ...    ...\n",
       "2021-12-27  CAD=X  1.28142  1.28462  1.27788  1.28140    1.28140  34837\n",
       "2021-12-28  CAD=X  1.27882  1.28232  1.27800  1.27870    1.27870  34847\n",
       "2021-12-29  CAD=X  1.28140  1.28338  1.27890  1.28130    1.28130  34857\n",
       "2021-12-30  CAD=X  1.27829  1.28118  1.27690  1.27826    1.27826  34867\n",
       "2021-12-31  CAD=X  1.27430  1.27500  1.26268  1.27444    1.27444  34877\n",
       "\n",
       "[261 rows x 7 columns]"
      ]
     },
     "execution_count": 67,
     "metadata": {},
     "output_type": "execute_result"
    }
   ],
   "source": [
    "df2_2021"
   ]
  },
  {
   "cell_type": "markdown",
   "id": "55e020aa",
   "metadata": {},
   "source": [
    "Feature engineering a feature - percent change"
   ]
  },
  {
   "cell_type": "code",
   "execution_count": 68,
   "id": "9535b780",
   "metadata": {},
   "outputs": [
    {
     "data": {
      "text/html": [
       "<div>\n",
       "<style scoped>\n",
       "    .dataframe tbody tr th:only-of-type {\n",
       "        vertical-align: middle;\n",
       "    }\n",
       "\n",
       "    .dataframe tbody tr th {\n",
       "        vertical-align: top;\n",
       "    }\n",
       "\n",
       "    .dataframe thead th {\n",
       "        text-align: right;\n",
       "    }\n",
       "</style>\n",
       "<table border=\"1\" class=\"dataframe\">\n",
       "  <thead>\n",
       "    <tr style=\"text-align: right;\">\n",
       "      <th></th>\n",
       "      <th>Ticker</th>\n",
       "      <th>Open</th>\n",
       "      <th>High</th>\n",
       "      <th>Low</th>\n",
       "      <th>Close</th>\n",
       "      <th>Adj Close</th>\n",
       "      <th>Time</th>\n",
       "      <th>Close_pct_change</th>\n",
       "    </tr>\n",
       "    <tr>\n",
       "      <th>Date</th>\n",
       "      <th></th>\n",
       "      <th></th>\n",
       "      <th></th>\n",
       "      <th></th>\n",
       "      <th></th>\n",
       "      <th></th>\n",
       "      <th></th>\n",
       "      <th></th>\n",
       "    </tr>\n",
       "  </thead>\n",
       "  <tbody>\n",
       "    <tr>\n",
       "      <th>2021-01-01</th>\n",
       "      <td>CAD=X</td>\n",
       "      <td>1.23499</td>\n",
       "      <td>1.27290</td>\n",
       "      <td>1.23499</td>\n",
       "      <td>1.23499</td>\n",
       "      <td>1.23499</td>\n",
       "      <td>32277</td>\n",
       "      <td>0.000000</td>\n",
       "    </tr>\n",
       "    <tr>\n",
       "      <th>2021-01-04</th>\n",
       "      <td>CAD=X</td>\n",
       "      <td>1.27236</td>\n",
       "      <td>1.27859</td>\n",
       "      <td>1.26630</td>\n",
       "      <td>1.27221</td>\n",
       "      <td>1.27221</td>\n",
       "      <td>32287</td>\n",
       "      <td>0.030138</td>\n",
       "    </tr>\n",
       "    <tr>\n",
       "      <th>2021-01-05</th>\n",
       "      <td>CAD=X</td>\n",
       "      <td>1.27800</td>\n",
       "      <td>1.27884</td>\n",
       "      <td>1.27000</td>\n",
       "      <td>1.27810</td>\n",
       "      <td>1.27810</td>\n",
       "      <td>32297</td>\n",
       "      <td>0.004630</td>\n",
       "    </tr>\n",
       "    <tr>\n",
       "      <th>2021-01-06</th>\n",
       "      <td>CAD=X</td>\n",
       "      <td>1.26764</td>\n",
       "      <td>1.27186</td>\n",
       "      <td>1.26300</td>\n",
       "      <td>1.26747</td>\n",
       "      <td>1.26747</td>\n",
       "      <td>32307</td>\n",
       "      <td>-0.008317</td>\n",
       "    </tr>\n",
       "    <tr>\n",
       "      <th>2021-01-07</th>\n",
       "      <td>CAD=X</td>\n",
       "      <td>1.26667</td>\n",
       "      <td>1.27327</td>\n",
       "      <td>1.26640</td>\n",
       "      <td>1.26654</td>\n",
       "      <td>1.26654</td>\n",
       "      <td>32317</td>\n",
       "      <td>-0.000734</td>\n",
       "    </tr>\n",
       "  </tbody>\n",
       "</table>\n",
       "</div>"
      ],
      "text/plain": [
       "           Ticker     Open     High      Low    Close  Adj Close   Time  \\\n",
       "Date                                                                      \n",
       "2021-01-01  CAD=X  1.23499  1.27290  1.23499  1.23499    1.23499  32277   \n",
       "2021-01-04  CAD=X  1.27236  1.27859  1.26630  1.27221    1.27221  32287   \n",
       "2021-01-05  CAD=X  1.27800  1.27884  1.27000  1.27810    1.27810  32297   \n",
       "2021-01-06  CAD=X  1.26764  1.27186  1.26300  1.26747    1.26747  32307   \n",
       "2021-01-07  CAD=X  1.26667  1.27327  1.26640  1.26654    1.26654  32317   \n",
       "\n",
       "            Close_pct_change  \n",
       "Date                          \n",
       "2021-01-01          0.000000  \n",
       "2021-01-04          0.030138  \n",
       "2021-01-05          0.004630  \n",
       "2021-01-06         -0.008317  \n",
       "2021-01-07         -0.000734  "
      ]
     },
     "execution_count": 68,
     "metadata": {},
     "output_type": "execute_result"
    }
   ],
   "source": [
    "import warnings\n",
    "\n",
    "# Ignore all warnings\n",
    "warnings.filterwarnings('ignore')\n",
    "\n",
    "# Calculate the percentage change in 'Close' rates from the previous day\n",
    "df2_2021['Close_pct_change'] = df2_2021['Close'].pct_change()\n",
    "\n",
    "# The first row will have NaN because there's no previous day to compare with\n",
    "# fill it with 0\n",
    "df2_2021['Close_pct_change'] = df2_2021['Close_pct_change'].fillna(0)\n",
    "\n",
    "# Display the head to confirm the new feature\n",
    "df2_2021.head()"
   ]
  },
  {
   "cell_type": "markdown",
   "id": "f3c4c4d5",
   "metadata": {},
   "source": [
    "Feature engineering a feature - Moving average (5-day moving average)"
   ]
  },
  {
   "cell_type": "code",
   "execution_count": 69,
   "id": "4a7726f7",
   "metadata": {},
   "outputs": [],
   "source": [
    "# Create a new feature (a 5-day moving average of the Close price)\n",
    "df2_2021['Moving_Average'] = df2_2021['Close'].rolling(window=5).mean()"
   ]
  },
  {
   "cell_type": "markdown",
   "id": "76e87cde",
   "metadata": {},
   "source": [
    "Ensuring the successful feature engineering"
   ]
  },
  {
   "cell_type": "code",
   "execution_count": 70,
   "id": "bc2a1cb8",
   "metadata": {},
   "outputs": [
    {
     "data": {
      "text/plain": [
       "(261, 9)"
      ]
     },
     "execution_count": 70,
     "metadata": {},
     "output_type": "execute_result"
    }
   ],
   "source": [
    "df2_2021.shape"
   ]
  },
  {
   "cell_type": "markdown",
   "id": "2d7b1bd0",
   "metadata": {},
   "source": [
    "Ensuring the index is set correctly and also forward filling missing weekends and holiday values"
   ]
  },
  {
   "cell_type": "code",
   "execution_count": 71,
   "id": "6a75d46f",
   "metadata": {},
   "outputs": [
    {
     "data": {
      "text/html": [
       "<div>\n",
       "<style scoped>\n",
       "    .dataframe tbody tr th:only-of-type {\n",
       "        vertical-align: middle;\n",
       "    }\n",
       "\n",
       "    .dataframe tbody tr th {\n",
       "        vertical-align: top;\n",
       "    }\n",
       "\n",
       "    .dataframe thead th {\n",
       "        text-align: right;\n",
       "    }\n",
       "</style>\n",
       "<table border=\"1\" class=\"dataframe\">\n",
       "  <thead>\n",
       "    <tr style=\"text-align: right;\">\n",
       "      <th></th>\n",
       "      <th>Ticker</th>\n",
       "      <th>Open</th>\n",
       "      <th>High</th>\n",
       "      <th>Low</th>\n",
       "      <th>Close</th>\n",
       "      <th>Adj Close</th>\n",
       "      <th>Time</th>\n",
       "      <th>Close_pct_change</th>\n",
       "      <th>Moving_Average</th>\n",
       "    </tr>\n",
       "  </thead>\n",
       "  <tbody>\n",
       "    <tr>\n",
       "      <th>2021-01-01</th>\n",
       "      <td>CAD=X</td>\n",
       "      <td>1.23499</td>\n",
       "      <td>1.27290</td>\n",
       "      <td>1.23499</td>\n",
       "      <td>1.23499</td>\n",
       "      <td>1.23499</td>\n",
       "      <td>32277</td>\n",
       "      <td>0.000000</td>\n",
       "      <td>NaN</td>\n",
       "    </tr>\n",
       "    <tr>\n",
       "      <th>2021-01-02</th>\n",
       "      <td>CAD=X</td>\n",
       "      <td>1.23499</td>\n",
       "      <td>1.27290</td>\n",
       "      <td>1.23499</td>\n",
       "      <td>1.23499</td>\n",
       "      <td>1.23499</td>\n",
       "      <td>32277</td>\n",
       "      <td>0.000000</td>\n",
       "      <td>NaN</td>\n",
       "    </tr>\n",
       "    <tr>\n",
       "      <th>2021-01-03</th>\n",
       "      <td>CAD=X</td>\n",
       "      <td>1.23499</td>\n",
       "      <td>1.27290</td>\n",
       "      <td>1.23499</td>\n",
       "      <td>1.23499</td>\n",
       "      <td>1.23499</td>\n",
       "      <td>32277</td>\n",
       "      <td>0.000000</td>\n",
       "      <td>NaN</td>\n",
       "    </tr>\n",
       "    <tr>\n",
       "      <th>2021-01-04</th>\n",
       "      <td>CAD=X</td>\n",
       "      <td>1.27236</td>\n",
       "      <td>1.27859</td>\n",
       "      <td>1.26630</td>\n",
       "      <td>1.27221</td>\n",
       "      <td>1.27221</td>\n",
       "      <td>32287</td>\n",
       "      <td>0.030138</td>\n",
       "      <td>NaN</td>\n",
       "    </tr>\n",
       "    <tr>\n",
       "      <th>2021-01-05</th>\n",
       "      <td>CAD=X</td>\n",
       "      <td>1.27800</td>\n",
       "      <td>1.27884</td>\n",
       "      <td>1.27000</td>\n",
       "      <td>1.27810</td>\n",
       "      <td>1.27810</td>\n",
       "      <td>32297</td>\n",
       "      <td>0.004630</td>\n",
       "      <td>NaN</td>\n",
       "    </tr>\n",
       "  </tbody>\n",
       "</table>\n",
       "</div>"
      ],
      "text/plain": [
       "           Ticker     Open     High      Low    Close  Adj Close   Time  \\\n",
       "2021-01-01  CAD=X  1.23499  1.27290  1.23499  1.23499    1.23499  32277   \n",
       "2021-01-02  CAD=X  1.23499  1.27290  1.23499  1.23499    1.23499  32277   \n",
       "2021-01-03  CAD=X  1.23499  1.27290  1.23499  1.23499    1.23499  32277   \n",
       "2021-01-04  CAD=X  1.27236  1.27859  1.26630  1.27221    1.27221  32287   \n",
       "2021-01-05  CAD=X  1.27800  1.27884  1.27000  1.27810    1.27810  32297   \n",
       "\n",
       "            Close_pct_change  Moving_Average  \n",
       "2021-01-01          0.000000             NaN  \n",
       "2021-01-02          0.000000             NaN  \n",
       "2021-01-03          0.000000             NaN  \n",
       "2021-01-04          0.030138             NaN  \n",
       "2021-01-05          0.004630             NaN  "
      ]
     },
     "execution_count": 71,
     "metadata": {},
     "output_type": "execute_result"
    }
   ],
   "source": [
    "# Ensure the index is a datetime index\n",
    "df2_2021.index = pd.to_datetime(df2_2021.index)\n",
    "\n",
    "# Create a new index that includes all days in the year, including weekends\n",
    "new_index = pd.date_range(start='2021-01-01', end='2021-12-31', freq='D')\n",
    "\n",
    "# Reindex the DataFrame to include the new index and forward fill the missing values\n",
    "df2_2021 = df2_2021.reindex(new_index, method='ffill')\n",
    "\n",
    "# Display the head to confirm the changes\n",
    "df2_2021.head()\n"
   ]
  },
  {
   "cell_type": "markdown",
   "id": "1ffbf13a",
   "metadata": {},
   "source": [
    "Checking if the previous step was successful"
   ]
  },
  {
   "cell_type": "code",
   "execution_count": 72,
   "id": "03735802",
   "metadata": {},
   "outputs": [
    {
     "data": {
      "text/plain": [
       "(365, 9)"
      ]
     },
     "execution_count": 72,
     "metadata": {},
     "output_type": "execute_result"
    }
   ],
   "source": [
    "df2_2021.shape"
   ]
  },
  {
   "cell_type": "markdown",
   "id": "a08259d0",
   "metadata": {},
   "source": [
    "Selecting the features and target"
   ]
  },
  {
   "cell_type": "code",
   "execution_count": 73,
   "id": "3fa144b7",
   "metadata": {},
   "outputs": [],
   "source": [
    "# Split the data into features and target\n",
    "X_2021 = df2_2021[['Open', 'High', 'Low', 'Moving_Average', 'Close_pct_change']]  # Features\n",
    "y_2021 = df2_2021['Close']"
   ]
  },
  {
   "cell_type": "markdown",
   "id": "766cc882",
   "metadata": {},
   "source": [
    "Checking the dataframe"
   ]
  },
  {
   "cell_type": "code",
   "execution_count": 74,
   "id": "081b7164",
   "metadata": {},
   "outputs": [
    {
     "data": {
      "text/html": [
       "<div>\n",
       "<style scoped>\n",
       "    .dataframe tbody tr th:only-of-type {\n",
       "        vertical-align: middle;\n",
       "    }\n",
       "\n",
       "    .dataframe tbody tr th {\n",
       "        vertical-align: top;\n",
       "    }\n",
       "\n",
       "    .dataframe thead th {\n",
       "        text-align: right;\n",
       "    }\n",
       "</style>\n",
       "<table border=\"1\" class=\"dataframe\">\n",
       "  <thead>\n",
       "    <tr style=\"text-align: right;\">\n",
       "      <th></th>\n",
       "      <th>Open</th>\n",
       "      <th>High</th>\n",
       "      <th>Low</th>\n",
       "      <th>Moving_Average</th>\n",
       "      <th>Close_pct_change</th>\n",
       "    </tr>\n",
       "  </thead>\n",
       "  <tbody>\n",
       "    <tr>\n",
       "      <th>2021-01-01</th>\n",
       "      <td>1.23499</td>\n",
       "      <td>1.27290</td>\n",
       "      <td>1.23499</td>\n",
       "      <td>NaN</td>\n",
       "      <td>0.000000</td>\n",
       "    </tr>\n",
       "    <tr>\n",
       "      <th>2021-01-02</th>\n",
       "      <td>1.23499</td>\n",
       "      <td>1.27290</td>\n",
       "      <td>1.23499</td>\n",
       "      <td>NaN</td>\n",
       "      <td>0.000000</td>\n",
       "    </tr>\n",
       "    <tr>\n",
       "      <th>2021-01-03</th>\n",
       "      <td>1.23499</td>\n",
       "      <td>1.27290</td>\n",
       "      <td>1.23499</td>\n",
       "      <td>NaN</td>\n",
       "      <td>0.000000</td>\n",
       "    </tr>\n",
       "    <tr>\n",
       "      <th>2021-01-04</th>\n",
       "      <td>1.27236</td>\n",
       "      <td>1.27859</td>\n",
       "      <td>1.26630</td>\n",
       "      <td>NaN</td>\n",
       "      <td>0.030138</td>\n",
       "    </tr>\n",
       "    <tr>\n",
       "      <th>2021-01-05</th>\n",
       "      <td>1.27800</td>\n",
       "      <td>1.27884</td>\n",
       "      <td>1.27000</td>\n",
       "      <td>NaN</td>\n",
       "      <td>0.004630</td>\n",
       "    </tr>\n",
       "    <tr>\n",
       "      <th>...</th>\n",
       "      <td>...</td>\n",
       "      <td>...</td>\n",
       "      <td>...</td>\n",
       "      <td>...</td>\n",
       "      <td>...</td>\n",
       "    </tr>\n",
       "    <tr>\n",
       "      <th>2021-12-27</th>\n",
       "      <td>1.28142</td>\n",
       "      <td>1.28462</td>\n",
       "      <td>1.27788</td>\n",
       "      <td>1.286962</td>\n",
       "      <td>-0.000772</td>\n",
       "    </tr>\n",
       "    <tr>\n",
       "      <th>2021-12-28</th>\n",
       "      <td>1.27882</td>\n",
       "      <td>1.28232</td>\n",
       "      <td>1.27800</td>\n",
       "      <td>1.283982</td>\n",
       "      <td>-0.002107</td>\n",
       "    </tr>\n",
       "    <tr>\n",
       "      <th>2021-12-29</th>\n",
       "      <td>1.28140</td>\n",
       "      <td>1.28338</td>\n",
       "      <td>1.27890</td>\n",
       "      <td>1.281782</td>\n",
       "      <td>0.002033</td>\n",
       "    </tr>\n",
       "    <tr>\n",
       "      <th>2021-12-30</th>\n",
       "      <td>1.27829</td>\n",
       "      <td>1.28118</td>\n",
       "      <td>1.27690</td>\n",
       "      <td>1.280410</td>\n",
       "      <td>-0.002373</td>\n",
       "    </tr>\n",
       "    <tr>\n",
       "      <th>2021-12-31</th>\n",
       "      <td>1.27430</td>\n",
       "      <td>1.27500</td>\n",
       "      <td>1.26268</td>\n",
       "      <td>1.278820</td>\n",
       "      <td>-0.002988</td>\n",
       "    </tr>\n",
       "  </tbody>\n",
       "</table>\n",
       "<p>365 rows × 5 columns</p>\n",
       "</div>"
      ],
      "text/plain": [
       "               Open     High      Low  Moving_Average  Close_pct_change\n",
       "2021-01-01  1.23499  1.27290  1.23499             NaN          0.000000\n",
       "2021-01-02  1.23499  1.27290  1.23499             NaN          0.000000\n",
       "2021-01-03  1.23499  1.27290  1.23499             NaN          0.000000\n",
       "2021-01-04  1.27236  1.27859  1.26630             NaN          0.030138\n",
       "2021-01-05  1.27800  1.27884  1.27000             NaN          0.004630\n",
       "...             ...      ...      ...             ...               ...\n",
       "2021-12-27  1.28142  1.28462  1.27788        1.286962         -0.000772\n",
       "2021-12-28  1.27882  1.28232  1.27800        1.283982         -0.002107\n",
       "2021-12-29  1.28140  1.28338  1.27890        1.281782          0.002033\n",
       "2021-12-30  1.27829  1.28118  1.27690        1.280410         -0.002373\n",
       "2021-12-31  1.27430  1.27500  1.26268        1.278820         -0.002988\n",
       "\n",
       "[365 rows x 5 columns]"
      ]
     },
     "execution_count": 74,
     "metadata": {},
     "output_type": "execute_result"
    }
   ],
   "source": [
    "X_2021"
   ]
  },
  {
   "cell_type": "code",
   "execution_count": 75,
   "id": "b8f38299",
   "metadata": {},
   "outputs": [
    {
     "data": {
      "text/plain": [
       "2021-01-01    1.23499\n",
       "2021-01-02    1.23499\n",
       "2021-01-03    1.23499\n",
       "2021-01-04    1.27221\n",
       "2021-01-05    1.27810\n",
       "               ...   \n",
       "2021-12-27    1.28140\n",
       "2021-12-28    1.27870\n",
       "2021-12-29    1.28130\n",
       "2021-12-30    1.27826\n",
       "2021-12-31    1.27444\n",
       "Freq: D, Name: Close, Length: 365, dtype: float64"
      ]
     },
     "execution_count": 75,
     "metadata": {},
     "output_type": "execute_result"
    }
   ],
   "source": [
    "y_2021"
   ]
  },
  {
   "cell_type": "markdown",
   "id": "f9972754",
   "metadata": {},
   "source": [
    "Aligning the indices of the dataframes for further analysis"
   ]
  },
  {
   "cell_type": "code",
   "execution_count": 76,
   "id": "054b49f3",
   "metadata": {},
   "outputs": [],
   "source": [
    "# Ensure that the indices of X_2021 and y_2021 are aligned\n",
    "y_2021 = y_2021.loc[X_2021.index]"
   ]
  },
  {
   "cell_type": "markdown",
   "id": "c373d002",
   "metadata": {},
   "source": [
    "Split the train-test chronologically to fit the model"
   ]
  },
  {
   "cell_type": "code",
   "execution_count": 77,
   "id": "6b11c445",
   "metadata": {},
   "outputs": [],
   "source": [
    "# Split the data into training and testing sets (80-20 split)\n",
    "# Define split point\n",
    "split_point2021 = int(len(X_2021) * 0.8)\n",
    "\n",
    "# create X and y splits for training set\n",
    "X2021_train = X_2021.iloc[:split_point2021]\n",
    "y2021_train = y_2021.iloc[:split_point2021]\n",
    "\n",
    "# create X and y splits for test set\n",
    "X2021_test = X_2021.iloc[split_point2021:]\n",
    "y2021_test = y_2021.iloc[split_point2021:]"
   ]
  },
  {
   "cell_type": "markdown",
   "id": "f619fd70",
   "metadata": {},
   "source": [
    "Checkthe correct split and the shape of the dataframe"
   ]
  },
  {
   "cell_type": "code",
   "execution_count": 78,
   "id": "d5c02d7e",
   "metadata": {},
   "outputs": [
    {
     "data": {
      "text/html": [
       "<div>\n",
       "<style scoped>\n",
       "    .dataframe tbody tr th:only-of-type {\n",
       "        vertical-align: middle;\n",
       "    }\n",
       "\n",
       "    .dataframe tbody tr th {\n",
       "        vertical-align: top;\n",
       "    }\n",
       "\n",
       "    .dataframe thead th {\n",
       "        text-align: right;\n",
       "    }\n",
       "</style>\n",
       "<table border=\"1\" class=\"dataframe\">\n",
       "  <thead>\n",
       "    <tr style=\"text-align: right;\">\n",
       "      <th></th>\n",
       "      <th>Open</th>\n",
       "      <th>High</th>\n",
       "      <th>Low</th>\n",
       "      <th>Moving_Average</th>\n",
       "      <th>Close_pct_change</th>\n",
       "    </tr>\n",
       "  </thead>\n",
       "  <tbody>\n",
       "    <tr>\n",
       "      <th>2021-01-01</th>\n",
       "      <td>1.23499</td>\n",
       "      <td>1.27290</td>\n",
       "      <td>1.23499</td>\n",
       "      <td>NaN</td>\n",
       "      <td>0.000000</td>\n",
       "    </tr>\n",
       "    <tr>\n",
       "      <th>2021-01-02</th>\n",
       "      <td>1.23499</td>\n",
       "      <td>1.27290</td>\n",
       "      <td>1.23499</td>\n",
       "      <td>NaN</td>\n",
       "      <td>0.000000</td>\n",
       "    </tr>\n",
       "    <tr>\n",
       "      <th>2021-01-03</th>\n",
       "      <td>1.23499</td>\n",
       "      <td>1.27290</td>\n",
       "      <td>1.23499</td>\n",
       "      <td>NaN</td>\n",
       "      <td>0.000000</td>\n",
       "    </tr>\n",
       "    <tr>\n",
       "      <th>2021-01-04</th>\n",
       "      <td>1.27236</td>\n",
       "      <td>1.27859</td>\n",
       "      <td>1.26630</td>\n",
       "      <td>NaN</td>\n",
       "      <td>0.030138</td>\n",
       "    </tr>\n",
       "    <tr>\n",
       "      <th>2021-01-05</th>\n",
       "      <td>1.27800</td>\n",
       "      <td>1.27884</td>\n",
       "      <td>1.27000</td>\n",
       "      <td>NaN</td>\n",
       "      <td>0.004630</td>\n",
       "    </tr>\n",
       "    <tr>\n",
       "      <th>...</th>\n",
       "      <td>...</td>\n",
       "      <td>...</td>\n",
       "      <td>...</td>\n",
       "      <td>...</td>\n",
       "      <td>...</td>\n",
       "    </tr>\n",
       "    <tr>\n",
       "      <th>2021-10-15</th>\n",
       "      <td>1.23730</td>\n",
       "      <td>1.23894</td>\n",
       "      <td>1.23360</td>\n",
       "      <td>1.245040</td>\n",
       "      <td>-0.005001</td>\n",
       "    </tr>\n",
       "    <tr>\n",
       "      <th>2021-10-16</th>\n",
       "      <td>1.23730</td>\n",
       "      <td>1.23894</td>\n",
       "      <td>1.23360</td>\n",
       "      <td>1.245040</td>\n",
       "      <td>-0.005001</td>\n",
       "    </tr>\n",
       "    <tr>\n",
       "      <th>2021-10-17</th>\n",
       "      <td>1.23730</td>\n",
       "      <td>1.23894</td>\n",
       "      <td>1.23360</td>\n",
       "      <td>1.245040</td>\n",
       "      <td>-0.005001</td>\n",
       "    </tr>\n",
       "    <tr>\n",
       "      <th>2021-10-18</th>\n",
       "      <td>1.23747</td>\n",
       "      <td>1.24084</td>\n",
       "      <td>1.23504</td>\n",
       "      <td>1.242832</td>\n",
       "      <td>-0.000073</td>\n",
       "    </tr>\n",
       "    <tr>\n",
       "      <th>2021-10-19</th>\n",
       "      <td>1.23711</td>\n",
       "      <td>1.23723</td>\n",
       "      <td>1.23100</td>\n",
       "      <td>1.240668</td>\n",
       "      <td>-0.000121</td>\n",
       "    </tr>\n",
       "  </tbody>\n",
       "</table>\n",
       "<p>292 rows × 5 columns</p>\n",
       "</div>"
      ],
      "text/plain": [
       "               Open     High      Low  Moving_Average  Close_pct_change\n",
       "2021-01-01  1.23499  1.27290  1.23499             NaN          0.000000\n",
       "2021-01-02  1.23499  1.27290  1.23499             NaN          0.000000\n",
       "2021-01-03  1.23499  1.27290  1.23499             NaN          0.000000\n",
       "2021-01-04  1.27236  1.27859  1.26630             NaN          0.030138\n",
       "2021-01-05  1.27800  1.27884  1.27000             NaN          0.004630\n",
       "...             ...      ...      ...             ...               ...\n",
       "2021-10-15  1.23730  1.23894  1.23360        1.245040         -0.005001\n",
       "2021-10-16  1.23730  1.23894  1.23360        1.245040         -0.005001\n",
       "2021-10-17  1.23730  1.23894  1.23360        1.245040         -0.005001\n",
       "2021-10-18  1.23747  1.24084  1.23504        1.242832         -0.000073\n",
       "2021-10-19  1.23711  1.23723  1.23100        1.240668         -0.000121\n",
       "\n",
       "[292 rows x 5 columns]"
      ]
     },
     "execution_count": 78,
     "metadata": {},
     "output_type": "execute_result"
    }
   ],
   "source": [
    "X2021_train"
   ]
  },
  {
   "cell_type": "code",
   "execution_count": 79,
   "id": "ed272df5",
   "metadata": {},
   "outputs": [
    {
     "data": {
      "text/plain": [
       "(73, 5)"
      ]
     },
     "execution_count": 79,
     "metadata": {},
     "output_type": "execute_result"
    }
   ],
   "source": [
    "X2021_test.shape"
   ]
  },
  {
   "cell_type": "markdown",
   "id": "62aca53a",
   "metadata": {},
   "source": [
    "Fitting a decision tree regressor, printing the metrics"
   ]
  },
  {
   "cell_type": "code",
   "execution_count": 80,
   "id": "b68242ec",
   "metadata": {},
   "outputs": [
    {
     "name": "stdout",
     "output_type": "stream",
     "text": [
      "R-squared for 2021: 0.9513211194223494\n",
      "Baseline Mean Squared Error: 1.5812628555948545e-05\n",
      "Mean Absolute Error for 2021: 0.002788934376100596\n",
      "Root Mean Squared Error for 2021: 0.003976509594600338\n"
     ]
    }
   ],
   "source": [
    "from sklearn.metrics import r2_score\n",
    "from sklearn.metrics import mean_absolute_error\n",
    "from sklearn.metrics import mean_squared_error\n",
    "from math import sqrt\n",
    "\n",
    "# Instantiate the decision tree model with default parameters\n",
    "dtree2021 = DecisionTreeRegressor()\n",
    "\n",
    "# Fit the model to the training data\n",
    "dtree2021.fit(X2021_train, y2021_train)\n",
    "\n",
    "# Make predictions on the test set\n",
    "predictions2021 = dtree2021.predict(X2021_test)\n",
    "\n",
    "# Calculate the r squared\n",
    "r2 = r2_score(y2021_test, predictions2021)\n",
    "print(f\"R-squared for 2021: {r2}\")\n",
    "\n",
    "# Calculate the mean squared error\n",
    "mse2021 = mean_squared_error(y2021_test, predictions2021)\n",
    "print(f\"Baseline Mean Squared Error: {mse2021}\")\n",
    "\n",
    "# Calculate the mean absolute error\n",
    "mae2021 = mean_absolute_error(y2021_test, predictions2021)\n",
    "print(f\"Mean Absolute Error for 2021: {mae2021}\")\n",
    "\n",
    "# Calculate the root mean square error\n",
    "rmse2021 = sqrt(mse2021)\n",
    "print(f\"Root Mean Squared Error for 2021: {rmse2021}\")\n"
   ]
  },
  {
   "cell_type": "markdown",
   "id": "79c8f65d",
   "metadata": {},
   "source": [
    "Performing a grid search to find the best parameters to check if metrics would improve with this parameter optimization"
   ]
  },
  {
   "cell_type": "code",
   "execution_count": 81,
   "id": "a92f60af",
   "metadata": {},
   "outputs": [
    {
     "name": "stdout",
     "output_type": "stream",
     "text": [
      "Best parameters: {'max_depth': 5, 'min_samples_leaf': 4, 'min_samples_split': 5}\n"
     ]
    },
    {
     "data": {
      "text/html": [
       "<style>#sk-container-id-3 {color: black;}#sk-container-id-3 pre{padding: 0;}#sk-container-id-3 div.sk-toggleable {background-color: white;}#sk-container-id-3 label.sk-toggleable__label {cursor: pointer;display: block;width: 100%;margin-bottom: 0;padding: 0.3em;box-sizing: border-box;text-align: center;}#sk-container-id-3 label.sk-toggleable__label-arrow:before {content: \"▸\";float: left;margin-right: 0.25em;color: #696969;}#sk-container-id-3 label.sk-toggleable__label-arrow:hover:before {color: black;}#sk-container-id-3 div.sk-estimator:hover label.sk-toggleable__label-arrow:before {color: black;}#sk-container-id-3 div.sk-toggleable__content {max-height: 0;max-width: 0;overflow: hidden;text-align: left;background-color: #f0f8ff;}#sk-container-id-3 div.sk-toggleable__content pre {margin: 0.2em;color: black;border-radius: 0.25em;background-color: #f0f8ff;}#sk-container-id-3 input.sk-toggleable__control:checked~div.sk-toggleable__content {max-height: 200px;max-width: 100%;overflow: auto;}#sk-container-id-3 input.sk-toggleable__control:checked~label.sk-toggleable__label-arrow:before {content: \"▾\";}#sk-container-id-3 div.sk-estimator input.sk-toggleable__control:checked~label.sk-toggleable__label {background-color: #d4ebff;}#sk-container-id-3 div.sk-label input.sk-toggleable__control:checked~label.sk-toggleable__label {background-color: #d4ebff;}#sk-container-id-3 input.sk-hidden--visually {border: 0;clip: rect(1px 1px 1px 1px);clip: rect(1px, 1px, 1px, 1px);height: 1px;margin: -1px;overflow: hidden;padding: 0;position: absolute;width: 1px;}#sk-container-id-3 div.sk-estimator {font-family: monospace;background-color: #f0f8ff;border: 1px dotted black;border-radius: 0.25em;box-sizing: border-box;margin-bottom: 0.5em;}#sk-container-id-3 div.sk-estimator:hover {background-color: #d4ebff;}#sk-container-id-3 div.sk-parallel-item::after {content: \"\";width: 100%;border-bottom: 1px solid gray;flex-grow: 1;}#sk-container-id-3 div.sk-label:hover label.sk-toggleable__label {background-color: #d4ebff;}#sk-container-id-3 div.sk-serial::before {content: \"\";position: absolute;border-left: 1px solid gray;box-sizing: border-box;top: 0;bottom: 0;left: 50%;z-index: 0;}#sk-container-id-3 div.sk-serial {display: flex;flex-direction: column;align-items: center;background-color: white;padding-right: 0.2em;padding-left: 0.2em;position: relative;}#sk-container-id-3 div.sk-item {position: relative;z-index: 1;}#sk-container-id-3 div.sk-parallel {display: flex;align-items: stretch;justify-content: center;background-color: white;position: relative;}#sk-container-id-3 div.sk-item::before, #sk-container-id-3 div.sk-parallel-item::before {content: \"\";position: absolute;border-left: 1px solid gray;box-sizing: border-box;top: 0;bottom: 0;left: 50%;z-index: -1;}#sk-container-id-3 div.sk-parallel-item {display: flex;flex-direction: column;z-index: 1;position: relative;background-color: white;}#sk-container-id-3 div.sk-parallel-item:first-child::after {align-self: flex-end;width: 50%;}#sk-container-id-3 div.sk-parallel-item:last-child::after {align-self: flex-start;width: 50%;}#sk-container-id-3 div.sk-parallel-item:only-child::after {width: 0;}#sk-container-id-3 div.sk-dashed-wrapped {border: 1px dashed gray;margin: 0 0.4em 0.5em 0.4em;box-sizing: border-box;padding-bottom: 0.4em;background-color: white;}#sk-container-id-3 div.sk-label label {font-family: monospace;font-weight: bold;display: inline-block;line-height: 1.2em;}#sk-container-id-3 div.sk-label-container {text-align: center;}#sk-container-id-3 div.sk-container {/* jupyter's `normalize.less` sets `[hidden] { display: none; }` but bootstrap.min.css set `[hidden] { display: none !important; }` so we also need the `!important` here to be able to override the default hidden behavior on the sphinx rendered scikit-learn.org. See: https://github.com/scikit-learn/scikit-learn/issues/21755 */display: inline-block !important;position: relative;}#sk-container-id-3 div.sk-text-repr-fallback {display: none;}</style><div id=\"sk-container-id-3\" class=\"sk-top-container\"><div class=\"sk-text-repr-fallback\"><pre>DecisionTreeRegressor(max_depth=5, min_samples_leaf=4, min_samples_split=5)</pre><b>In a Jupyter environment, please rerun this cell to show the HTML representation or trust the notebook. <br />On GitHub, the HTML representation is unable to render, please try loading this page with nbviewer.org.</b></div><div class=\"sk-container\" hidden><div class=\"sk-item\"><div class=\"sk-estimator sk-toggleable\"><input class=\"sk-toggleable__control sk-hidden--visually\" id=\"sk-estimator-id-3\" type=\"checkbox\" checked><label for=\"sk-estimator-id-3\" class=\"sk-toggleable__label sk-toggleable__label-arrow\">DecisionTreeRegressor</label><div class=\"sk-toggleable__content\"><pre>DecisionTreeRegressor(max_depth=5, min_samples_leaf=4, min_samples_split=5)</pre></div></div></div></div></div>"
      ],
      "text/plain": [
       "DecisionTreeRegressor(max_depth=5, min_samples_leaf=4, min_samples_split=5)"
      ]
     },
     "execution_count": 81,
     "metadata": {},
     "output_type": "execute_result"
    }
   ],
   "source": [
    "from sklearn.tree import DecisionTreeRegressor\n",
    "from sklearn.model_selection import GridSearchCV\n",
    "\n",
    "# Define the parameter grid\n",
    "param_grid = {\n",
    "    'max_depth': [3, 5, 7, 10],\n",
    "    'min_samples_split': [2, 5, 10],\n",
    "    'min_samples_leaf': [1, 2, 4]\n",
    "}\n",
    "\n",
    "# Instantiate the decision tree model\n",
    "dtree2_2021 = DecisionTreeRegressor()\n",
    "\n",
    "# Instantiate the GridSearchCV object\n",
    "grid_search2021 = GridSearchCV(estimator=dtree2_2021, param_grid=param_grid, cv=5, scoring='neg_mean_squared_error')\n",
    "\n",
    "# Fit the grid search to the data\n",
    "grid_search2021.fit(X2021_train, y2021_train)\n",
    "\n",
    "# Get the best parameters\n",
    "best_params2021 = grid_search2021.best_params_\n",
    "print(\"Best parameters:\", best_params2021)\n",
    "\n",
    "# Use these best parameters to create a new decision tree model\n",
    "best_dtree2021 = DecisionTreeRegressor(**best_params2021)\n",
    "best_dtree2021.fit(X2021_train, y2021_train)\n"
   ]
  },
  {
   "cell_type": "markdown",
   "id": "103c3cae",
   "metadata": {},
   "source": [
    "Use the best parameters to fit a decision tree regressor"
   ]
  },
  {
   "cell_type": "code",
   "execution_count": 82,
   "id": "29c1f205",
   "metadata": {},
   "outputs": [
    {
     "name": "stdout",
     "output_type": "stream",
     "text": [
      "Mean Squared Error with Best Parameters: 1.552749008906415e-05\n",
      "Mean Absolute Error with Best Parameters: 0.0026714714754250044\n",
      "Root Mean Squared Error with Best Parameters: 0.003940493635201579\n",
      "R-squared with Best Parameters: 0.9521989128472976\n"
     ]
    }
   ],
   "source": [
    "# Create a new decision tree model using the best parameters\n",
    "best_dtree2021 = DecisionTreeRegressor(max_depth=7, min_samples_leaf=1, min_samples_split=2)\n",
    "\n",
    "# Fit the model to the training data\n",
    "best_dtree2021.fit(X2021_train, y2021_train)\n",
    "\n",
    "# Make predictions on the test set\n",
    "best_predictions2021 = best_dtree2021.predict(X2021_test)\n",
    "\n",
    "# Calculate the mean squared error for the optimized model\n",
    "best_mse2021 = mean_squared_error(y2021_test, best_predictions2021)\n",
    "print(f\"Mean Squared Error with Best Parameters: {best_mse2021}\")\n",
    "\n",
    "# Calculate the mean absolute error for the optimized model\n",
    "best_mae2021 = mean_absolute_error(y2021_test, best_predictions2021)\n",
    "print(f\"Mean Absolute Error with Best Parameters: {best_mae2021}\")\n",
    "\n",
    "# Calculate the root mean squared error for the optimized model\n",
    "best_rmse2021 = sqrt(best_mse2021)\n",
    "print(f\"Root Mean Squared Error with Best Parameters: {best_rmse2021}\")\n",
    "\n",
    "# Calculate the R-squared value for the optimized model\n",
    "best_r2_2021 = best_dtree2021.score(X2021_test, y2021_test)\n",
    "print(f\"R-squared with Best Parameters: {best_r2_2021}\")"
   ]
  },
  {
   "cell_type": "markdown",
   "id": "939ecf5d",
   "metadata": {},
   "source": [
    "Plotting the actual and predicted values for train and test splits"
   ]
  },
  {
   "cell_type": "code",
   "execution_count": 85,
   "id": "46d04e63",
   "metadata": {},
   "outputs": [
    {
     "data": {
      "image/png": "[encoded data removed]",
      "text/plain": [
       "<Figure size 1200x600 with 1 Axes>"
      ]
     },
     "metadata": {},
     "output_type": "display_data"
    }
   ],
   "source": [
    "# Create a figure and axis\n",
    "plt.figure(figsize=(12, 6))\n",
    "plt.plot(y2021_train.index, y2021_train, label='Actual Train', color='blue')\n",
    "plt.plot(y2021_test.index, y2021_test, label='Actual Test', color='red')\n",
    "plt.plot(y2021_test.index, best_predictions2021, label='Predicted Test', color='green', linestyle='--')\n",
    "\n",
    "# Add labels and title\n",
    "plt.xlabel('Date')\n",
    "plt.ylabel('Close Price')\n",
    "plt.title('Actual vs Predicted Close Prices for 2021 with Best Parameters')\n",
    "plt.legend()\n",
    "\n",
    "# Format the x-axis\n",
    "plt.gca().xaxis.set_major_formatter(mdates.DateFormatter('%Y-%m-%d'))\n",
    "plt.gca().xaxis.set_major_locator(mdates.MonthLocator(interval=2))  # Adjust the interval as needed\n",
    "\n",
    "# Show the plot\n",
    "plt.show()\n",
    "\n"
   ]
  },
  {
   "cell_type": "markdown",
   "id": "be2a996c",
   "metadata": {},
   "source": [
    "Both RMSE and r-squared values did not change with hyperparameter optimization. "
   ]
  }
 ],
 "metadata": {
  "kernelspec": {
   "display_name": "Python 3 (ipykernel)",
   "language": "python",
   "name": "python3"
  },
  "language_info": {
   "codemirror_mode": {
    "name": "ipython",
    "version": 3
   },
   "file_extension": ".py",
   "mimetype": "text/x-python",
   "name": "python",
   "nbconvert_exporter": "python",
   "pygments_lexer": "ipython3",
   "version": "3.11.5"
  }
 },
 "nbformat": 4,
 "nbformat_minor": 5
}
