{
 "cells": [
  {
   "cell_type": "markdown",
   "id": "c0b01d08",
   "metadata": {},
   "source": [
    "\n",
    "### Continued data analysis\n"
   ]
  },
  {
   "cell_type": "markdown",
   "id": "0b54615d",
   "metadata": {},
   "source": [
    "### Decision Tree"
   ]
  },
  {
   "cell_type": "markdown",
   "id": "dedc01c7",
   "metadata": {},
   "source": [
    "**Library Imports**"
   ]
  },
  {
   "cell_type": "code",
   "execution_count": 1,
   "id": "d88fda8a",
   "metadata": {},
   "outputs": [],
   "source": [
    "import pandas as pd\n",
    "import numpy as np\n",
    "\n",
    "from sklearn.model_selection import train_test_split\n",
    "from sklearn.tree import DecisionTreeRegressor\n",
    "from sklearn.metrics import mean_squared_error\n",
    "\n",
    "import matplotlib.pyplot as plt\n",
    "import seaborn as sns"
   ]
  },
  {
   "cell_type": "markdown",
   "id": "48b8bc8c",
   "metadata": {},
   "source": [
    "**Importing the csv file with CAD=X data**"
   ]
  },
  {
   "cell_type": "code",
   "execution_count": 2,
   "id": "a3f88944",
   "metadata": {},
   "outputs": [
    {
     "data": {
      "text/html": [
       "<div>\n",
       "<style scoped>\n",
       "    .dataframe tbody tr th:only-of-type {\n",
       "        vertical-align: middle;\n",
       "    }\n",
       "\n",
       "    .dataframe tbody tr th {\n",
       "        vertical-align: top;\n",
       "    }\n",
       "\n",
       "    .dataframe thead th {\n",
       "        text-align: right;\n",
       "    }\n",
       "</style>\n",
       "<table border=\"1\" class=\"dataframe\">\n",
       "  <thead>\n",
       "    <tr style=\"text-align: right;\">\n",
       "      <th></th>\n",
       "      <th>Ticker</th>\n",
       "      <th>Open</th>\n",
       "      <th>High</th>\n",
       "      <th>Low</th>\n",
       "      <th>Close</th>\n",
       "      <th>Adj Close</th>\n",
       "      <th>Time</th>\n",
       "    </tr>\n",
       "    <tr>\n",
       "      <th>Date</th>\n",
       "      <th></th>\n",
       "      <th></th>\n",
       "      <th></th>\n",
       "      <th></th>\n",
       "      <th></th>\n",
       "      <th></th>\n",
       "      <th></th>\n",
       "    </tr>\n",
       "  </thead>\n",
       "  <tbody>\n",
       "    <tr>\n",
       "      <th>2008-08-01</th>\n",
       "      <td>CAD=X</td>\n",
       "      <td>1.02340</td>\n",
       "      <td>1.02940</td>\n",
       "      <td>1.02290</td>\n",
       "      <td>1.02460</td>\n",
       "      <td>1.02460</td>\n",
       "      <td>2</td>\n",
       "    </tr>\n",
       "    <tr>\n",
       "      <th>2008-08-04</th>\n",
       "      <td>CAD=X</td>\n",
       "      <td>1.02800</td>\n",
       "      <td>1.03680</td>\n",
       "      <td>1.02620</td>\n",
       "      <td>1.03640</td>\n",
       "      <td>1.03640</td>\n",
       "      <td>8</td>\n",
       "    </tr>\n",
       "    <tr>\n",
       "      <th>2008-08-05</th>\n",
       "      <td>CAD=X</td>\n",
       "      <td>1.03630</td>\n",
       "      <td>1.04480</td>\n",
       "      <td>1.03630</td>\n",
       "      <td>1.04260</td>\n",
       "      <td>1.04260</td>\n",
       "      <td>14</td>\n",
       "    </tr>\n",
       "    <tr>\n",
       "      <th>2008-08-06</th>\n",
       "      <td>CAD=X</td>\n",
       "      <td>1.04260</td>\n",
       "      <td>1.04930</td>\n",
       "      <td>1.04000</td>\n",
       "      <td>1.04750</td>\n",
       "      <td>1.04750</td>\n",
       "      <td>20</td>\n",
       "    </tr>\n",
       "    <tr>\n",
       "      <th>2008-08-07</th>\n",
       "      <td>CAD=X</td>\n",
       "      <td>1.04760</td>\n",
       "      <td>1.05330</td>\n",
       "      <td>1.04490</td>\n",
       "      <td>1.05200</td>\n",
       "      <td>1.05200</td>\n",
       "      <td>26</td>\n",
       "    </tr>\n",
       "    <tr>\n",
       "      <th>...</th>\n",
       "      <td>...</td>\n",
       "      <td>...</td>\n",
       "      <td>...</td>\n",
       "      <td>...</td>\n",
       "      <td>...</td>\n",
       "      <td>...</td>\n",
       "      <td>...</td>\n",
       "    </tr>\n",
       "    <tr>\n",
       "      <th>2023-07-24</th>\n",
       "      <td>CAD=X</td>\n",
       "      <td>1.32240</td>\n",
       "      <td>1.32276</td>\n",
       "      <td>1.31542</td>\n",
       "      <td>1.32240</td>\n",
       "      <td>1.32240</td>\n",
       "      <td>38937</td>\n",
       "    </tr>\n",
       "    <tr>\n",
       "      <th>2023-07-25</th>\n",
       "      <td>CAD=X</td>\n",
       "      <td>1.31746</td>\n",
       "      <td>1.32095</td>\n",
       "      <td>1.31466</td>\n",
       "      <td>1.31746</td>\n",
       "      <td>1.31746</td>\n",
       "      <td>38947</td>\n",
       "    </tr>\n",
       "    <tr>\n",
       "      <th>2023-07-26</th>\n",
       "      <td>CAD=X</td>\n",
       "      <td>1.31871</td>\n",
       "      <td>1.32352</td>\n",
       "      <td>1.31720</td>\n",
       "      <td>1.31871</td>\n",
       "      <td>1.31871</td>\n",
       "      <td>38957</td>\n",
       "    </tr>\n",
       "    <tr>\n",
       "      <th>2023-07-27</th>\n",
       "      <td>CAD=X</td>\n",
       "      <td>1.32046</td>\n",
       "      <td>1.32039</td>\n",
       "      <td>1.31580</td>\n",
       "      <td>1.32046</td>\n",
       "      <td>1.32046</td>\n",
       "      <td>38967</td>\n",
       "    </tr>\n",
       "    <tr>\n",
       "      <th>2023-07-28</th>\n",
       "      <td>CAD=X</td>\n",
       "      <td>1.32270</td>\n",
       "      <td>1.32473</td>\n",
       "      <td>1.32061</td>\n",
       "      <td>1.32270</td>\n",
       "      <td>1.32270</td>\n",
       "      <td>38977</td>\n",
       "    </tr>\n",
       "  </tbody>\n",
       "</table>\n",
       "<p>3905 rows × 7 columns</p>\n",
       "</div>"
      ],
      "text/plain": [
       "           Ticker     Open     High      Low    Close  Adj Close   Time\n",
       "Date                                                                   \n",
       "2008-08-01  CAD=X  1.02340  1.02940  1.02290  1.02460    1.02460      2\n",
       "2008-08-04  CAD=X  1.02800  1.03680  1.02620  1.03640    1.03640      8\n",
       "2008-08-05  CAD=X  1.03630  1.04480  1.03630  1.04260    1.04260     14\n",
       "2008-08-06  CAD=X  1.04260  1.04930  1.04000  1.04750    1.04750     20\n",
       "2008-08-07  CAD=X  1.04760  1.05330  1.04490  1.05200    1.05200     26\n",
       "...           ...      ...      ...      ...      ...        ...    ...\n",
       "2023-07-24  CAD=X  1.32240  1.32276  1.31542  1.32240    1.32240  38937\n",
       "2023-07-25  CAD=X  1.31746  1.32095  1.31466  1.31746    1.31746  38947\n",
       "2023-07-26  CAD=X  1.31871  1.32352  1.31720  1.31871    1.31871  38957\n",
       "2023-07-27  CAD=X  1.32046  1.32039  1.31580  1.32046    1.32046  38967\n",
       "2023-07-28  CAD=X  1.32270  1.32473  1.32061  1.32270    1.32270  38977\n",
       "\n",
       "[3905 rows x 7 columns]"
      ]
     },
     "execution_count": 2,
     "metadata": {},
     "output_type": "execute_result"
    }
   ],
   "source": [
    "# Import the CAD=X currency pair data from the CSV file\n",
    "df = pd.read_csv('cad_x_currency_data.csv', index_col=0)\n",
    "df"
   ]
  },
  {
   "cell_type": "code",
   "execution_count": 3,
   "id": "118df276",
   "metadata": {},
   "outputs": [
    {
     "data": {
      "text/plain": [
       "(3905, 7)"
      ]
     },
     "execution_count": 3,
     "metadata": {},
     "output_type": "execute_result"
    }
   ],
   "source": [
    "df.shape"
   ]
  },
  {
   "cell_type": "code",
   "execution_count": 4,
   "id": "4f02a01a",
   "metadata": {},
   "outputs": [
    {
     "data": {
      "text/html": [
       "<div>\n",
       "<style scoped>\n",
       "    .dataframe tbody tr th:only-of-type {\n",
       "        vertical-align: middle;\n",
       "    }\n",
       "\n",
       "    .dataframe tbody tr th {\n",
       "        vertical-align: top;\n",
       "    }\n",
       "\n",
       "    .dataframe thead th {\n",
       "        text-align: right;\n",
       "    }\n",
       "</style>\n",
       "<table border=\"1\" class=\"dataframe\">\n",
       "  <thead>\n",
       "    <tr style=\"text-align: right;\">\n",
       "      <th></th>\n",
       "      <th>Ticker</th>\n",
       "      <th>Open</th>\n",
       "      <th>High</th>\n",
       "      <th>Low</th>\n",
       "      <th>Close</th>\n",
       "      <th>Adj Close</th>\n",
       "      <th>Time</th>\n",
       "    </tr>\n",
       "    <tr>\n",
       "      <th>Date</th>\n",
       "      <th></th>\n",
       "      <th></th>\n",
       "      <th></th>\n",
       "      <th></th>\n",
       "      <th></th>\n",
       "      <th></th>\n",
       "      <th></th>\n",
       "    </tr>\n",
       "  </thead>\n",
       "  <tbody>\n",
       "    <tr>\n",
       "      <th>2008-08-01</th>\n",
       "      <td>CAD=X</td>\n",
       "      <td>1.0234</td>\n",
       "      <td>1.0294</td>\n",
       "      <td>1.0229</td>\n",
       "      <td>1.0246</td>\n",
       "      <td>1.0246</td>\n",
       "      <td>2</td>\n",
       "    </tr>\n",
       "    <tr>\n",
       "      <th>2008-08-04</th>\n",
       "      <td>CAD=X</td>\n",
       "      <td>1.0280</td>\n",
       "      <td>1.0368</td>\n",
       "      <td>1.0262</td>\n",
       "      <td>1.0364</td>\n",
       "      <td>1.0364</td>\n",
       "      <td>8</td>\n",
       "    </tr>\n",
       "    <tr>\n",
       "      <th>2008-08-05</th>\n",
       "      <td>CAD=X</td>\n",
       "      <td>1.0363</td>\n",
       "      <td>1.0448</td>\n",
       "      <td>1.0363</td>\n",
       "      <td>1.0426</td>\n",
       "      <td>1.0426</td>\n",
       "      <td>14</td>\n",
       "    </tr>\n",
       "    <tr>\n",
       "      <th>2008-08-06</th>\n",
       "      <td>CAD=X</td>\n",
       "      <td>1.0426</td>\n",
       "      <td>1.0493</td>\n",
       "      <td>1.0400</td>\n",
       "      <td>1.0475</td>\n",
       "      <td>1.0475</td>\n",
       "      <td>20</td>\n",
       "    </tr>\n",
       "    <tr>\n",
       "      <th>2008-08-07</th>\n",
       "      <td>CAD=X</td>\n",
       "      <td>1.0476</td>\n",
       "      <td>1.0533</td>\n",
       "      <td>1.0449</td>\n",
       "      <td>1.0520</td>\n",
       "      <td>1.0520</td>\n",
       "      <td>26</td>\n",
       "    </tr>\n",
       "  </tbody>\n",
       "</table>\n",
       "</div>"
      ],
      "text/plain": [
       "           Ticker    Open    High     Low   Close  Adj Close  Time\n",
       "Date                                                              \n",
       "2008-08-01  CAD=X  1.0234  1.0294  1.0229  1.0246     1.0246     2\n",
       "2008-08-04  CAD=X  1.0280  1.0368  1.0262  1.0364     1.0364     8\n",
       "2008-08-05  CAD=X  1.0363  1.0448  1.0363  1.0426     1.0426    14\n",
       "2008-08-06  CAD=X  1.0426  1.0493  1.0400  1.0475     1.0475    20\n",
       "2008-08-07  CAD=X  1.0476  1.0533  1.0449  1.0520     1.0520    26"
      ]
     },
     "execution_count": 4,
     "metadata": {},
     "output_type": "execute_result"
    }
   ],
   "source": [
    "df.head()"
   ]
  },
  {
   "cell_type": "code",
   "execution_count": 5,
   "id": "1ff210b8",
   "metadata": {},
   "outputs": [
    {
     "name": "stdout",
     "output_type": "stream",
     "text": [
      "<class 'pandas.core.frame.DataFrame'>\n",
      "Index: 3905 entries, 2008-08-01 to 2023-07-28\n",
      "Data columns (total 7 columns):\n",
      " #   Column     Non-Null Count  Dtype  \n",
      "---  ------     --------------  -----  \n",
      " 0   Ticker     3905 non-null   object \n",
      " 1   Open       3905 non-null   float64\n",
      " 2   High       3905 non-null   float64\n",
      " 3   Low        3905 non-null   float64\n",
      " 4   Close      3905 non-null   float64\n",
      " 5   Adj Close  3905 non-null   float64\n",
      " 6   Time       3905 non-null   int64  \n",
      "dtypes: float64(5), int64(1), object(1)\n",
      "memory usage: 244.1+ KB\n"
     ]
    }
   ],
   "source": [
    "df.info()"
   ]
  },
  {
   "cell_type": "code",
   "execution_count": 6,
   "id": "ecb3b00b",
   "metadata": {},
   "outputs": [
    {
     "data": {
      "text/html": [
       "<div>\n",
       "<style scoped>\n",
       "    .dataframe tbody tr th:only-of-type {\n",
       "        vertical-align: middle;\n",
       "    }\n",
       "\n",
       "    .dataframe tbody tr th {\n",
       "        vertical-align: top;\n",
       "    }\n",
       "\n",
       "    .dataframe thead th {\n",
       "        text-align: right;\n",
       "    }\n",
       "</style>\n",
       "<table border=\"1\" class=\"dataframe\">\n",
       "  <thead>\n",
       "    <tr style=\"text-align: right;\">\n",
       "      <th></th>\n",
       "      <th>Open</th>\n",
       "      <th>High</th>\n",
       "      <th>Low</th>\n",
       "      <th>Close</th>\n",
       "      <th>Adj Close</th>\n",
       "      <th>Time</th>\n",
       "    </tr>\n",
       "  </thead>\n",
       "  <tbody>\n",
       "    <tr>\n",
       "      <th>count</th>\n",
       "      <td>3905.000000</td>\n",
       "      <td>3905.000000</td>\n",
       "      <td>3905.000000</td>\n",
       "      <td>3905.000000</td>\n",
       "      <td>3905.000000</td>\n",
       "      <td>3905.000000</td>\n",
       "    </tr>\n",
       "    <tr>\n",
       "      <th>mean</th>\n",
       "      <td>1.198423</td>\n",
       "      <td>1.202731</td>\n",
       "      <td>1.194271</td>\n",
       "      <td>1.198412</td>\n",
       "      <td>1.198412</td>\n",
       "      <td>19457.018438</td>\n",
       "    </tr>\n",
       "    <tr>\n",
       "      <th>std</th>\n",
       "      <td>0.136652</td>\n",
       "      <td>0.136947</td>\n",
       "      <td>0.136378</td>\n",
       "      <td>0.136623</td>\n",
       "      <td>0.136623</td>\n",
       "      <td>11274.606568</td>\n",
       "    </tr>\n",
       "    <tr>\n",
       "      <th>min</th>\n",
       "      <td>0.943000</td>\n",
       "      <td>0.947200</td>\n",
       "      <td>0.940600</td>\n",
       "      <td>0.943200</td>\n",
       "      <td>0.943200</td>\n",
       "      <td>2.000000</td>\n",
       "    </tr>\n",
       "    <tr>\n",
       "      <th>25%</th>\n",
       "      <td>1.049800</td>\n",
       "      <td>1.054770</td>\n",
       "      <td>1.044800</td>\n",
       "      <td>1.049800</td>\n",
       "      <td>1.049800</td>\n",
       "      <td>9693.000000</td>\n",
       "    </tr>\n",
       "    <tr>\n",
       "      <th>50%</th>\n",
       "      <td>1.254420</td>\n",
       "      <td>1.259230</td>\n",
       "      <td>1.250170</td>\n",
       "      <td>1.254400</td>\n",
       "      <td>1.254400</td>\n",
       "      <td>19458.000000</td>\n",
       "    </tr>\n",
       "    <tr>\n",
       "      <th>75%</th>\n",
       "      <td>1.315860</td>\n",
       "      <td>1.319310</td>\n",
       "      <td>1.312870</td>\n",
       "      <td>1.315800</td>\n",
       "      <td>1.315800</td>\n",
       "      <td>29218.000000</td>\n",
       "    </tr>\n",
       "    <tr>\n",
       "      <th>max</th>\n",
       "      <td>1.458030</td>\n",
       "      <td>1.468730</td>\n",
       "      <td>1.449370</td>\n",
       "      <td>1.457800</td>\n",
       "      <td>1.457800</td>\n",
       "      <td>38977.000000</td>\n",
       "    </tr>\n",
       "  </tbody>\n",
       "</table>\n",
       "</div>"
      ],
      "text/plain": [
       "              Open         High          Low        Close    Adj Close  \\\n",
       "count  3905.000000  3905.000000  3905.000000  3905.000000  3905.000000   \n",
       "mean      1.198423     1.202731     1.194271     1.198412     1.198412   \n",
       "std       0.136652     0.136947     0.136378     0.136623     0.136623   \n",
       "min       0.943000     0.947200     0.940600     0.943200     0.943200   \n",
       "25%       1.049800     1.054770     1.044800     1.049800     1.049800   \n",
       "50%       1.254420     1.259230     1.250170     1.254400     1.254400   \n",
       "75%       1.315860     1.319310     1.312870     1.315800     1.315800   \n",
       "max       1.458030     1.468730     1.449370     1.457800     1.457800   \n",
       "\n",
       "               Time  \n",
       "count   3905.000000  \n",
       "mean   19457.018438  \n",
       "std    11274.606568  \n",
       "min        2.000000  \n",
       "25%     9693.000000  \n",
       "50%    19458.000000  \n",
       "75%    29218.000000  \n",
       "max    38977.000000  "
      ]
     },
     "execution_count": 6,
     "metadata": {},
     "output_type": "execute_result"
    }
   ],
   "source": [
    "df.describe()"
   ]
  },
  {
   "cell_type": "code",
   "execution_count": 7,
   "id": "f967b4d2",
   "metadata": {},
   "outputs": [
    {
     "name": "stdout",
     "output_type": "stream",
     "text": [
      "Ticker       0\n",
      "Open         0\n",
      "High         0\n",
      "Low          0\n",
      "Close        0\n",
      "Adj Close    0\n",
      "Time         0\n",
      "dtype: int64\n"
     ]
    }
   ],
   "source": [
    "# Check for missing values in each column\n",
    "missing_values = df.isna().sum()\n",
    "print(missing_values)"
   ]
  },
  {
   "cell_type": "markdown",
   "id": "6813defe",
   "metadata": {},
   "source": [
    "**Interest in 1-year's data**"
   ]
  },
  {
   "cell_type": "markdown",
   "id": "6be6d004",
   "metadata": {},
   "source": [
    "Filter the data for 2022"
   ]
  },
  {
   "cell_type": "code",
   "execution_count": 8,
   "id": "ec6b4795",
   "metadata": {},
   "outputs": [],
   "source": [
    "# Select the data for the year of interest\n",
    "df_2022 = df.loc['2022-01-01':'2022-12-31']"
   ]
  },
  {
   "cell_type": "markdown",
   "id": "1dbab0cf",
   "metadata": {},
   "source": [
    "**Pick the features and target variables**"
   ]
  },
  {
   "cell_type": "code",
   "execution_count": 9,
   "id": "dbaaa7b2",
   "metadata": {},
   "outputs": [],
   "source": [
    "X_2022 = df_2022[['Open', 'High', 'Low']]  # Features\n",
    "y_2022 = df_2022['Close']  # Target\n"
   ]
  },
  {
   "cell_type": "markdown",
   "id": "0ca587c9",
   "metadata": {},
   "source": [
    "**Train test split**"
   ]
  },
  {
   "cell_type": "markdown",
   "id": "ae8cc1df",
   "metadata": {},
   "source": [
    "Train test split ratio - 80-20"
   ]
  },
  {
   "cell_type": "code",
   "execution_count": 10,
   "id": "5f724b3c",
   "metadata": {},
   "outputs": [],
   "source": [
    "# Selecting a split of 80 -20\n",
    "split_point = int(len(X_2022) * 0.8)\n",
    "\n",
    "# selecting train data\n",
    "X_train = X_2022.iloc[:split_point]\n",
    "y_train = y_2022.iloc[:split_point]\n",
    "\n",
    "# selecting test data\n",
    "X_test = X_2022.iloc[split_point:]\n",
    "y_test = y_2022.iloc[split_point:]\n"
   ]
  },
  {
   "cell_type": "code",
   "execution_count": 11,
   "id": "c3c166b4",
   "metadata": {},
   "outputs": [
    {
     "name": "stdout",
     "output_type": "stream",
     "text": [
      "Mean Squared Error for 2022: 1.3259128271359849e-05\n"
     ]
    }
   ],
   "source": [
    "# Fit the DT model\n",
    "model = DecisionTreeRegressor()\n",
    "model.fit(X_train, y_train)\n",
    "\n",
    "\n",
    "predictions = model.predict(X_test)\n",
    "mse = mean_squared_error(y_test, predictions)\n",
    "print(f\"Mean Squared Error for 2022: {mse}\")\n"
   ]
  },
  {
   "cell_type": "markdown",
   "id": "f04082bc",
   "metadata": {},
   "source": [
    "The mean is low and shows that the model is performing well for the year 2022"
   ]
  },
  {
   "cell_type": "markdown",
   "id": "c6b546ea",
   "metadata": {},
   "source": [
    "**Model Evaluation**"
   ]
  },
  {
   "cell_type": "markdown",
   "id": "9f485fae",
   "metadata": {},
   "source": [
    "**R-squared (Coefficient of Determination):**"
   ]
  },
  {
   "cell_type": "code",
   "execution_count": 12,
   "id": "dc623fa8",
   "metadata": {},
   "outputs": [
    {
     "name": "stdout",
     "output_type": "stream",
     "text": [
      "R-squared for 2022: 0.9248586562527922\n"
     ]
    }
   ],
   "source": [
    "from sklearn.metrics import r2_score\n",
    "\n",
    "r2 = r2_score(y_test, predictions)\n",
    "print(f\"R-squared for 2022: {r2}\")"
   ]
  },
  {
   "cell_type": "markdown",
   "id": "c5a04294",
   "metadata": {},
   "source": [
    "**Mean Absolute Error (MAE):**"
   ]
  },
  {
   "cell_type": "code",
   "execution_count": 13,
   "id": "e3cadd7e",
   "metadata": {},
   "outputs": [
    {
     "name": "stdout",
     "output_type": "stream",
     "text": [
      "Mean Absolute Error for 2022: 0.0025894183378953072\n"
     ]
    }
   ],
   "source": [
    "from sklearn.metrics import mean_absolute_error\n",
    "\n",
    "\n",
    "mae = mean_absolute_error(y_test, predictions)\n",
    "print(f\"Mean Absolute Error for 2022: {mae}\")"
   ]
  },
  {
   "cell_type": "markdown",
   "id": "6682ec57",
   "metadata": {},
   "source": [
    "**Mean Squared Error (MSE):**"
   ]
  },
  {
   "cell_type": "code",
   "execution_count": 14,
   "id": "03cb1810",
   "metadata": {},
   "outputs": [
    {
     "name": "stdout",
     "output_type": "stream",
     "text": [
      "Mean Squared Error for 2022: 1.3259128271359849e-05\n"
     ]
    }
   ],
   "source": [
    "from sklearn.metrics import mean_squared_error\n",
    "\n",
    "mse = mean_squared_error(y_test, predictions)\n",
    "print(f\"Mean Squared Error for 2022: {mse}\")\n"
   ]
  },
  {
   "cell_type": "markdown",
   "id": "0b35e4eb",
   "metadata": {},
   "source": [
    "**Root Mean Squared Error (RMSE):**"
   ]
  },
  {
   "cell_type": "code",
   "execution_count": 15,
   "id": "6848a718",
   "metadata": {},
   "outputs": [
    {
     "name": "stdout",
     "output_type": "stream",
     "text": [
      "Root Mean Squared Error for 2022: 0.003641308593261473\n"
     ]
    }
   ],
   "source": [
    "from math import sqrt\n",
    "\n",
    "rmse = sqrt(mse)\n",
    "print(f\"Root Mean Squared Error for 2022: {rmse}\")\n"
   ]
  },
  {
   "cell_type": "markdown",
   "id": "1a7478a7",
   "metadata": {},
   "source": [
    "R-squared value of approximately 0.91 suggests that the model is capturing a significant portion of the variance in the data. The low values for MAE, MSE, and RMSE indicate that the model's predictions are generally close to the actual values."
   ]
  },
  {
   "cell_type": "markdown",
   "id": "9527f063",
   "metadata": {},
   "source": [
    "**Plot Actual versus Predicted**"
   ]
  },
  {
   "cell_type": "code",
   "execution_count": 16,
   "id": "d8ac3e22",
   "metadata": {},
   "outputs": [
    {
     "data": {
      "image/png": "[encoded data removed]",
      "text/plain": [
       "<Figure size 1200x600 with 1 Axes>"
      ]
     },
     "metadata": {},
     "output_type": "display_data"
    }
   ],
   "source": [
    "import matplotlib.pyplot as plt\n",
    "\n",
    "# Make predictions for the training set\n",
    "train_predictions = model.predict(X_train)\n",
    "\n",
    "# Combine the actual and predicted values for the training and testing sets\n",
    "train_results = pd.DataFrame({'Actual': y_train, 'Predicted': train_predictions})\n",
    "test_results = pd.DataFrame({'Actual': y_test, 'Predicted': predictions})\n",
    "\n",
    "# Plot the actual vs predicted values\n",
    "plt.figure(figsize=(12, 6))\n",
    "plt.plot(train_results['Actual'], label='Actual Train', color='blue')\n",
    "plt.plot(train_results['Predicted'], label='Predicted Train', color='blue', linestyle='--')\n",
    "plt.plot(test_results['Actual'], label='Actual Test', color='red')\n",
    "plt.plot(test_results['Predicted'], label='Predicted Test', color='green', linestyle='--')\n",
    "plt.xlabel('Index')\n",
    "plt.ylabel('Close Price')\n",
    "plt.title('Actual vs Predicted Close Prices for 2022')\n",
    "plt.legend()\n",
    "plt.show()\n"
   ]
  },
  {
   "cell_type": "markdown",
   "id": "5d4c320d",
   "metadata": {},
   "source": [
    "### Iteration 2"
   ]
  },
  {
   "cell_type": "markdown",
   "id": "174e30dc",
   "metadata": {},
   "source": [
    "**Feature Engineering**"
   ]
  },
  {
   "cell_type": "markdown",
   "id": "fb2ec985",
   "metadata": {},
   "source": [
    "1. Percent change feature will capture change from previous day's close rates"
   ]
  },
  {
   "cell_type": "code",
   "execution_count": 17,
   "id": "527df826",
   "metadata": {},
   "outputs": [
    {
     "data": {
      "text/html": [
       "<div>\n",
       "<style scoped>\n",
       "    .dataframe tbody tr th:only-of-type {\n",
       "        vertical-align: middle;\n",
       "    }\n",
       "\n",
       "    .dataframe tbody tr th {\n",
       "        vertical-align: top;\n",
       "    }\n",
       "\n",
       "    .dataframe thead th {\n",
       "        text-align: right;\n",
       "    }\n",
       "</style>\n",
       "<table border=\"1\" class=\"dataframe\">\n",
       "  <thead>\n",
       "    <tr style=\"text-align: right;\">\n",
       "      <th></th>\n",
       "      <th>Ticker</th>\n",
       "      <th>Open</th>\n",
       "      <th>High</th>\n",
       "      <th>Low</th>\n",
       "      <th>Close</th>\n",
       "      <th>Adj Close</th>\n",
       "      <th>Time</th>\n",
       "      <th>Close_pct_change</th>\n",
       "    </tr>\n",
       "    <tr>\n",
       "      <th>Date</th>\n",
       "      <th></th>\n",
       "      <th></th>\n",
       "      <th></th>\n",
       "      <th></th>\n",
       "      <th></th>\n",
       "      <th></th>\n",
       "      <th></th>\n",
       "      <th></th>\n",
       "    </tr>\n",
       "  </thead>\n",
       "  <tbody>\n",
       "    <tr>\n",
       "      <th>2008-08-01</th>\n",
       "      <td>CAD=X</td>\n",
       "      <td>1.0234</td>\n",
       "      <td>1.0294</td>\n",
       "      <td>1.0229</td>\n",
       "      <td>1.0246</td>\n",
       "      <td>1.0246</td>\n",
       "      <td>2</td>\n",
       "      <td>0.000000</td>\n",
       "    </tr>\n",
       "    <tr>\n",
       "      <th>2008-08-04</th>\n",
       "      <td>CAD=X</td>\n",
       "      <td>1.0280</td>\n",
       "      <td>1.0368</td>\n",
       "      <td>1.0262</td>\n",
       "      <td>1.0364</td>\n",
       "      <td>1.0364</td>\n",
       "      <td>8</td>\n",
       "      <td>0.011517</td>\n",
       "    </tr>\n",
       "    <tr>\n",
       "      <th>2008-08-05</th>\n",
       "      <td>CAD=X</td>\n",
       "      <td>1.0363</td>\n",
       "      <td>1.0448</td>\n",
       "      <td>1.0363</td>\n",
       "      <td>1.0426</td>\n",
       "      <td>1.0426</td>\n",
       "      <td>14</td>\n",
       "      <td>0.005982</td>\n",
       "    </tr>\n",
       "    <tr>\n",
       "      <th>2008-08-06</th>\n",
       "      <td>CAD=X</td>\n",
       "      <td>1.0426</td>\n",
       "      <td>1.0493</td>\n",
       "      <td>1.0400</td>\n",
       "      <td>1.0475</td>\n",
       "      <td>1.0475</td>\n",
       "      <td>20</td>\n",
       "      <td>0.004700</td>\n",
       "    </tr>\n",
       "    <tr>\n",
       "      <th>2008-08-07</th>\n",
       "      <td>CAD=X</td>\n",
       "      <td>1.0476</td>\n",
       "      <td>1.0533</td>\n",
       "      <td>1.0449</td>\n",
       "      <td>1.0520</td>\n",
       "      <td>1.0520</td>\n",
       "      <td>26</td>\n",
       "      <td>0.004296</td>\n",
       "    </tr>\n",
       "  </tbody>\n",
       "</table>\n",
       "</div>"
      ],
      "text/plain": [
       "           Ticker    Open    High     Low   Close  Adj Close  Time  \\\n",
       "Date                                                                 \n",
       "2008-08-01  CAD=X  1.0234  1.0294  1.0229  1.0246     1.0246     2   \n",
       "2008-08-04  CAD=X  1.0280  1.0368  1.0262  1.0364     1.0364     8   \n",
       "2008-08-05  CAD=X  1.0363  1.0448  1.0363  1.0426     1.0426    14   \n",
       "2008-08-06  CAD=X  1.0426  1.0493  1.0400  1.0475     1.0475    20   \n",
       "2008-08-07  CAD=X  1.0476  1.0533  1.0449  1.0520     1.0520    26   \n",
       "\n",
       "            Close_pct_change  \n",
       "Date                          \n",
       "2008-08-01          0.000000  \n",
       "2008-08-04          0.011517  \n",
       "2008-08-05          0.005982  \n",
       "2008-08-06          0.004700  \n",
       "2008-08-07          0.004296  "
      ]
     },
     "execution_count": 17,
     "metadata": {},
     "output_type": "execute_result"
    }
   ],
   "source": [
    "# Calculate the percentage change in 'Close' rates from the previous day\n",
    "df['Close_pct_change'] = df['Close'].pct_change()\n",
    "\n",
    "# The first row will have NaN because there's no previous day to compare with\n",
    "# fill it with 0\n",
    "df['Close_pct_change'] = df['Close_pct_change'].fillna(0)\n",
    "\n",
    "# Display the head to confirm the new feature\n",
    "df.head()"
   ]
  },
  {
   "cell_type": "markdown",
   "id": "3709d1a9",
   "metadata": {},
   "source": [
    "2. Adding a second feature for moving averages"
   ]
  },
  {
   "cell_type": "code",
   "execution_count": 18,
   "id": "998d4dfb",
   "metadata": {},
   "outputs": [],
   "source": [
    "# Create a new feature (a 5-day moving average of the Close price)\n",
    "df['Moving_Average'] = df['Close'].rolling(window=5).mean()"
   ]
  },
  {
   "cell_type": "code",
   "execution_count": 19,
   "id": "7f03f8e3",
   "metadata": {},
   "outputs": [],
   "source": [
    "# Filter the data for the year 2022\n",
    "df_2022 = df.loc['2022-01-01':'2022-12-31']"
   ]
  },
  {
   "cell_type": "code",
   "execution_count": 20,
   "id": "5286ff61",
   "metadata": {},
   "outputs": [
    {
     "data": {
      "text/html": [
       "<div>\n",
       "<style scoped>\n",
       "    .dataframe tbody tr th:only-of-type {\n",
       "        vertical-align: middle;\n",
       "    }\n",
       "\n",
       "    .dataframe tbody tr th {\n",
       "        vertical-align: top;\n",
       "    }\n",
       "\n",
       "    .dataframe thead th {\n",
       "        text-align: right;\n",
       "    }\n",
       "</style>\n",
       "<table border=\"1\" class=\"dataframe\">\n",
       "  <thead>\n",
       "    <tr style=\"text-align: right;\">\n",
       "      <th></th>\n",
       "      <th>Ticker</th>\n",
       "      <th>Open</th>\n",
       "      <th>High</th>\n",
       "      <th>Low</th>\n",
       "      <th>Close</th>\n",
       "      <th>Adj Close</th>\n",
       "      <th>Time</th>\n",
       "      <th>Close_pct_change</th>\n",
       "      <th>Moving_Average</th>\n",
       "    </tr>\n",
       "    <tr>\n",
       "      <th>Date</th>\n",
       "      <th></th>\n",
       "      <th></th>\n",
       "      <th></th>\n",
       "      <th></th>\n",
       "      <th></th>\n",
       "      <th></th>\n",
       "      <th></th>\n",
       "      <th></th>\n",
       "      <th></th>\n",
       "    </tr>\n",
       "  </thead>\n",
       "  <tbody>\n",
       "    <tr>\n",
       "      <th>2022-01-03</th>\n",
       "      <td>CAD=X</td>\n",
       "      <td>1.26571</td>\n",
       "      <td>1.27781</td>\n",
       "      <td>1.26440</td>\n",
       "      <td>1.26588</td>\n",
       "      <td>1.26588</td>\n",
       "      <td>34887</td>\n",
       "      <td>-0.006717</td>\n",
       "      <td>1.275716</td>\n",
       "    </tr>\n",
       "    <tr>\n",
       "      <th>2022-01-04</th>\n",
       "      <td>CAD=X</td>\n",
       "      <td>1.27514</td>\n",
       "      <td>1.27656</td>\n",
       "      <td>1.26672</td>\n",
       "      <td>1.27513</td>\n",
       "      <td>1.27513</td>\n",
       "      <td>34897</td>\n",
       "      <td>0.007307</td>\n",
       "      <td>1.275002</td>\n",
       "    </tr>\n",
       "    <tr>\n",
       "      <th>2022-01-05</th>\n",
       "      <td>CAD=X</td>\n",
       "      <td>1.27035</td>\n",
       "      <td>1.27392</td>\n",
       "      <td>1.26911</td>\n",
       "      <td>1.27044</td>\n",
       "      <td>1.27044</td>\n",
       "      <td>34907</td>\n",
       "      <td>-0.003678</td>\n",
       "      <td>1.272830</td>\n",
       "    </tr>\n",
       "    <tr>\n",
       "      <th>2022-01-06</th>\n",
       "      <td>CAD=X</td>\n",
       "      <td>1.27576</td>\n",
       "      <td>1.28133</td>\n",
       "      <td>1.27226</td>\n",
       "      <td>1.27601</td>\n",
       "      <td>1.27601</td>\n",
       "      <td>34917</td>\n",
       "      <td>0.004384</td>\n",
       "      <td>1.272380</td>\n",
       "    </tr>\n",
       "    <tr>\n",
       "      <th>2022-01-07</th>\n",
       "      <td>CAD=X</td>\n",
       "      <td>1.27269</td>\n",
       "      <td>1.27296</td>\n",
       "      <td>1.26426</td>\n",
       "      <td>1.27302</td>\n",
       "      <td>1.27302</td>\n",
       "      <td>34927</td>\n",
       "      <td>-0.002343</td>\n",
       "      <td>1.272096</td>\n",
       "    </tr>\n",
       "    <tr>\n",
       "      <th>...</th>\n",
       "      <td>...</td>\n",
       "      <td>...</td>\n",
       "      <td>...</td>\n",
       "      <td>...</td>\n",
       "      <td>...</td>\n",
       "      <td>...</td>\n",
       "      <td>...</td>\n",
       "      <td>...</td>\n",
       "      <td>...</td>\n",
       "    </tr>\n",
       "    <tr>\n",
       "      <th>2022-12-26</th>\n",
       "      <td>CAD=X</td>\n",
       "      <td>1.35897</td>\n",
       "      <td>1.36330</td>\n",
       "      <td>1.35458</td>\n",
       "      <td>1.35897</td>\n",
       "      <td>1.35897</td>\n",
       "      <td>37437</td>\n",
       "      <td>-0.003454</td>\n",
       "      <td>1.361632</td>\n",
       "    </tr>\n",
       "    <tr>\n",
       "      <th>2022-12-27</th>\n",
       "      <td>CAD=X</td>\n",
       "      <td>1.35570</td>\n",
       "      <td>1.35680</td>\n",
       "      <td>1.34846</td>\n",
       "      <td>1.35570</td>\n",
       "      <td>1.35570</td>\n",
       "      <td>37447</td>\n",
       "      <td>-0.002406</td>\n",
       "      <td>1.359912</td>\n",
       "    </tr>\n",
       "    <tr>\n",
       "      <th>2022-12-28</th>\n",
       "      <td>CAD=X</td>\n",
       "      <td>1.35250</td>\n",
       "      <td>1.35983</td>\n",
       "      <td>1.34861</td>\n",
       "      <td>1.35250</td>\n",
       "      <td>1.35250</td>\n",
       "      <td>37457</td>\n",
       "      <td>-0.002360</td>\n",
       "      <td>1.358424</td>\n",
       "    </tr>\n",
       "    <tr>\n",
       "      <th>2022-12-29</th>\n",
       "      <td>CAD=X</td>\n",
       "      <td>1.35994</td>\n",
       "      <td>1.36076</td>\n",
       "      <td>1.35445</td>\n",
       "      <td>1.35994</td>\n",
       "      <td>1.35994</td>\n",
       "      <td>37467</td>\n",
       "      <td>0.005501</td>\n",
       "      <td>1.358158</td>\n",
       "    </tr>\n",
       "    <tr>\n",
       "      <th>2022-12-30</th>\n",
       "      <td>CAD=X</td>\n",
       "      <td>1.35520</td>\n",
       "      <td>1.35788</td>\n",
       "      <td>1.35145</td>\n",
       "      <td>1.35520</td>\n",
       "      <td>1.35520</td>\n",
       "      <td>37477</td>\n",
       "      <td>-0.003485</td>\n",
       "      <td>1.356462</td>\n",
       "    </tr>\n",
       "  </tbody>\n",
       "</table>\n",
       "<p>260 rows × 9 columns</p>\n",
       "</div>"
      ],
      "text/plain": [
       "           Ticker     Open     High      Low    Close  Adj Close   Time  \\\n",
       "Date                                                                      \n",
       "2022-01-03  CAD=X  1.26571  1.27781  1.26440  1.26588    1.26588  34887   \n",
       "2022-01-04  CAD=X  1.27514  1.27656  1.26672  1.27513    1.27513  34897   \n",
       "2022-01-05  CAD=X  1.27035  1.27392  1.26911  1.27044    1.27044  34907   \n",
       "2022-01-06  CAD=X  1.27576  1.28133  1.27226  1.27601    1.27601  34917   \n",
       "2022-01-07  CAD=X  1.27269  1.27296  1.26426  1.27302    1.27302  34927   \n",
       "...           ...      ...      ...      ...      ...        ...    ...   \n",
       "2022-12-26  CAD=X  1.35897  1.36330  1.35458  1.35897    1.35897  37437   \n",
       "2022-12-27  CAD=X  1.35570  1.35680  1.34846  1.35570    1.35570  37447   \n",
       "2022-12-28  CAD=X  1.35250  1.35983  1.34861  1.35250    1.35250  37457   \n",
       "2022-12-29  CAD=X  1.35994  1.36076  1.35445  1.35994    1.35994  37467   \n",
       "2022-12-30  CAD=X  1.35520  1.35788  1.35145  1.35520    1.35520  37477   \n",
       "\n",
       "            Close_pct_change  Moving_Average  \n",
       "Date                                          \n",
       "2022-01-03         -0.006717        1.275716  \n",
       "2022-01-04          0.007307        1.275002  \n",
       "2022-01-05         -0.003678        1.272830  \n",
       "2022-01-06          0.004384        1.272380  \n",
       "2022-01-07         -0.002343        1.272096  \n",
       "...                      ...             ...  \n",
       "2022-12-26         -0.003454        1.361632  \n",
       "2022-12-27         -0.002406        1.359912  \n",
       "2022-12-28         -0.002360        1.358424  \n",
       "2022-12-29          0.005501        1.358158  \n",
       "2022-12-30         -0.003485        1.356462  \n",
       "\n",
       "[260 rows x 9 columns]"
      ]
     },
     "execution_count": 20,
     "metadata": {},
     "output_type": "execute_result"
    }
   ],
   "source": [
    "df_2022"
   ]
  },
  {
   "cell_type": "markdown",
   "id": "7096bd9b",
   "metadata": {},
   "source": [
    "Choosing the variables/features of interest for X"
   ]
  },
  {
   "cell_type": "code",
   "execution_count": 24,
   "id": "ec09088c",
   "metadata": {},
   "outputs": [],
   "source": [
    "# Split the data into features (including the new feature) and target\n",
    "X_2022 = df_2022[['Open', 'High', 'Low', 'Moving_Average', 'Close_pct_change']]  # Include the new feature\n",
    "y_2022 = df_2022['Close']"
   ]
  },
  {
   "cell_type": "code",
   "execution_count": 25,
   "id": "0cc5bcfb",
   "metadata": {},
   "outputs": [
    {
     "data": {
      "text/html": [
       "<div>\n",
       "<style scoped>\n",
       "    .dataframe tbody tr th:only-of-type {\n",
       "        vertical-align: middle;\n",
       "    }\n",
       "\n",
       "    .dataframe tbody tr th {\n",
       "        vertical-align: top;\n",
       "    }\n",
       "\n",
       "    .dataframe thead th {\n",
       "        text-align: right;\n",
       "    }\n",
       "</style>\n",
       "<table border=\"1\" class=\"dataframe\">\n",
       "  <thead>\n",
       "    <tr style=\"text-align: right;\">\n",
       "      <th></th>\n",
       "      <th>Open</th>\n",
       "      <th>High</th>\n",
       "      <th>Low</th>\n",
       "      <th>Moving_Average</th>\n",
       "      <th>Close_pct_change</th>\n",
       "    </tr>\n",
       "    <tr>\n",
       "      <th>Date</th>\n",
       "      <th></th>\n",
       "      <th></th>\n",
       "      <th></th>\n",
       "      <th></th>\n",
       "      <th></th>\n",
       "    </tr>\n",
       "  </thead>\n",
       "  <tbody>\n",
       "    <tr>\n",
       "      <th>2022-01-03</th>\n",
       "      <td>1.26571</td>\n",
       "      <td>1.27781</td>\n",
       "      <td>1.26440</td>\n",
       "      <td>1.275716</td>\n",
       "      <td>-0.006717</td>\n",
       "    </tr>\n",
       "    <tr>\n",
       "      <th>2022-01-04</th>\n",
       "      <td>1.27514</td>\n",
       "      <td>1.27656</td>\n",
       "      <td>1.26672</td>\n",
       "      <td>1.275002</td>\n",
       "      <td>0.007307</td>\n",
       "    </tr>\n",
       "    <tr>\n",
       "      <th>2022-01-05</th>\n",
       "      <td>1.27035</td>\n",
       "      <td>1.27392</td>\n",
       "      <td>1.26911</td>\n",
       "      <td>1.272830</td>\n",
       "      <td>-0.003678</td>\n",
       "    </tr>\n",
       "    <tr>\n",
       "      <th>2022-01-06</th>\n",
       "      <td>1.27576</td>\n",
       "      <td>1.28133</td>\n",
       "      <td>1.27226</td>\n",
       "      <td>1.272380</td>\n",
       "      <td>0.004384</td>\n",
       "    </tr>\n",
       "    <tr>\n",
       "      <th>2022-01-07</th>\n",
       "      <td>1.27269</td>\n",
       "      <td>1.27296</td>\n",
       "      <td>1.26426</td>\n",
       "      <td>1.272096</td>\n",
       "      <td>-0.002343</td>\n",
       "    </tr>\n",
       "    <tr>\n",
       "      <th>...</th>\n",
       "      <td>...</td>\n",
       "      <td>...</td>\n",
       "      <td>...</td>\n",
       "      <td>...</td>\n",
       "      <td>...</td>\n",
       "    </tr>\n",
       "    <tr>\n",
       "      <th>2022-12-26</th>\n",
       "      <td>1.35897</td>\n",
       "      <td>1.36330</td>\n",
       "      <td>1.35458</td>\n",
       "      <td>1.361632</td>\n",
       "      <td>-0.003454</td>\n",
       "    </tr>\n",
       "    <tr>\n",
       "      <th>2022-12-27</th>\n",
       "      <td>1.35570</td>\n",
       "      <td>1.35680</td>\n",
       "      <td>1.34846</td>\n",
       "      <td>1.359912</td>\n",
       "      <td>-0.002406</td>\n",
       "    </tr>\n",
       "    <tr>\n",
       "      <th>2022-12-28</th>\n",
       "      <td>1.35250</td>\n",
       "      <td>1.35983</td>\n",
       "      <td>1.34861</td>\n",
       "      <td>1.358424</td>\n",
       "      <td>-0.002360</td>\n",
       "    </tr>\n",
       "    <tr>\n",
       "      <th>2022-12-29</th>\n",
       "      <td>1.35994</td>\n",
       "      <td>1.36076</td>\n",
       "      <td>1.35445</td>\n",
       "      <td>1.358158</td>\n",
       "      <td>0.005501</td>\n",
       "    </tr>\n",
       "    <tr>\n",
       "      <th>2022-12-30</th>\n",
       "      <td>1.35520</td>\n",
       "      <td>1.35788</td>\n",
       "      <td>1.35145</td>\n",
       "      <td>1.356462</td>\n",
       "      <td>-0.003485</td>\n",
       "    </tr>\n",
       "  </tbody>\n",
       "</table>\n",
       "<p>260 rows × 5 columns</p>\n",
       "</div>"
      ],
      "text/plain": [
       "               Open     High      Low  Moving_Average  Close_pct_change\n",
       "Date                                                                   \n",
       "2022-01-03  1.26571  1.27781  1.26440        1.275716         -0.006717\n",
       "2022-01-04  1.27514  1.27656  1.26672        1.275002          0.007307\n",
       "2022-01-05  1.27035  1.27392  1.26911        1.272830         -0.003678\n",
       "2022-01-06  1.27576  1.28133  1.27226        1.272380          0.004384\n",
       "2022-01-07  1.27269  1.27296  1.26426        1.272096         -0.002343\n",
       "...             ...      ...      ...             ...               ...\n",
       "2022-12-26  1.35897  1.36330  1.35458        1.361632         -0.003454\n",
       "2022-12-27  1.35570  1.35680  1.34846        1.359912         -0.002406\n",
       "2022-12-28  1.35250  1.35983  1.34861        1.358424         -0.002360\n",
       "2022-12-29  1.35994  1.36076  1.35445        1.358158          0.005501\n",
       "2022-12-30  1.35520  1.35788  1.35145        1.356462         -0.003485\n",
       "\n",
       "[260 rows x 5 columns]"
      ]
     },
     "execution_count": 25,
     "metadata": {},
     "output_type": "execute_result"
    }
   ],
   "source": [
    "X_2022"
   ]
  },
  {
   "cell_type": "markdown",
   "id": "65d9d8b4",
   "metadata": {},
   "source": [
    "**Train-Test split - 80-20**"
   ]
  },
  {
   "cell_type": "code",
   "execution_count": 26,
   "id": "6b5c2bc6",
   "metadata": {},
   "outputs": [],
   "source": [
    "# Split the data into training and testing sets (80-20 split)\n",
    "# Define split point\n",
    "split_point = int(len(X_2022) * 0.8)\n",
    "\n",
    "# create X and y splits for training set\n",
    "X_train = X_2022.iloc[:split_point]\n",
    "y_train = y_2022.iloc[:split_point]\n",
    "\n",
    "# create X and y splits for test set\n",
    "X_test = X_2022.iloc[split_point:]\n",
    "y_test = y_2022.iloc[split_point:]\n"
   ]
  },
  {
   "cell_type": "markdown",
   "id": "32097b28",
   "metadata": {},
   "source": [
    "Fitting a baseline model"
   ]
  },
  {
   "cell_type": "code",
   "execution_count": 27,
   "id": "fac21f01",
   "metadata": {},
   "outputs": [
    {
     "name": "stdout",
     "output_type": "stream",
     "text": [
      "Baseline Mean Squared Error: 3.11580756496927e-05\n"
     ]
    }
   ],
   "source": [
    "from sklearn.tree import DecisionTreeRegressor\n",
    "from sklearn.metrics import mean_squared_error\n",
    "\n",
    "# Instantiate the decision tree model with default parameters\n",
    "dtree = DecisionTreeRegressor()\n",
    "\n",
    "# Fit the model to the training data\n",
    "dtree.fit(X_train, y_train)\n",
    "\n",
    "# Make predictions on the test set\n",
    "predictions = dtree.predict(X_test)\n",
    "\n",
    "# Calculate the mean squared error\n",
    "mse = mean_squared_error(y_test, predictions)\n",
    "print(f\"Baseline Mean Squared Error: {mse}\")\n"
   ]
  },
  {
   "cell_type": "markdown",
   "id": "366aeba5",
   "metadata": {},
   "source": [
    "Performing grid search to find best parameters"
   ]
  },
  {
   "cell_type": "code",
   "execution_count": 28,
   "id": "d828a874",
   "metadata": {},
   "outputs": [
    {
     "name": "stdout",
     "output_type": "stream",
     "text": [
      "Best parameters: {'max_depth': 7, 'min_samples_leaf': 1, 'min_samples_split': 2}\n"
     ]
    },
    {
     "data": {
      "text/html": [
       "<style>#sk-container-id-1 {color: black;}#sk-container-id-1 pre{padding: 0;}#sk-container-id-1 div.sk-toggleable {background-color: white;}#sk-container-id-1 label.sk-toggleable__label {cursor: pointer;display: block;width: 100%;margin-bottom: 0;padding: 0.3em;box-sizing: border-box;text-align: center;}#sk-container-id-1 label.sk-toggleable__label-arrow:before {content: \"▸\";float: left;margin-right: 0.25em;color: #696969;}#sk-container-id-1 label.sk-toggleable__label-arrow:hover:before {color: black;}#sk-container-id-1 div.sk-estimator:hover label.sk-toggleable__label-arrow:before {color: black;}#sk-container-id-1 div.sk-toggleable__content {max-height: 0;max-width: 0;overflow: hidden;text-align: left;background-color: #f0f8ff;}#sk-container-id-1 div.sk-toggleable__content pre {margin: 0.2em;color: black;border-radius: 0.25em;background-color: #f0f8ff;}#sk-container-id-1 input.sk-toggleable__control:checked~div.sk-toggleable__content {max-height: 200px;max-width: 100%;overflow: auto;}#sk-container-id-1 input.sk-toggleable__control:checked~label.sk-toggleable__label-arrow:before {content: \"▾\";}#sk-container-id-1 div.sk-estimator input.sk-toggleable__control:checked~label.sk-toggleable__label {background-color: #d4ebff;}#sk-container-id-1 div.sk-label input.sk-toggleable__control:checked~label.sk-toggleable__label {background-color: #d4ebff;}#sk-container-id-1 input.sk-hidden--visually {border: 0;clip: rect(1px 1px 1px 1px);clip: rect(1px, 1px, 1px, 1px);height: 1px;margin: -1px;overflow: hidden;padding: 0;position: absolute;width: 1px;}#sk-container-id-1 div.sk-estimator {font-family: monospace;background-color: #f0f8ff;border: 1px dotted black;border-radius: 0.25em;box-sizing: border-box;margin-bottom: 0.5em;}#sk-container-id-1 div.sk-estimator:hover {background-color: #d4ebff;}#sk-container-id-1 div.sk-parallel-item::after {content: \"\";width: 100%;border-bottom: 1px solid gray;flex-grow: 1;}#sk-container-id-1 div.sk-label:hover label.sk-toggleable__label {background-color: #d4ebff;}#sk-container-id-1 div.sk-serial::before {content: \"\";position: absolute;border-left: 1px solid gray;box-sizing: border-box;top: 0;bottom: 0;left: 50%;z-index: 0;}#sk-container-id-1 div.sk-serial {display: flex;flex-direction: column;align-items: center;background-color: white;padding-right: 0.2em;padding-left: 0.2em;position: relative;}#sk-container-id-1 div.sk-item {position: relative;z-index: 1;}#sk-container-id-1 div.sk-parallel {display: flex;align-items: stretch;justify-content: center;background-color: white;position: relative;}#sk-container-id-1 div.sk-item::before, #sk-container-id-1 div.sk-parallel-item::before {content: \"\";position: absolute;border-left: 1px solid gray;box-sizing: border-box;top: 0;bottom: 0;left: 50%;z-index: -1;}#sk-container-id-1 div.sk-parallel-item {display: flex;flex-direction: column;z-index: 1;position: relative;background-color: white;}#sk-container-id-1 div.sk-parallel-item:first-child::after {align-self: flex-end;width: 50%;}#sk-container-id-1 div.sk-parallel-item:last-child::after {align-self: flex-start;width: 50%;}#sk-container-id-1 div.sk-parallel-item:only-child::after {width: 0;}#sk-container-id-1 div.sk-dashed-wrapped {border: 1px dashed gray;margin: 0 0.4em 0.5em 0.4em;box-sizing: border-box;padding-bottom: 0.4em;background-color: white;}#sk-container-id-1 div.sk-label label {font-family: monospace;font-weight: bold;display: inline-block;line-height: 1.2em;}#sk-container-id-1 div.sk-label-container {text-align: center;}#sk-container-id-1 div.sk-container {/* jupyter's `normalize.less` sets `[hidden] { display: none; }` but bootstrap.min.css set `[hidden] { display: none !important; }` so we also need the `!important` here to be able to override the default hidden behavior on the sphinx rendered scikit-learn.org. See: https://github.com/scikit-learn/scikit-learn/issues/21755 */display: inline-block !important;position: relative;}#sk-container-id-1 div.sk-text-repr-fallback {display: none;}</style><div id=\"sk-container-id-1\" class=\"sk-top-container\"><div class=\"sk-text-repr-fallback\"><pre>DecisionTreeRegressor(max_depth=7)</pre><b>In a Jupyter environment, please rerun this cell to show the HTML representation or trust the notebook. <br />On GitHub, the HTML representation is unable to render, please try loading this page with nbviewer.org.</b></div><div class=\"sk-container\" hidden><div class=\"sk-item\"><div class=\"sk-estimator sk-toggleable\"><input class=\"sk-toggleable__control sk-hidden--visually\" id=\"sk-estimator-id-1\" type=\"checkbox\" checked><label for=\"sk-estimator-id-1\" class=\"sk-toggleable__label sk-toggleable__label-arrow\">DecisionTreeRegressor</label><div class=\"sk-toggleable__content\"><pre>DecisionTreeRegressor(max_depth=7)</pre></div></div></div></div></div>"
      ],
      "text/plain": [
       "DecisionTreeRegressor(max_depth=7)"
      ]
     },
     "execution_count": 28,
     "metadata": {},
     "output_type": "execute_result"
    }
   ],
   "source": [
    "from sklearn.tree import DecisionTreeRegressor\n",
    "from sklearn.model_selection import GridSearchCV\n",
    "\n",
    "# Define the parameter grid\n",
    "param_grid = {\n",
    "    'max_depth': [3, 5, 7, 10],\n",
    "    'min_samples_split': [2, 5, 10],\n",
    "    'min_samples_leaf': [1, 2, 4]\n",
    "}\n",
    "\n",
    "# Instantiate the decision tree model\n",
    "dtree = DecisionTreeRegressor()\n",
    "\n",
    "# Instantiate the GridSearchCV object\n",
    "grid_search = GridSearchCV(estimator=dtree, param_grid=param_grid, cv=5, scoring='neg_mean_squared_error')\n",
    "\n",
    "# Fit the grid search to the data\n",
    "grid_search.fit(X_train, y_train)\n",
    "\n",
    "# Get the best parameters\n",
    "best_params = grid_search.best_params_\n",
    "print(\"Best parameters:\", best_params)\n",
    "\n",
    "# Use these best parameters to create a new decision tree model\n",
    "best_dtree = DecisionTreeRegressor(**best_params)\n",
    "best_dtree.fit(X_train, y_train)\n"
   ]
  },
  {
   "cell_type": "code",
   "execution_count": 29,
   "id": "3233cacb",
   "metadata": {},
   "outputs": [
    {
     "name": "stdout",
     "output_type": "stream",
     "text": [
      "Mean Squared Error with Best Parameters: 4.070273027641978e-05\n"
     ]
    }
   ],
   "source": [
    "# Create a new decision tree model using the best parameters\n",
    "best_dtree = DecisionTreeRegressor(max_depth=7, min_samples_leaf=1, min_samples_split=2)\n",
    "\n",
    "# Fit the model to the training data\n",
    "best_dtree.fit(X_train, y_train)\n",
    "\n",
    "# Make predictions on the test set\n",
    "best_predictions = best_dtree.predict(X_test)\n",
    "\n",
    "# Calculate the mean squared error for the optimized model\n",
    "best_mse = mean_squared_error(y_test, best_predictions)\n",
    "print(f\"Mean Squared Error with Best Parameters: {best_mse}\")\n"
   ]
  },
  {
   "cell_type": "markdown",
   "id": "7a26a418",
   "metadata": {},
   "source": [
    "**Plotting the actual versus predictions for visual inspection**"
   ]
  },
  {
   "cell_type": "code",
   "execution_count": 31,
   "id": "f64777e0",
   "metadata": {},
   "outputs": [
    {
     "data": {
      "image/png": "[encoded data removed]",
      "text/plain": [
       "<Figure size 1200x600 with 1 Axes>"
      ]
     },
     "metadata": {},
     "output_type": "display_data"
    }
   ],
   "source": [
    "# Make predictions on the training set for plotting purposes\n",
    "train_predictions = best_dtree.predict(X_train)\n",
    "\n",
    "# Create a figure and axis\n",
    "plt.figure(figsize=(12, 6))\n",
    "plt.plot(y_train.index, y_train, label='Actual Train', color='blue')\n",
    "plt.plot(y_train.index, train_predictions, label='Predicted Train', color='blue', linestyle='--')\n",
    "plt.plot(y_test.index, y_test, label='Actual Test', color='red')\n",
    "plt.plot(y_test.index, best_predictions, label='Predicted Test', color='green', linestyle='--')\n",
    "\n",
    "# Add labels and title\n",
    "plt.xlabel('Date')\n",
    "plt.ylabel('Close Price')\n",
    "plt.title('Actual vs Predicted Close Prices for 2022')\n",
    "plt.legend()\n",
    "\n",
    "# Show the plot\n",
    "plt.show()\n"
   ]
  },
  {
   "cell_type": "code",
   "execution_count": 32,
   "id": "a2cd7ae4",
   "metadata": {},
   "outputs": [
    {
     "name": "stdout",
     "output_type": "stream",
     "text": [
      "Training MSE: 4.538285062475157e-08\n",
      "Testing MSE: 4.070273027641978e-05\n",
      "The model may be overfitting.\n"
     ]
    }
   ],
   "source": [
    "# Calculate MSE for the training set\n",
    "train_mse = mean_squared_error(y_train, train_predictions)\n",
    "\n",
    "# Calculate MSE for the testing set\n",
    "test_mse = mean_squared_error(y_test, best_predictions)\n",
    "\n",
    "print(f\"Training MSE: {train_mse}\")\n",
    "print(f\"Testing MSE: {test_mse}\")\n",
    "\n",
    "# Compare the MSE values\n",
    "if train_mse < test_mse:\n",
    "    print(\"The model may be overfitting.\")\n",
    "else:\n",
    "    print(\"The model is likely generalizing well.\")\n"
   ]
  },
  {
   "cell_type": "markdown",
   "id": "1f720cc0",
   "metadata": {},
   "source": [
    "**Conclusion**"
   ]
  },
  {
   "cell_type": "markdown",
   "id": "7154c819",
   "metadata": {},
   "source": [
    "With the above results, decision tree models are highly likely to overfit with a small dataset in this case. The maybe other complex reasons for this including feature selection. Also, MSE may not be capturing fully, the model's ability to generalize"
   ]
  },
  {
   "cell_type": "code",
   "execution_count": null,
   "id": "03299a7f",
   "metadata": {},
   "outputs": [],
   "source": []
  }
 ],
 "metadata": {
  "kernelspec": {
   "display_name": "Python 3 (ipykernel)",
   "language": "python",
   "name": "python3"
  },
  "language_info": {
   "codemirror_mode": {
    "name": "ipython",
    "version": 3
   },
   "file_extension": ".py",
   "mimetype": "text/x-python",
   "name": "python",
   "nbconvert_exporter": "python",
   "pygments_lexer": "ipython3",
   "version": "3.11.5"
  }
 },
 "nbformat": 4,
 "nbformat_minor": 5
}
