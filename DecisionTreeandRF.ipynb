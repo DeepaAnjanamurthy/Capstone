{
 "cells": [
  {
   "cell_type": "markdown",
   "id": "31563cda",
   "metadata": {},
   "source": [
    "\n",
    "### Continued data analysis\n"
   ]
  },
  {
   "cell_type": "markdown",
   "id": "cb76313f",
   "metadata": {},
   "source": [
    "### Decision Tree"
   ]
  },
  {
   "cell_type": "markdown",
   "id": "dc9f15f5",
   "metadata": {},
   "source": [
    "**Library Imports**"
   ]
  },
  {
   "cell_type": "code",
   "execution_count": 1,
   "id": "5cadb8d3",
   "metadata": {},
   "outputs": [],
   "source": [
    "import pandas as pd\n",
    "import numpy as np\n",
    "\n",
    "from sklearn.model_selection import train_test_split\n",
    "from sklearn.tree import DecisionTreeRegressor\n",
    "from sklearn.metrics import mean_squared_error\n",
    "\n",
    "import matplotlib.pyplot as plt\n",
    "import seaborn as sns"
   ]
  },
  {
   "cell_type": "code",
   "execution_count": null,
   "id": "d35f6205",
   "metadata": {},
   "outputs": [],
   "source": []
  },
  {
   "cell_type": "code",
   "execution_count": 2,
   "id": "08172599",
   "metadata": {},
   "outputs": [
    {
     "data": {
      "text/html": [
       "<div>\n",
       "<style scoped>\n",
       "    .dataframe tbody tr th:only-of-type {\n",
       "        vertical-align: middle;\n",
       "    }\n",
       "\n",
       "    .dataframe tbody tr th {\n",
       "        vertical-align: top;\n",
       "    }\n",
       "\n",
       "    .dataframe thead th {\n",
       "        text-align: right;\n",
       "    }\n",
       "</style>\n",
       "<table border=\"1\" class=\"dataframe\">\n",
       "  <thead>\n",
       "    <tr style=\"text-align: right;\">\n",
       "      <th></th>\n",
       "      <th>Ticker</th>\n",
       "      <th>Open</th>\n",
       "      <th>High</th>\n",
       "      <th>Low</th>\n",
       "      <th>Close</th>\n",
       "      <th>Adj Close</th>\n",
       "      <th>Time</th>\n",
       "    </tr>\n",
       "    <tr>\n",
       "      <th>Date</th>\n",
       "      <th></th>\n",
       "      <th></th>\n",
       "      <th></th>\n",
       "      <th></th>\n",
       "      <th></th>\n",
       "      <th></th>\n",
       "      <th></th>\n",
       "    </tr>\n",
       "  </thead>\n",
       "  <tbody>\n",
       "    <tr>\n",
       "      <th>2008-08-01</th>\n",
       "      <td>CAD=X</td>\n",
       "      <td>1.02340</td>\n",
       "      <td>1.02940</td>\n",
       "      <td>1.02290</td>\n",
       "      <td>1.02460</td>\n",
       "      <td>1.02460</td>\n",
       "      <td>2</td>\n",
       "    </tr>\n",
       "    <tr>\n",
       "      <th>2008-08-04</th>\n",
       "      <td>CAD=X</td>\n",
       "      <td>1.02800</td>\n",
       "      <td>1.03680</td>\n",
       "      <td>1.02620</td>\n",
       "      <td>1.03640</td>\n",
       "      <td>1.03640</td>\n",
       "      <td>8</td>\n",
       "    </tr>\n",
       "    <tr>\n",
       "      <th>2008-08-05</th>\n",
       "      <td>CAD=X</td>\n",
       "      <td>1.03630</td>\n",
       "      <td>1.04480</td>\n",
       "      <td>1.03630</td>\n",
       "      <td>1.04260</td>\n",
       "      <td>1.04260</td>\n",
       "      <td>14</td>\n",
       "    </tr>\n",
       "    <tr>\n",
       "      <th>2008-08-06</th>\n",
       "      <td>CAD=X</td>\n",
       "      <td>1.04260</td>\n",
       "      <td>1.04930</td>\n",
       "      <td>1.04000</td>\n",
       "      <td>1.04750</td>\n",
       "      <td>1.04750</td>\n",
       "      <td>20</td>\n",
       "    </tr>\n",
       "    <tr>\n",
       "      <th>2008-08-07</th>\n",
       "      <td>CAD=X</td>\n",
       "      <td>1.04760</td>\n",
       "      <td>1.05330</td>\n",
       "      <td>1.04490</td>\n",
       "      <td>1.05200</td>\n",
       "      <td>1.05200</td>\n",
       "      <td>26</td>\n",
       "    </tr>\n",
       "    <tr>\n",
       "      <th>...</th>\n",
       "      <td>...</td>\n",
       "      <td>...</td>\n",
       "      <td>...</td>\n",
       "      <td>...</td>\n",
       "      <td>...</td>\n",
       "      <td>...</td>\n",
       "      <td>...</td>\n",
       "    </tr>\n",
       "    <tr>\n",
       "      <th>2023-07-24</th>\n",
       "      <td>CAD=X</td>\n",
       "      <td>1.32240</td>\n",
       "      <td>1.32276</td>\n",
       "      <td>1.31542</td>\n",
       "      <td>1.32240</td>\n",
       "      <td>1.32240</td>\n",
       "      <td>38937</td>\n",
       "    </tr>\n",
       "    <tr>\n",
       "      <th>2023-07-25</th>\n",
       "      <td>CAD=X</td>\n",
       "      <td>1.31746</td>\n",
       "      <td>1.32095</td>\n",
       "      <td>1.31466</td>\n",
       "      <td>1.31746</td>\n",
       "      <td>1.31746</td>\n",
       "      <td>38947</td>\n",
       "    </tr>\n",
       "    <tr>\n",
       "      <th>2023-07-26</th>\n",
       "      <td>CAD=X</td>\n",
       "      <td>1.31871</td>\n",
       "      <td>1.32352</td>\n",
       "      <td>1.31720</td>\n",
       "      <td>1.31871</td>\n",
       "      <td>1.31871</td>\n",
       "      <td>38957</td>\n",
       "    </tr>\n",
       "    <tr>\n",
       "      <th>2023-07-27</th>\n",
       "      <td>CAD=X</td>\n",
       "      <td>1.32046</td>\n",
       "      <td>1.32039</td>\n",
       "      <td>1.31580</td>\n",
       "      <td>1.32046</td>\n",
       "      <td>1.32046</td>\n",
       "      <td>38967</td>\n",
       "    </tr>\n",
       "    <tr>\n",
       "      <th>2023-07-28</th>\n",
       "      <td>CAD=X</td>\n",
       "      <td>1.32270</td>\n",
       "      <td>1.32473</td>\n",
       "      <td>1.32061</td>\n",
       "      <td>1.32270</td>\n",
       "      <td>1.32270</td>\n",
       "      <td>38977</td>\n",
       "    </tr>\n",
       "  </tbody>\n",
       "</table>\n",
       "<p>3905 rows × 7 columns</p>\n",
       "</div>"
      ],
      "text/plain": [
       "           Ticker     Open     High      Low    Close  Adj Close   Time\n",
       "Date                                                                   \n",
       "2008-08-01  CAD=X  1.02340  1.02940  1.02290  1.02460    1.02460      2\n",
       "2008-08-04  CAD=X  1.02800  1.03680  1.02620  1.03640    1.03640      8\n",
       "2008-08-05  CAD=X  1.03630  1.04480  1.03630  1.04260    1.04260     14\n",
       "2008-08-06  CAD=X  1.04260  1.04930  1.04000  1.04750    1.04750     20\n",
       "2008-08-07  CAD=X  1.04760  1.05330  1.04490  1.05200    1.05200     26\n",
       "...           ...      ...      ...      ...      ...        ...    ...\n",
       "2023-07-24  CAD=X  1.32240  1.32276  1.31542  1.32240    1.32240  38937\n",
       "2023-07-25  CAD=X  1.31746  1.32095  1.31466  1.31746    1.31746  38947\n",
       "2023-07-26  CAD=X  1.31871  1.32352  1.31720  1.31871    1.31871  38957\n",
       "2023-07-27  CAD=X  1.32046  1.32039  1.31580  1.32046    1.32046  38967\n",
       "2023-07-28  CAD=X  1.32270  1.32473  1.32061  1.32270    1.32270  38977\n",
       "\n",
       "[3905 rows x 7 columns]"
      ]
     },
     "execution_count": 2,
     "metadata": {},
     "output_type": "execute_result"
    }
   ],
   "source": [
    "# Import the CAD=X currency pair data from the CSV file\n",
    "df = pd.read_csv('cad_x_currency_data.csv', index_col=0)\n",
    "df"
   ]
  },
  {
   "cell_type": "code",
   "execution_count": 3,
   "id": "635f9d43",
   "metadata": {},
   "outputs": [
    {
     "data": {
      "text/plain": [
       "(3905, 7)"
      ]
     },
     "execution_count": 3,
     "metadata": {},
     "output_type": "execute_result"
    }
   ],
   "source": [
    "df.shape"
   ]
  },
  {
   "cell_type": "code",
   "execution_count": 4,
   "id": "e808c360",
   "metadata": {},
   "outputs": [
    {
     "data": {
      "text/html": [
       "<div>\n",
       "<style scoped>\n",
       "    .dataframe tbody tr th:only-of-type {\n",
       "        vertical-align: middle;\n",
       "    }\n",
       "\n",
       "    .dataframe tbody tr th {\n",
       "        vertical-align: top;\n",
       "    }\n",
       "\n",
       "    .dataframe thead th {\n",
       "        text-align: right;\n",
       "    }\n",
       "</style>\n",
       "<table border=\"1\" class=\"dataframe\">\n",
       "  <thead>\n",
       "    <tr style=\"text-align: right;\">\n",
       "      <th></th>\n",
       "      <th>Ticker</th>\n",
       "      <th>Open</th>\n",
       "      <th>High</th>\n",
       "      <th>Low</th>\n",
       "      <th>Close</th>\n",
       "      <th>Adj Close</th>\n",
       "      <th>Time</th>\n",
       "    </tr>\n",
       "    <tr>\n",
       "      <th>Date</th>\n",
       "      <th></th>\n",
       "      <th></th>\n",
       "      <th></th>\n",
       "      <th></th>\n",
       "      <th></th>\n",
       "      <th></th>\n",
       "      <th></th>\n",
       "    </tr>\n",
       "  </thead>\n",
       "  <tbody>\n",
       "    <tr>\n",
       "      <th>2008-08-01</th>\n",
       "      <td>CAD=X</td>\n",
       "      <td>1.0234</td>\n",
       "      <td>1.0294</td>\n",
       "      <td>1.0229</td>\n",
       "      <td>1.0246</td>\n",
       "      <td>1.0246</td>\n",
       "      <td>2</td>\n",
       "    </tr>\n",
       "    <tr>\n",
       "      <th>2008-08-04</th>\n",
       "      <td>CAD=X</td>\n",
       "      <td>1.0280</td>\n",
       "      <td>1.0368</td>\n",
       "      <td>1.0262</td>\n",
       "      <td>1.0364</td>\n",
       "      <td>1.0364</td>\n",
       "      <td>8</td>\n",
       "    </tr>\n",
       "    <tr>\n",
       "      <th>2008-08-05</th>\n",
       "      <td>CAD=X</td>\n",
       "      <td>1.0363</td>\n",
       "      <td>1.0448</td>\n",
       "      <td>1.0363</td>\n",
       "      <td>1.0426</td>\n",
       "      <td>1.0426</td>\n",
       "      <td>14</td>\n",
       "    </tr>\n",
       "    <tr>\n",
       "      <th>2008-08-06</th>\n",
       "      <td>CAD=X</td>\n",
       "      <td>1.0426</td>\n",
       "      <td>1.0493</td>\n",
       "      <td>1.0400</td>\n",
       "      <td>1.0475</td>\n",
       "      <td>1.0475</td>\n",
       "      <td>20</td>\n",
       "    </tr>\n",
       "    <tr>\n",
       "      <th>2008-08-07</th>\n",
       "      <td>CAD=X</td>\n",
       "      <td>1.0476</td>\n",
       "      <td>1.0533</td>\n",
       "      <td>1.0449</td>\n",
       "      <td>1.0520</td>\n",
       "      <td>1.0520</td>\n",
       "      <td>26</td>\n",
       "    </tr>\n",
       "  </tbody>\n",
       "</table>\n",
       "</div>"
      ],
      "text/plain": [
       "           Ticker    Open    High     Low   Close  Adj Close  Time\n",
       "Date                                                              \n",
       "2008-08-01  CAD=X  1.0234  1.0294  1.0229  1.0246     1.0246     2\n",
       "2008-08-04  CAD=X  1.0280  1.0368  1.0262  1.0364     1.0364     8\n",
       "2008-08-05  CAD=X  1.0363  1.0448  1.0363  1.0426     1.0426    14\n",
       "2008-08-06  CAD=X  1.0426  1.0493  1.0400  1.0475     1.0475    20\n",
       "2008-08-07  CAD=X  1.0476  1.0533  1.0449  1.0520     1.0520    26"
      ]
     },
     "execution_count": 4,
     "metadata": {},
     "output_type": "execute_result"
    }
   ],
   "source": [
    "df.head()"
   ]
  },
  {
   "cell_type": "code",
   "execution_count": 5,
   "id": "797e5a0c",
   "metadata": {},
   "outputs": [
    {
     "name": "stdout",
     "output_type": "stream",
     "text": [
      "<class 'pandas.core.frame.DataFrame'>\n",
      "Index: 3905 entries, 2008-08-01 to 2023-07-28\n",
      "Data columns (total 7 columns):\n",
      " #   Column     Non-Null Count  Dtype  \n",
      "---  ------     --------------  -----  \n",
      " 0   Ticker     3905 non-null   object \n",
      " 1   Open       3905 non-null   float64\n",
      " 2   High       3905 non-null   float64\n",
      " 3   Low        3905 non-null   float64\n",
      " 4   Close      3905 non-null   float64\n",
      " 5   Adj Close  3905 non-null   float64\n",
      " 6   Time       3905 non-null   int64  \n",
      "dtypes: float64(5), int64(1), object(1)\n",
      "memory usage: 244.1+ KB\n"
     ]
    }
   ],
   "source": [
    "df.info()"
   ]
  },
  {
   "cell_type": "code",
   "execution_count": 6,
   "id": "6270c1bd",
   "metadata": {},
   "outputs": [
    {
     "data": {
      "text/html": [
       "<div>\n",
       "<style scoped>\n",
       "    .dataframe tbody tr th:only-of-type {\n",
       "        vertical-align: middle;\n",
       "    }\n",
       "\n",
       "    .dataframe tbody tr th {\n",
       "        vertical-align: top;\n",
       "    }\n",
       "\n",
       "    .dataframe thead th {\n",
       "        text-align: right;\n",
       "    }\n",
       "</style>\n",
       "<table border=\"1\" class=\"dataframe\">\n",
       "  <thead>\n",
       "    <tr style=\"text-align: right;\">\n",
       "      <th></th>\n",
       "      <th>Open</th>\n",
       "      <th>High</th>\n",
       "      <th>Low</th>\n",
       "      <th>Close</th>\n",
       "      <th>Adj Close</th>\n",
       "      <th>Time</th>\n",
       "    </tr>\n",
       "  </thead>\n",
       "  <tbody>\n",
       "    <tr>\n",
       "      <th>count</th>\n",
       "      <td>3905.000000</td>\n",
       "      <td>3905.000000</td>\n",
       "      <td>3905.000000</td>\n",
       "      <td>3905.000000</td>\n",
       "      <td>3905.000000</td>\n",
       "      <td>3905.000000</td>\n",
       "    </tr>\n",
       "    <tr>\n",
       "      <th>mean</th>\n",
       "      <td>1.198423</td>\n",
       "      <td>1.202731</td>\n",
       "      <td>1.194271</td>\n",
       "      <td>1.198412</td>\n",
       "      <td>1.198412</td>\n",
       "      <td>19457.018438</td>\n",
       "    </tr>\n",
       "    <tr>\n",
       "      <th>std</th>\n",
       "      <td>0.136652</td>\n",
       "      <td>0.136947</td>\n",
       "      <td>0.136378</td>\n",
       "      <td>0.136623</td>\n",
       "      <td>0.136623</td>\n",
       "      <td>11274.606568</td>\n",
       "    </tr>\n",
       "    <tr>\n",
       "      <th>min</th>\n",
       "      <td>0.943000</td>\n",
       "      <td>0.947200</td>\n",
       "      <td>0.940600</td>\n",
       "      <td>0.943200</td>\n",
       "      <td>0.943200</td>\n",
       "      <td>2.000000</td>\n",
       "    </tr>\n",
       "    <tr>\n",
       "      <th>25%</th>\n",
       "      <td>1.049800</td>\n",
       "      <td>1.054770</td>\n",
       "      <td>1.044800</td>\n",
       "      <td>1.049800</td>\n",
       "      <td>1.049800</td>\n",
       "      <td>9693.000000</td>\n",
       "    </tr>\n",
       "    <tr>\n",
       "      <th>50%</th>\n",
       "      <td>1.254420</td>\n",
       "      <td>1.259230</td>\n",
       "      <td>1.250170</td>\n",
       "      <td>1.254400</td>\n",
       "      <td>1.254400</td>\n",
       "      <td>19458.000000</td>\n",
       "    </tr>\n",
       "    <tr>\n",
       "      <th>75%</th>\n",
       "      <td>1.315860</td>\n",
       "      <td>1.319310</td>\n",
       "      <td>1.312870</td>\n",
       "      <td>1.315800</td>\n",
       "      <td>1.315800</td>\n",
       "      <td>29218.000000</td>\n",
       "    </tr>\n",
       "    <tr>\n",
       "      <th>max</th>\n",
       "      <td>1.458030</td>\n",
       "      <td>1.468730</td>\n",
       "      <td>1.449370</td>\n",
       "      <td>1.457800</td>\n",
       "      <td>1.457800</td>\n",
       "      <td>38977.000000</td>\n",
       "    </tr>\n",
       "  </tbody>\n",
       "</table>\n",
       "</div>"
      ],
      "text/plain": [
       "              Open         High          Low        Close    Adj Close  \\\n",
       "count  3905.000000  3905.000000  3905.000000  3905.000000  3905.000000   \n",
       "mean      1.198423     1.202731     1.194271     1.198412     1.198412   \n",
       "std       0.136652     0.136947     0.136378     0.136623     0.136623   \n",
       "min       0.943000     0.947200     0.940600     0.943200     0.943200   \n",
       "25%       1.049800     1.054770     1.044800     1.049800     1.049800   \n",
       "50%       1.254420     1.259230     1.250170     1.254400     1.254400   \n",
       "75%       1.315860     1.319310     1.312870     1.315800     1.315800   \n",
       "max       1.458030     1.468730     1.449370     1.457800     1.457800   \n",
       "\n",
       "               Time  \n",
       "count   3905.000000  \n",
       "mean   19457.018438  \n",
       "std    11274.606568  \n",
       "min        2.000000  \n",
       "25%     9693.000000  \n",
       "50%    19458.000000  \n",
       "75%    29218.000000  \n",
       "max    38977.000000  "
      ]
     },
     "execution_count": 6,
     "metadata": {},
     "output_type": "execute_result"
    }
   ],
   "source": [
    "df.describe()"
   ]
  },
  {
   "cell_type": "code",
   "execution_count": null,
   "id": "b5f76c65",
   "metadata": {},
   "outputs": [],
   "source": []
  },
  {
   "cell_type": "code",
   "execution_count": 7,
   "id": "2f6b3876",
   "metadata": {},
   "outputs": [
    {
     "name": "stdout",
     "output_type": "stream",
     "text": [
      "Ticker       0\n",
      "Open         0\n",
      "High         0\n",
      "Low          0\n",
      "Close        0\n",
      "Adj Close    0\n",
      "Time         0\n",
      "dtype: int64\n"
     ]
    }
   ],
   "source": [
    "# Check for missing values in each column\n",
    "missing_values = df.isna().sum()\n",
    "print(missing_values)"
   ]
  },
  {
   "cell_type": "markdown",
   "id": "38693e67",
   "metadata": {},
   "source": [
    "**Interest in 1-year's data**"
   ]
  },
  {
   "cell_type": "markdown",
   "id": "3fa0e7b1",
   "metadata": {},
   "source": [
    "Filter the data for 2022"
   ]
  },
  {
   "cell_type": "code",
   "execution_count": 8,
   "id": "ee462d41",
   "metadata": {},
   "outputs": [],
   "source": [
    "# Select the data for the year of interest\n",
    "df_2022 = df.loc['2022-01-01':'2022-12-31']"
   ]
  },
  {
   "cell_type": "markdown",
   "id": "f94cf3ed",
   "metadata": {},
   "source": [
    "**Pick the features and target variables**"
   ]
  },
  {
   "cell_type": "code",
   "execution_count": 9,
   "id": "6884a269",
   "metadata": {},
   "outputs": [],
   "source": [
    "X_2022 = df_2022[['Open', 'High', 'Low']]  # Features\n",
    "y_2022 = df_2022['Close']  # Target\n"
   ]
  },
  {
   "cell_type": "markdown",
   "id": "68b430de",
   "metadata": {},
   "source": [
    "**Train test split**"
   ]
  },
  {
   "cell_type": "markdown",
   "id": "0c16b352",
   "metadata": {},
   "source": [
    "Train test split ratio - 80-20"
   ]
  },
  {
   "cell_type": "code",
   "execution_count": 10,
   "id": "00236e03",
   "metadata": {},
   "outputs": [],
   "source": [
    "# Selecting a split of 80 -20\n",
    "split_point = int(len(X_2022) * 0.8)\n",
    "\n",
    "# selecting train data\n",
    "X_train = X_2022.iloc[:split_point]\n",
    "y_train = y_2022.iloc[:split_point]\n",
    "\n",
    "# selecting test data\n",
    "X_test = X_2022.iloc[split_point:]\n",
    "y_test = y_2022.iloc[split_point:]\n"
   ]
  },
  {
   "cell_type": "code",
   "execution_count": 11,
   "id": "544b5fe2",
   "metadata": {},
   "outputs": [
    {
     "name": "stdout",
     "output_type": "stream",
     "text": [
      "Mean Squared Error for 2022: 3.701775517392569e-05\n"
     ]
    }
   ],
   "source": [
    "\n",
    "model = DecisionTreeRegressor()\n",
    "model.fit(X_train, y_train)\n",
    "\n",
    "\n",
    "predictions = model.predict(X_test)\n",
    "mse = mean_squared_error(y_test, predictions)\n",
    "print(f\"Mean Squared Error for 2022: {mse}\")\n"
   ]
  },
  {
   "cell_type": "markdown",
   "id": "7f3f2283",
   "metadata": {},
   "source": [
    "The mean is low and shows that the model is performing well for the year 2022"
   ]
  },
  {
   "cell_type": "code",
   "execution_count": null,
   "id": "be3640a5",
   "metadata": {},
   "outputs": [],
   "source": []
  },
  {
   "cell_type": "code",
   "execution_count": null,
   "id": "ff6dd5d9",
   "metadata": {},
   "outputs": [],
   "source": []
  },
  {
   "cell_type": "markdown",
   "id": "6a476019",
   "metadata": {},
   "source": [
    "**Model Evaluation**"
   ]
  },
  {
   "cell_type": "markdown",
   "id": "ffc6bfe4",
   "metadata": {},
   "source": [
    "**R-squared (Coefficient of Determination):**"
   ]
  },
  {
   "cell_type": "code",
   "execution_count": 12,
   "id": "187457d8",
   "metadata": {},
   "outputs": [
    {
     "name": "stdout",
     "output_type": "stream",
     "text": [
      "R-squared for 2022: 0.7902151778497987\n"
     ]
    }
   ],
   "source": [
    "from sklearn.metrics import r2_score\n",
    "\n",
    "r2 = r2_score(y_test, predictions)\n",
    "print(f\"R-squared for 2022: {r2}\")"
   ]
  },
  {
   "cell_type": "markdown",
   "id": "c1b91f95",
   "metadata": {},
   "source": [
    "**Mean Absolute Error (MAE):**"
   ]
  },
  {
   "cell_type": "code",
   "execution_count": 13,
   "id": "509db86e",
   "metadata": {},
   "outputs": [
    {
     "name": "stdout",
     "output_type": "stream",
     "text": [
      "Mean Absolute Error for 2022: 0.003835964661378114\n"
     ]
    }
   ],
   "source": [
    "from sklearn.metrics import mean_absolute_error\n",
    "\n",
    "\n",
    "mae = mean_absolute_error(y_test, predictions)\n",
    "print(f\"Mean Absolute Error for 2022: {mae}\")"
   ]
  },
  {
   "cell_type": "markdown",
   "id": "dfc6f85d",
   "metadata": {},
   "source": [
    "**Mean Squared Error (MSE):**"
   ]
  },
  {
   "cell_type": "code",
   "execution_count": 15,
   "id": "85827eae",
   "metadata": {},
   "outputs": [
    {
     "name": "stdout",
     "output_type": "stream",
     "text": [
      "Mean Squared Error for 2022: 3.701775517392569e-05\n"
     ]
    }
   ],
   "source": [
    "from sklearn.metrics import mean_squared_error\n",
    "\n",
    "mse = mean_squared_error(y_test, predictions)\n",
    "print(f\"Mean Squared Error for 2022: {mse}\")\n"
   ]
  },
  {
   "cell_type": "markdown",
   "id": "d8f562ec",
   "metadata": {},
   "source": [
    "**Root Mean Squared Error (RMSE):**"
   ]
  },
  {
   "cell_type": "code",
   "execution_count": 14,
   "id": "84ba2f05",
   "metadata": {},
   "outputs": [
    {
     "name": "stdout",
     "output_type": "stream",
     "text": [
      "Root Mean Squared Error for 2022: 0.006084221821558259\n"
     ]
    }
   ],
   "source": [
    "from math import sqrt\n",
    "\n",
    "rmse = sqrt(mse)\n",
    "print(f\"Root Mean Squared Error for 2022: {rmse}\")\n"
   ]
  },
  {
   "cell_type": "markdown",
   "id": "802871b6",
   "metadata": {},
   "source": [
    "R-squared value of approximately 0.79 suggests that the model is capturing a significant portion of the variance in the data. The low values for MAE, MSE, and RMSE indicate that the model's predictions are generally close to the actual values."
   ]
  },
  {
   "cell_type": "code",
   "execution_count": null,
   "id": "96e2ae17",
   "metadata": {},
   "outputs": [],
   "source": []
  },
  {
   "cell_type": "markdown",
   "id": "3b60a5f0",
   "metadata": {},
   "source": [
    "**Plot Actual versus Predicted**"
   ]
  },
  {
   "cell_type": "code",
   "execution_count": 17,
   "id": "1c83178e",
   "metadata": {},
   "outputs": [
    {
     "data": {
      "image/png": "[encoded data removed]",
      "text/plain": [
       "<Figure size 1200x600 with 1 Axes>"
      ]
     },
     "metadata": {},
     "output_type": "display_data"
    }
   ],
   "source": [
    "import matplotlib.pyplot as plt\n",
    "\n",
    "# Make predictions for the training set\n",
    "train_predictions = model.predict(X_train)\n",
    "\n",
    "# Combine the actual and predicted values for the training and testing sets\n",
    "train_results = pd.DataFrame({'Actual': y_train, 'Predicted': train_predictions})\n",
    "test_results = pd.DataFrame({'Actual': y_test, 'Predicted': predictions})\n",
    "\n",
    "# Plot the actual vs predicted values\n",
    "plt.figure(figsize=(12, 6))\n",
    "plt.plot(train_results['Actual'], label='Actual Train', color='blue')\n",
    "plt.plot(train_results['Predicted'], label='Predicted Train', color='blue', linestyle='--')\n",
    "plt.plot(test_results['Actual'], label='Actual Test', color='red')\n",
    "plt.plot(test_results['Predicted'], label='Predicted Test', color='green', linestyle='--')\n",
    "plt.xlabel('Index')\n",
    "plt.ylabel('Close Price')\n",
    "plt.title('Actual vs Predicted Close Prices for 2022')\n",
    "plt.legend()\n",
    "plt.show()\n"
   ]
  },
  {
   "cell_type": "code",
   "execution_count": null,
   "id": "95b1c6db",
   "metadata": {},
   "outputs": [],
   "source": []
  },
  {
   "cell_type": "markdown",
   "id": "70defc92",
   "metadata": {},
   "source": [
    "### Iteration 2"
   ]
  },
  {
   "cell_type": "markdown",
   "id": "63ce47d6",
   "metadata": {},
   "source": [
    "**Feature Engineering**"
   ]
  },
  {
   "cell_type": "markdown",
   "id": "3e870143",
   "metadata": {},
   "source": [
    "Percent change feature will capture change from previous day's close rates"
   ]
  },
  {
   "cell_type": "code",
   "execution_count": null,
   "id": "0fb67d39",
   "metadata": {},
   "outputs": [],
   "source": [
    "# Calculate the percentage change in 'Close' rates from the previous day\n",
    "df['Close_pct_change'] = df['Close'].pct_change()\n",
    "\n",
    "# The first row will have NaN because there's no previous day to compare with\n",
    "# fill it with 0\n",
    "df['Close_pct_change'] = df['Close_pct_change'].fillna(0)\n",
    "\n",
    "# Display the head to confirm the new feature\n",
    "df.head()"
   ]
  },
  {
   "cell_type": "code",
   "execution_count": null,
   "id": "920da3c0",
   "metadata": {},
   "outputs": [],
   "source": []
  },
  {
   "cell_type": "markdown",
   "id": "30ced166",
   "metadata": {},
   "source": [
    "Choosing the variables/features of interest for X"
   ]
  },
  {
   "cell_type": "code",
   "execution_count": null,
   "id": "0d703a1a",
   "metadata": {},
   "outputs": [],
   "source": [
    "X = df[['Open', 'High', 'Low', 'Close_pct_change']]  # Features\n",
    "y = df['Close']  # Target"
   ]
  },
  {
   "cell_type": "code",
   "execution_count": null,
   "id": "a92e6d2a",
   "metadata": {},
   "outputs": [],
   "source": [
    "X"
   ]
  },
  {
   "cell_type": "markdown",
   "id": "8baaa0a3",
   "metadata": {},
   "source": [
    "**Train test data split - 80%-20%**"
   ]
  },
  {
   "cell_type": "code",
   "execution_count": null,
   "id": "9897a81b",
   "metadata": {},
   "outputs": [],
   "source": [
    "# Split the data into training and testing sets\n",
    "X_train, X_test, y_train, y_test = train_test_split(X, y, test_size=0.2, random_state=42)"
   ]
  },
  {
   "cell_type": "code",
   "execution_count": null,
   "id": "4a631c28",
   "metadata": {},
   "outputs": [],
   "source": [
    "# Initialize and fit the Decision Tree Regressor \n",
    "tree_model = DecisionTreeRegressor(random_state=42)\n",
    "tree_model.fit(X_train, y_train)"
   ]
  },
  {
   "cell_type": "code",
   "execution_count": null,
   "id": "a707261d",
   "metadata": {},
   "outputs": [],
   "source": [
    "# Check the length of feature importances\n",
    "print(\"Number of features:\", len(X.columns))\n",
    "print(\"Length of feature importances:\", len(tree_model.feature_importances_))"
   ]
  },
  {
   "cell_type": "code",
   "execution_count": null,
   "id": "0ac2fe0b",
   "metadata": {},
   "outputs": [],
   "source": [
    "# Calculate feature importances\n",
    "feature_importances = tree_model.feature_importances_\n",
    "importance_df = pd.DataFrame({'Feature': X.columns, 'Importance': feature_importances})\n",
    "print(importance_df.sort_values(by='Importance', ascending=False))"
   ]
  },
  {
   "cell_type": "markdown",
   "id": "6a6a6979",
   "metadata": {},
   "source": [
    "Engineered feature Close_pct_change has shown to be the least important feature, but will retain this for the analysis"
   ]
  },
  {
   "cell_type": "markdown",
   "id": "0328f7cd",
   "metadata": {},
   "source": [
    "Performing grid search to find best parameters"
   ]
  },
  {
   "cell_type": "code",
   "execution_count": null,
   "id": "925085f4",
   "metadata": {},
   "outputs": [],
   "source": [
    "from sklearn.model_selection import GridSearchCV\n",
    "\n",
    "param_grid = {\n",
    "    'max_depth': [None, 10, 20, 30],\n",
    "    'min_samples_split': [2, 5, 10],\n",
    "    'min_samples_leaf': [1, 2, 4]\n",
    "}\n",
    "\n",
    "grid_search = GridSearchCV(tree_model, param_grid, cv=5, scoring='neg_mean_squared_error')\n",
    "grid_search.fit(X_train, y_train)\n",
    "\n",
    "print(\"Best parameters:\", grid_search.best_params_)\n",
    "best_tree_model = grid_search.best_estimator_\n"
   ]
  },
  {
   "cell_type": "markdown",
   "id": "7d762202",
   "metadata": {},
   "source": [
    "Using the best parameters to get model scores"
   ]
  },
  {
   "cell_type": "code",
   "execution_count": null,
   "id": "f043f649",
   "metadata": {},
   "outputs": [],
   "source": [
    "from sklearn.model_selection import cross_val_score\n",
    "\n",
    "# Use the best model from the grid search\n",
    "scores = cross_val_score(best_tree_model, X, y, cv=5, scoring='neg_mean_squared_error')\n",
    "\n",
    "# Calculate the root mean squared error (RMSE) for each fold\n",
    "rmse_scores = np.sqrt(-scores)\n",
    "\n",
    "# Print the average RMSE across all folds\n",
    "print(\"Cross-validated RMSE:\", rmse_scores.mean())\n"
   ]
  },
  {
   "cell_type": "code",
   "execution_count": null,
   "id": "2cfa913c",
   "metadata": {},
   "outputs": [],
   "source": [
    "\n"
   ]
  },
  {
   "cell_type": "markdown",
   "id": "af88a9c2",
   "metadata": {},
   "source": [
    "**Plotting visual for actual versus predicted**"
   ]
  },
  {
   "cell_type": "code",
   "execution_count": null,
   "id": "ef424605",
   "metadata": {},
   "outputs": [],
   "source": []
  },
  {
   "cell_type": "code",
   "execution_count": null,
   "id": "f7ae7238",
   "metadata": {},
   "outputs": [],
   "source": [
    "# Making predictions on both the training and testing sets\n",
    "y_train_pred = best_tree_model.predict(X_train)\n",
    "y_test_pred = best_tree_model.predict(X_test)\n",
    "\n",
    "# Plotting actual vs. predicted close rates for both training and testing data\n",
    "plt.figure(figsize=(10, 6))\n",
    "plt.scatter(y_train, y_train_pred, alpha=0.5, label='Train', color='blue')\n",
    "plt.scatter(y_test, y_test_pred, alpha=0.5, label='Test', color='green')\n",
    "plt.plot([y.min(), y.max()], [y.min(), y.max()], 'k--', lw=2)\n",
    "plt.xlabel('Actual Close Rate')\n",
    "plt.ylabel('Predicted Close Rate')\n",
    "plt.title('Actual vs. Predicted Close Rate')\n",
    "plt.legend()\n",
    "plt.show()\n"
   ]
  },
  {
   "cell_type": "code",
   "execution_count": null,
   "id": "2174b6d1",
   "metadata": {},
   "outputs": [],
   "source": [
    "# Create a DataFrame to hold the actual and predicted values\n",
    "results_df = pd.DataFrame({'Actual': y_test, 'Predicted': y_test_pred})\n",
    "results_df = results_df.sort_index()  # Sort by index if your data is time series\n",
    "\n",
    "# Plot the actual and predicted values\n",
    "plt.figure(figsize=(15, 6))\n",
    "plt.plot(results_df['Actual'], label='Actual', alpha=0.7)\n",
    "plt.plot(results_df['Predicted'], label='Predicted', alpha=0.7)\n",
    "plt.xlabel(\"Date\" if results_df.index.dtype == 'datetime64[ns]' else \"Index\")\n",
    "plt.ylabel(\"Close Rate\")\n",
    "plt.title(\"Actual vs. Predicted Close Rate\")\n",
    "plt.legend()\n",
    "plt.show()\n"
   ]
  },
  {
   "cell_type": "code",
   "execution_count": null,
   "id": "ea715114",
   "metadata": {
    "scrolled": true
   },
   "outputs": [],
   "source": [
    "# Create DataFrames for the actual and predicted values in the training and testing sets\n",
    "train_results_df = pd.DataFrame({'Actual': y_train, 'Predicted': best_tree_model.predict(X_train)})\n",
    "test_results_df = pd.DataFrame({'Actual': y_test, 'Predicted': y_test_pred})\n",
    "\n",
    "# Sort by index if your data is time series\n",
    "train_results_df = train_results_df.sort_index()\n",
    "test_results_df = test_results_df.sort_index()\n",
    "\n",
    "# Plot the actual and predicted values for both training and testing sets\n",
    "plt.figure(figsize=(15, 6))\n",
    "plt.plot(train_results_df['Actual'], label='Actual Train', alpha=0.7, color='blue')\n",
    "plt.plot(train_results_df['Predicted'], label='Predicted Train', alpha=0.7, linestyle=':', color='orange')\n",
    "plt.plot(test_results_df['Actual'], label='Actual Test', alpha=0.7, color='orange')\n",
    "plt.plot(test_results_df['Predicted'], label='Predicted Test', alpha=0.7, linestyle=':', color='green')\n",
    "plt.xlabel(\"Date\" if train_results_df.index.dtype == 'datetime64[ns]' else \"Index\")\n",
    "plt.ylabel(\"Close Rate\")\n",
    "plt.title(\"Actual vs. Predicted Close Rate (Train and Test)\")\n",
    "plt.legend()\n",
    "plt.show()"
   ]
  },
  {
   "cell_type": "code",
   "execution_count": null,
   "id": "dbf3066d",
   "metadata": {},
   "outputs": [],
   "source": []
  },
  {
   "cell_type": "markdown",
   "id": "3d6a5efc",
   "metadata": {},
   "source": [
    "**Plotting residuals**"
   ]
  },
  {
   "cell_type": "code",
   "execution_count": null,
   "id": "76a7fa7e",
   "metadata": {},
   "outputs": [],
   "source": [
    "# Make predictions on the test set\n",
    "y_pred = best_tree_model.predict(X_test)\n",
    "\n",
    "# Calculate residuals\n",
    "residuals = y_test - y_pred\n",
    "\n",
    "# Plot residuals\n",
    "plt.figure(figsize=(10, 6))\n",
    "plt.scatter(y_test, residuals)\n",
    "plt.axhline(y=0, color='red', linestyle='--')  # Add a horizontal line at 0\n",
    "plt.xlabel('Actual Close Rate')\n",
    "plt.ylabel('Residuals')\n",
    "plt.title('Residual Plot')\n",
    "plt.show()"
   ]
  },
  {
   "cell_type": "markdown",
   "id": "0e87746e",
   "metadata": {},
   "source": [
    "### Model Evaluation\n"
   ]
  },
  {
   "cell_type": "code",
   "execution_count": null,
   "id": "bccdcafc",
   "metadata": {},
   "outputs": [],
   "source": [
    "from sklearn.metrics import r2_score\n",
    "r2 = r2_score(y_test, y_pred)\n",
    "print(\"R-squared:\", r2)"
   ]
  },
  {
   "cell_type": "markdown",
   "id": "8906f589",
   "metadata": {},
   "source": [
    "R-squared (R²): The value of 0.9995 is very close to 1, indicating that the model explains almost all of the variance in the target variable. This suggests a very good fit."
   ]
  },
  {
   "cell_type": "code",
   "execution_count": null,
   "id": "fe3421ad",
   "metadata": {},
   "outputs": [],
   "source": [
    "from sklearn.metrics import mean_absolute_error\n",
    "mae = mean_absolute_error(y_test, y_pred)\n",
    "print(\"Mean Absolute Error:\", mae)"
   ]
  },
  {
   "cell_type": "markdown",
   "id": "5bf8d7e7",
   "metadata": {},
   "source": [
    "Mean Absolute Error (MAE): The MAE of 0.00125 is quite small, indicating that, on average, the absolute difference between the predicted and actual values is minimal."
   ]
  },
  {
   "cell_type": "code",
   "execution_count": null,
   "id": "82254336",
   "metadata": {},
   "outputs": [],
   "source": [
    "from sklearn.metrics import mean_squared_error\n",
    "mse = mean_squared_error(y_test, y_pred)\n",
    "print(\"Mean Squared Error:\", mse)"
   ]
  },
  {
   "cell_type": "markdown",
   "id": "e98056ab",
   "metadata": {},
   "source": [
    "Mean Squared Error (MSE): The MSE is also very small at 9.397e-06, indicating that the squared differences between the predicted and actual values are minimal."
   ]
  },
  {
   "cell_type": "code",
   "execution_count": null,
   "id": "d3163f05",
   "metadata": {},
   "outputs": [],
   "source": [
    "rmse = np.sqrt(mse)\n",
    "print(\"Root Mean Squared Error:\", rmse)"
   ]
  },
  {
   "cell_type": "markdown",
   "id": "7e593dd5",
   "metadata": {},
   "source": [
    "Root Mean Squared Error (RMSE): The RMSE of 0.00307 is in line with the MAE, further confirming that the model's predictions are very close to the actual values."
   ]
  },
  {
   "cell_type": "markdown",
   "id": "e1eca1e7",
   "metadata": {},
   "source": [
    "**Check for overfitting**"
   ]
  },
  {
   "cell_type": "code",
   "execution_count": null,
   "id": "6427d16d",
   "metadata": {},
   "outputs": [],
   "source": [
    "from sklearn.model_selection import learning_curve\n",
    "\n",
    "train_sizes, train_scores, validation_scores = learning_curve(\n",
    "    best_tree_model, X, y, cv=5, scoring='neg_mean_squared_error',\n",
    "    train_sizes=np.linspace(0.1, 1.0, 10))\n",
    "\n",
    "# Calculate the mean and standard deviation of the train and validation scores\n",
    "train_scores_mean = -train_scores.mean(axis=1)\n",
    "validation_scores_mean = -validation_scores.mean(axis=1)\n",
    "\n",
    "# Plot the learning curves\n",
    "plt.figure(figsize=(10, 6))\n",
    "plt.plot(train_sizes, train_scores_mean, label='Training error')\n",
    "plt.plot(train_sizes, validation_scores_mean, label='Validation error')\n",
    "plt.xlabel('Training set size')\n",
    "plt.ylabel('MSE')\n",
    "plt.title('Learning Curve')\n",
    "plt.legend()\n",
    "plt.show()\n"
   ]
  },
  {
   "cell_type": "markdown",
   "id": "ef1e4dce",
   "metadata": {},
   "source": [
    "The training error is 0 but the validation error is significantly higher (even though it's still quite low at 0.0025), it could be a sign of overfitting. In this case, the model has perfectly learned the training data but may not generalize as well to new, unseen data.\n",
    "\n",
    "However, given that the validation error is still quite low, it suggests that the model is performing well overall. The difference between the training and validation errors is small, which is a good sign."
   ]
  },
  {
   "cell_type": "markdown",
   "id": "7ed9ec97",
   "metadata": {},
   "source": [
    "**Using the best params from the grid search results:**"
   ]
  },
  {
   "cell_type": "code",
   "execution_count": null,
   "id": "819d940d",
   "metadata": {},
   "outputs": [],
   "source": [
    "from sklearn.model_selection import GridSearchCV\n",
    "\n",
    "# Define a new parameter grid, focusing on constraining the model more\n",
    "param_grid = {\n",
    "    'max_depth': [None, 10, 15, 20],  # Include None to compare with the unconstrained model\n",
    "    'min_samples_split': [2, 5, 10],  # Increase the minimum number of samples required to split a node\n",
    "    'min_samples_leaf': [2, 4, 6]  # Increase the minimum number of samples required at a leaf node\n",
    "}\n",
    "\n",
    "# Create a new grid search object\n",
    "grid_search = GridSearchCV(tree_model, param_grid, cv=5, scoring='neg_mean_squared_error', n_jobs=-1)\n",
    "\n",
    "# Fit the grid search to the data\n",
    "grid_search.fit(X_train, y_train)\n"
   ]
  },
  {
   "cell_type": "code",
   "execution_count": null,
   "id": "620e70c9",
   "metadata": {},
   "outputs": [],
   "source": [
    "# Print the best parameters\n",
    "print(\"Best parameters:\", grid_search.best_params_)\n"
   ]
  },
  {
   "cell_type": "code",
   "execution_count": null,
   "id": "d51f9454",
   "metadata": {},
   "outputs": [],
   "source": [
    "# Get the best estimator\n",
    "best_tree_model = grid_search.best_estimator_\n",
    "\n",
    "# Evaluate the best model\n",
    "from sklearn.metrics import mean_squared_error\n",
    "\n",
    "y_pred = best_tree_model.predict(X_test)\n",
    "mse = mean_squared_error(y_test, y_pred)\n",
    "rmse = np.sqrt(mse)\n",
    "\n",
    "print(\"Root Mean Squared Error:\", rmse)\n"
   ]
  },
  {
   "cell_type": "markdown",
   "id": "3e884a2b",
   "metadata": {},
   "source": [
    "These results suggest that constraining the maximum depth of the tree to 15 has not significantly impacted the model's performance on the test set, which is a good sign. It means that your model is still performing well while being slightly more constrained, which can help prevent overfitting."
   ]
  },
  {
   "cell_type": "markdown",
   "id": "0f366ac0",
   "metadata": {},
   "source": [
    "### Random Forest"
   ]
  },
  {
   "cell_type": "code",
   "execution_count": null,
   "id": "ddaa0820",
   "metadata": {},
   "outputs": [],
   "source": [
    "from sklearn.ensemble import RandomForestRegressor\n"
   ]
  },
  {
   "cell_type": "code",
   "execution_count": null,
   "id": "e85bb858",
   "metadata": {},
   "outputs": [],
   "source": [
    "random_forest_model = RandomForestRegressor(random_state=42)\n"
   ]
  },
  {
   "cell_type": "code",
   "execution_count": null,
   "id": "a494bc56",
   "metadata": {},
   "outputs": [],
   "source": [
    "random_forest_model.fit(X_train, y_train)"
   ]
  },
  {
   "cell_type": "code",
   "execution_count": null,
   "id": "2824466d",
   "metadata": {},
   "outputs": [],
   "source": [
    "y_pred_rf = random_forest_model.predict(X_test)\n",
    "\n",
    "mse_rf = mean_squared_error(y_test, y_pred_rf)\n",
    "rmse_rf = np.sqrt(mse_rf)\n",
    "\n",
    "print(\"Random Forest RMSE:\", rmse_rf)\n"
   ]
  },
  {
   "cell_type": "code",
   "execution_count": null,
   "id": "c51db2f5",
   "metadata": {},
   "outputs": [],
   "source": []
  },
  {
   "cell_type": "markdown",
   "id": "5b92a898",
   "metadata": {},
   "source": [
    "**Hyperparameter Optimization**"
   ]
  },
  {
   "cell_type": "code",
   "execution_count": null,
   "id": "6366bdc0",
   "metadata": {},
   "outputs": [],
   "source": [
    "param_grid_rf = {\n",
    "    'n_estimators': [100, 200, 300],  # Number of trees in the forest\n",
    "    'max_depth': [None, 10, 20, 30],  # Maximum depth of the trees\n",
    "    'min_samples_split': [2, 5, 10],  # Minimum number of samples required to split a node\n",
    "    'min_samples_leaf': [1, 2, 4]  # Minimum number of samples required at a leaf node\n",
    "}\n"
   ]
  },
  {
   "cell_type": "code",
   "execution_count": null,
   "id": "143faaa4",
   "metadata": {},
   "outputs": [],
   "source": [
    "from sklearn.model_selection import GridSearchCV\n",
    "\n",
    "grid_search_rf = GridSearchCV(RandomForestRegressor(random_state=42), param_grid_rf, cv=5, scoring='neg_mean_squared_error', n_jobs=-1)\n"
   ]
  },
  {
   "cell_type": "code",
   "execution_count": null,
   "id": "0b1a203f",
   "metadata": {},
   "outputs": [],
   "source": [
    "grid_search_rf.fit(X_train, y_train)\n"
   ]
  },
  {
   "cell_type": "code",
   "execution_count": null,
   "id": "7c7c14b2",
   "metadata": {},
   "outputs": [],
   "source": [
    "print(\"Best parameters:\", grid_search_rf.best_params_)\n",
    "best_rf_model = grid_search_rf.best_estimator_\n"
   ]
  },
  {
   "cell_type": "code",
   "execution_count": null,
   "id": "bad3e533",
   "metadata": {},
   "outputs": [],
   "source": [
    "y_pred_best_rf = best_rf_model.predict(X_test)\n",
    "\n",
    "mse_best_rf = mean_squared_error(y_test, y_pred_best_rf)\n",
    "rmse_best_rf = np.sqrt(mse_best_rf)\n",
    "\n",
    "print(\"Best Random Forest RMSE:\", rmse_best_rf)\n"
   ]
  },
  {
   "cell_type": "code",
   "execution_count": null,
   "id": "49680158",
   "metadata": {},
   "outputs": [],
   "source": [
    "plt.figure(figsize=(10, 6))\n",
    "plt.scatter(y_test, y_pred_best_rf, alpha=0.5)\n",
    "plt.plot([y_test.min(), y_test.max()], [y_test.min(), y_test.max()], 'k--', lw=2)  # Diagonal line\n",
    "plt.xlabel(\"Actual Close Rate\")\n",
    "plt.ylabel(\"Predicted Close Rate\")\n",
    "plt.title(\"Actual vs. Predicted Close Rate\")\n",
    "plt.show()\n"
   ]
  },
  {
   "cell_type": "code",
   "execution_count": null,
   "id": "cc340120",
   "metadata": {},
   "outputs": [],
   "source": [
    "# Create a DataFrame to hold the actual and predicted values\n",
    "results_df = pd.DataFrame({'Actual': y_test, 'Predicted': y_pred_best_rf})\n",
    "results_df = results_df.sort_index()  # Sort by index if your data is time series\n",
    "\n",
    "# Plot the actual and predicted values\n",
    "plt.figure(figsize=(15, 6))\n",
    "plt.plot(results_df['Actual'], label='Actual', alpha=0.7)\n",
    "plt.plot(results_df['Predicted'], label='Predicted', alpha=0.7)\n",
    "plt.xlabel(\"Date\" if results_df.index.dtype == 'datetime64[ns]' else \"Index\")\n",
    "plt.ylabel(\"Close Rate\")\n",
    "plt.title(\"Actual vs. Predicted Close Rate\")\n",
    "plt.legend()\n",
    "plt.show()\n"
   ]
  },
  {
   "cell_type": "code",
   "execution_count": null,
   "id": "4c6d07d5",
   "metadata": {},
   "outputs": [],
   "source": []
  },
  {
   "cell_type": "code",
   "execution_count": null,
   "id": "f4a865dc",
   "metadata": {},
   "outputs": [],
   "source": [
    "# Make predictions on the training set for plotting\n",
    "y_train_pred = best_rf_model.predict(X_train)\n",
    "\n",
    "# Create a DataFrame to hold the actual and predicted values for both sets\n",
    "results_df_train = pd.DataFrame({'Actual': y_train, 'Predicted': y_train_pred}, index=X_train.index)\n",
    "results_df_test = pd.DataFrame({'Actual': y_test, 'Predicted': y_pred_best_rf}, index=X_test.index)\n",
    "\n",
    "# Plot the actual and predicted values for both sets\n",
    "plt.figure(figsize=(15, 6))\n",
    "plt.plot(results_df_train['Actual'], label='Actual Train', alpha=0.7)\n",
    "plt.plot(results_df_train['Predicted'], label='Predicted Train', alpha=0.7, linestyle='--')\n",
    "plt.plot(results_df_test['Actual'], label='Actual Test', alpha=0.7)\n",
    "plt.plot(results_df_test['Predicted'], label='Predicted Test', alpha=0.7, linestyle='--')\n",
    "plt.xlabel(\"Date\" if results_df_train.index.dtype == 'datetime64[ns]' else \"Index\")\n",
    "plt.ylabel(\"Close Rate\")\n",
    "plt.title(\"Actual vs. Predicted Close Rate (Train and Test)\")\n",
    "plt.legend()\n",
    "plt.show()\n"
   ]
  },
  {
   "cell_type": "code",
   "execution_count": null,
   "id": "7bd4a171",
   "metadata": {},
   "outputs": [],
   "source": []
  },
  {
   "cell_type": "code",
   "execution_count": null,
   "id": "ced65730",
   "metadata": {},
   "outputs": [],
   "source": []
  },
  {
   "cell_type": "code",
   "execution_count": null,
   "id": "db12b12a",
   "metadata": {},
   "outputs": [],
   "source": []
  },
  {
   "cell_type": "code",
   "execution_count": null,
   "id": "70121039",
   "metadata": {},
   "outputs": [],
   "source": []
  },
  {
   "cell_type": "code",
   "execution_count": null,
   "id": "2e1b8111",
   "metadata": {},
   "outputs": [],
   "source": []
  },
  {
   "cell_type": "code",
   "execution_count": null,
   "id": "d4a34e50",
   "metadata": {},
   "outputs": [],
   "source": []
  },
  {
   "cell_type": "code",
   "execution_count": null,
   "id": "a85e1b16",
   "metadata": {},
   "outputs": [],
   "source": []
  },
  {
   "cell_type": "code",
   "execution_count": null,
   "id": "daa7517b",
   "metadata": {},
   "outputs": [],
   "source": []
  },
  {
   "cell_type": "code",
   "execution_count": null,
   "id": "48436a40",
   "metadata": {},
   "outputs": [],
   "source": []
  },
  {
   "cell_type": "code",
   "execution_count": null,
   "id": "9278f815",
   "metadata": {},
   "outputs": [],
   "source": []
  },
  {
   "cell_type": "code",
   "execution_count": null,
   "id": "b1aac903",
   "metadata": {},
   "outputs": [],
   "source": []
  },
  {
   "cell_type": "code",
   "execution_count": null,
   "id": "732ffaa6",
   "metadata": {},
   "outputs": [],
   "source": []
  }
 ],
 "metadata": {
  "kernelspec": {
   "display_name": "Python 3 (ipykernel)",
   "language": "python",
   "name": "python3"
  },
  "language_info": {
   "codemirror_mode": {
    "name": "ipython",
    "version": 3
   },
   "file_extension": ".py",
   "mimetype": "text/x-python",
   "name": "python",
   "nbconvert_exporter": "python",
   "pygments_lexer": "ipython3",
   "version": "3.11.5"
  }
 },
 "nbformat": 4,
 "nbformat_minor": 5
}
