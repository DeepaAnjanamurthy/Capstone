{
 "cells": [
  {
   "cell_type": "markdown",
   "id": "f61b7b44",
   "metadata": {},
   "source": [
    "\n",
    "### Continued data analysis\n"
   ]
  },
  {
   "cell_type": "markdown",
   "id": "05cff029",
   "metadata": {},
   "source": [
    "### Decision Tree"
   ]
  },
  {
   "cell_type": "markdown",
   "id": "5677c178",
   "metadata": {},
   "source": [
    "**Library Imports**"
   ]
  },
  {
   "cell_type": "code",
   "execution_count": 2,
   "id": "d75f0ef8",
   "metadata": {},
   "outputs": [],
   "source": [
    "import pandas as pd\n",
    "import numpy as np\n",
    "\n",
    "from sklearn.model_selection import train_test_split\n",
    "from sklearn.tree import DecisionTreeRegressor\n",
    "from sklearn.metrics import mean_squared_error\n",
    "\n",
    "import matplotlib.pyplot as plt\n",
    "import seaborn as sns"
   ]
  },
  {
   "cell_type": "code",
   "execution_count": null,
   "id": "2b35cd54",
   "metadata": {},
   "outputs": [],
   "source": []
  },
  {
   "cell_type": "code",
   "execution_count": 3,
   "id": "0ad88f13",
   "metadata": {},
   "outputs": [
    {
     "data": {
      "text/html": [
       "<div>\n",
       "<style scoped>\n",
       "    .dataframe tbody tr th:only-of-type {\n",
       "        vertical-align: middle;\n",
       "    }\n",
       "\n",
       "    .dataframe tbody tr th {\n",
       "        vertical-align: top;\n",
       "    }\n",
       "\n",
       "    .dataframe thead th {\n",
       "        text-align: right;\n",
       "    }\n",
       "</style>\n",
       "<table border=\"1\" class=\"dataframe\">\n",
       "  <thead>\n",
       "    <tr style=\"text-align: right;\">\n",
       "      <th></th>\n",
       "      <th>Ticker</th>\n",
       "      <th>Open</th>\n",
       "      <th>High</th>\n",
       "      <th>Low</th>\n",
       "      <th>Close</th>\n",
       "      <th>Adj Close</th>\n",
       "      <th>Time</th>\n",
       "    </tr>\n",
       "    <tr>\n",
       "      <th>Date</th>\n",
       "      <th></th>\n",
       "      <th></th>\n",
       "      <th></th>\n",
       "      <th></th>\n",
       "      <th></th>\n",
       "      <th></th>\n",
       "      <th></th>\n",
       "    </tr>\n",
       "  </thead>\n",
       "  <tbody>\n",
       "    <tr>\n",
       "      <th>2008-08-01</th>\n",
       "      <td>CAD=X</td>\n",
       "      <td>1.02340</td>\n",
       "      <td>1.02940</td>\n",
       "      <td>1.02290</td>\n",
       "      <td>1.02460</td>\n",
       "      <td>1.02460</td>\n",
       "      <td>2</td>\n",
       "    </tr>\n",
       "    <tr>\n",
       "      <th>2008-08-04</th>\n",
       "      <td>CAD=X</td>\n",
       "      <td>1.02800</td>\n",
       "      <td>1.03680</td>\n",
       "      <td>1.02620</td>\n",
       "      <td>1.03640</td>\n",
       "      <td>1.03640</td>\n",
       "      <td>8</td>\n",
       "    </tr>\n",
       "    <tr>\n",
       "      <th>2008-08-05</th>\n",
       "      <td>CAD=X</td>\n",
       "      <td>1.03630</td>\n",
       "      <td>1.04480</td>\n",
       "      <td>1.03630</td>\n",
       "      <td>1.04260</td>\n",
       "      <td>1.04260</td>\n",
       "      <td>14</td>\n",
       "    </tr>\n",
       "    <tr>\n",
       "      <th>2008-08-06</th>\n",
       "      <td>CAD=X</td>\n",
       "      <td>1.04260</td>\n",
       "      <td>1.04930</td>\n",
       "      <td>1.04000</td>\n",
       "      <td>1.04750</td>\n",
       "      <td>1.04750</td>\n",
       "      <td>20</td>\n",
       "    </tr>\n",
       "    <tr>\n",
       "      <th>2008-08-07</th>\n",
       "      <td>CAD=X</td>\n",
       "      <td>1.04760</td>\n",
       "      <td>1.05330</td>\n",
       "      <td>1.04490</td>\n",
       "      <td>1.05200</td>\n",
       "      <td>1.05200</td>\n",
       "      <td>26</td>\n",
       "    </tr>\n",
       "    <tr>\n",
       "      <th>...</th>\n",
       "      <td>...</td>\n",
       "      <td>...</td>\n",
       "      <td>...</td>\n",
       "      <td>...</td>\n",
       "      <td>...</td>\n",
       "      <td>...</td>\n",
       "      <td>...</td>\n",
       "    </tr>\n",
       "    <tr>\n",
       "      <th>2023-07-24</th>\n",
       "      <td>CAD=X</td>\n",
       "      <td>1.32240</td>\n",
       "      <td>1.32276</td>\n",
       "      <td>1.31542</td>\n",
       "      <td>1.32240</td>\n",
       "      <td>1.32240</td>\n",
       "      <td>38937</td>\n",
       "    </tr>\n",
       "    <tr>\n",
       "      <th>2023-07-25</th>\n",
       "      <td>CAD=X</td>\n",
       "      <td>1.31746</td>\n",
       "      <td>1.32095</td>\n",
       "      <td>1.31466</td>\n",
       "      <td>1.31746</td>\n",
       "      <td>1.31746</td>\n",
       "      <td>38947</td>\n",
       "    </tr>\n",
       "    <tr>\n",
       "      <th>2023-07-26</th>\n",
       "      <td>CAD=X</td>\n",
       "      <td>1.31871</td>\n",
       "      <td>1.32352</td>\n",
       "      <td>1.31720</td>\n",
       "      <td>1.31871</td>\n",
       "      <td>1.31871</td>\n",
       "      <td>38957</td>\n",
       "    </tr>\n",
       "    <tr>\n",
       "      <th>2023-07-27</th>\n",
       "      <td>CAD=X</td>\n",
       "      <td>1.32046</td>\n",
       "      <td>1.32039</td>\n",
       "      <td>1.31580</td>\n",
       "      <td>1.32046</td>\n",
       "      <td>1.32046</td>\n",
       "      <td>38967</td>\n",
       "    </tr>\n",
       "    <tr>\n",
       "      <th>2023-07-28</th>\n",
       "      <td>CAD=X</td>\n",
       "      <td>1.32270</td>\n",
       "      <td>1.32473</td>\n",
       "      <td>1.32061</td>\n",
       "      <td>1.32270</td>\n",
       "      <td>1.32270</td>\n",
       "      <td>38977</td>\n",
       "    </tr>\n",
       "  </tbody>\n",
       "</table>\n",
       "<p>3905 rows × 7 columns</p>\n",
       "</div>"
      ],
      "text/plain": [
       "           Ticker     Open     High      Low    Close  Adj Close   Time\n",
       "Date                                                                   \n",
       "2008-08-01  CAD=X  1.02340  1.02940  1.02290  1.02460    1.02460      2\n",
       "2008-08-04  CAD=X  1.02800  1.03680  1.02620  1.03640    1.03640      8\n",
       "2008-08-05  CAD=X  1.03630  1.04480  1.03630  1.04260    1.04260     14\n",
       "2008-08-06  CAD=X  1.04260  1.04930  1.04000  1.04750    1.04750     20\n",
       "2008-08-07  CAD=X  1.04760  1.05330  1.04490  1.05200    1.05200     26\n",
       "...           ...      ...      ...      ...      ...        ...    ...\n",
       "2023-07-24  CAD=X  1.32240  1.32276  1.31542  1.32240    1.32240  38937\n",
       "2023-07-25  CAD=X  1.31746  1.32095  1.31466  1.31746    1.31746  38947\n",
       "2023-07-26  CAD=X  1.31871  1.32352  1.31720  1.31871    1.31871  38957\n",
       "2023-07-27  CAD=X  1.32046  1.32039  1.31580  1.32046    1.32046  38967\n",
       "2023-07-28  CAD=X  1.32270  1.32473  1.32061  1.32270    1.32270  38977\n",
       "\n",
       "[3905 rows x 7 columns]"
      ]
     },
     "execution_count": 3,
     "metadata": {},
     "output_type": "execute_result"
    }
   ],
   "source": [
    "# Import the CAD=X currency pair data from the CSV file\n",
    "df = pd.read_csv('cad_x_currency_data.csv', index_col=0)\n",
    "df"
   ]
  },
  {
   "cell_type": "code",
   "execution_count": 4,
   "id": "fde8e5a8",
   "metadata": {},
   "outputs": [
    {
     "data": {
      "text/plain": [
       "(3905, 7)"
      ]
     },
     "execution_count": 4,
     "metadata": {},
     "output_type": "execute_result"
    }
   ],
   "source": [
    "df.shape"
   ]
  },
  {
   "cell_type": "code",
   "execution_count": 5,
   "id": "c414ac66",
   "metadata": {},
   "outputs": [
    {
     "data": {
      "text/html": [
       "<div>\n",
       "<style scoped>\n",
       "    .dataframe tbody tr th:only-of-type {\n",
       "        vertical-align: middle;\n",
       "    }\n",
       "\n",
       "    .dataframe tbody tr th {\n",
       "        vertical-align: top;\n",
       "    }\n",
       "\n",
       "    .dataframe thead th {\n",
       "        text-align: right;\n",
       "    }\n",
       "</style>\n",
       "<table border=\"1\" class=\"dataframe\">\n",
       "  <thead>\n",
       "    <tr style=\"text-align: right;\">\n",
       "      <th></th>\n",
       "      <th>Ticker</th>\n",
       "      <th>Open</th>\n",
       "      <th>High</th>\n",
       "      <th>Low</th>\n",
       "      <th>Close</th>\n",
       "      <th>Adj Close</th>\n",
       "      <th>Time</th>\n",
       "    </tr>\n",
       "    <tr>\n",
       "      <th>Date</th>\n",
       "      <th></th>\n",
       "      <th></th>\n",
       "      <th></th>\n",
       "      <th></th>\n",
       "      <th></th>\n",
       "      <th></th>\n",
       "      <th></th>\n",
       "    </tr>\n",
       "  </thead>\n",
       "  <tbody>\n",
       "    <tr>\n",
       "      <th>2008-08-01</th>\n",
       "      <td>CAD=X</td>\n",
       "      <td>1.0234</td>\n",
       "      <td>1.0294</td>\n",
       "      <td>1.0229</td>\n",
       "      <td>1.0246</td>\n",
       "      <td>1.0246</td>\n",
       "      <td>2</td>\n",
       "    </tr>\n",
       "    <tr>\n",
       "      <th>2008-08-04</th>\n",
       "      <td>CAD=X</td>\n",
       "      <td>1.0280</td>\n",
       "      <td>1.0368</td>\n",
       "      <td>1.0262</td>\n",
       "      <td>1.0364</td>\n",
       "      <td>1.0364</td>\n",
       "      <td>8</td>\n",
       "    </tr>\n",
       "    <tr>\n",
       "      <th>2008-08-05</th>\n",
       "      <td>CAD=X</td>\n",
       "      <td>1.0363</td>\n",
       "      <td>1.0448</td>\n",
       "      <td>1.0363</td>\n",
       "      <td>1.0426</td>\n",
       "      <td>1.0426</td>\n",
       "      <td>14</td>\n",
       "    </tr>\n",
       "    <tr>\n",
       "      <th>2008-08-06</th>\n",
       "      <td>CAD=X</td>\n",
       "      <td>1.0426</td>\n",
       "      <td>1.0493</td>\n",
       "      <td>1.0400</td>\n",
       "      <td>1.0475</td>\n",
       "      <td>1.0475</td>\n",
       "      <td>20</td>\n",
       "    </tr>\n",
       "    <tr>\n",
       "      <th>2008-08-07</th>\n",
       "      <td>CAD=X</td>\n",
       "      <td>1.0476</td>\n",
       "      <td>1.0533</td>\n",
       "      <td>1.0449</td>\n",
       "      <td>1.0520</td>\n",
       "      <td>1.0520</td>\n",
       "      <td>26</td>\n",
       "    </tr>\n",
       "  </tbody>\n",
       "</table>\n",
       "</div>"
      ],
      "text/plain": [
       "           Ticker    Open    High     Low   Close  Adj Close  Time\n",
       "Date                                                              \n",
       "2008-08-01  CAD=X  1.0234  1.0294  1.0229  1.0246     1.0246     2\n",
       "2008-08-04  CAD=X  1.0280  1.0368  1.0262  1.0364     1.0364     8\n",
       "2008-08-05  CAD=X  1.0363  1.0448  1.0363  1.0426     1.0426    14\n",
       "2008-08-06  CAD=X  1.0426  1.0493  1.0400  1.0475     1.0475    20\n",
       "2008-08-07  CAD=X  1.0476  1.0533  1.0449  1.0520     1.0520    26"
      ]
     },
     "execution_count": 5,
     "metadata": {},
     "output_type": "execute_result"
    }
   ],
   "source": [
    "df.head()"
   ]
  },
  {
   "cell_type": "code",
   "execution_count": 6,
   "id": "0f5709e2",
   "metadata": {},
   "outputs": [
    {
     "name": "stdout",
     "output_type": "stream",
     "text": [
      "<class 'pandas.core.frame.DataFrame'>\n",
      "Index: 3905 entries, 2008-08-01 to 2023-07-28\n",
      "Data columns (total 7 columns):\n",
      " #   Column     Non-Null Count  Dtype  \n",
      "---  ------     --------------  -----  \n",
      " 0   Ticker     3905 non-null   object \n",
      " 1   Open       3905 non-null   float64\n",
      " 2   High       3905 non-null   float64\n",
      " 3   Low        3905 non-null   float64\n",
      " 4   Close      3905 non-null   float64\n",
      " 5   Adj Close  3905 non-null   float64\n",
      " 6   Time       3905 non-null   int64  \n",
      "dtypes: float64(5), int64(1), object(1)\n",
      "memory usage: 244.1+ KB\n"
     ]
    }
   ],
   "source": [
    "df.info()"
   ]
  },
  {
   "cell_type": "code",
   "execution_count": 7,
   "id": "5736ffa0",
   "metadata": {},
   "outputs": [
    {
     "data": {
      "text/html": [
       "<div>\n",
       "<style scoped>\n",
       "    .dataframe tbody tr th:only-of-type {\n",
       "        vertical-align: middle;\n",
       "    }\n",
       "\n",
       "    .dataframe tbody tr th {\n",
       "        vertical-align: top;\n",
       "    }\n",
       "\n",
       "    .dataframe thead th {\n",
       "        text-align: right;\n",
       "    }\n",
       "</style>\n",
       "<table border=\"1\" class=\"dataframe\">\n",
       "  <thead>\n",
       "    <tr style=\"text-align: right;\">\n",
       "      <th></th>\n",
       "      <th>Open</th>\n",
       "      <th>High</th>\n",
       "      <th>Low</th>\n",
       "      <th>Close</th>\n",
       "      <th>Adj Close</th>\n",
       "      <th>Time</th>\n",
       "    </tr>\n",
       "  </thead>\n",
       "  <tbody>\n",
       "    <tr>\n",
       "      <th>count</th>\n",
       "      <td>3905.000000</td>\n",
       "      <td>3905.000000</td>\n",
       "      <td>3905.000000</td>\n",
       "      <td>3905.000000</td>\n",
       "      <td>3905.000000</td>\n",
       "      <td>3905.000000</td>\n",
       "    </tr>\n",
       "    <tr>\n",
       "      <th>mean</th>\n",
       "      <td>1.198423</td>\n",
       "      <td>1.202731</td>\n",
       "      <td>1.194271</td>\n",
       "      <td>1.198412</td>\n",
       "      <td>1.198412</td>\n",
       "      <td>19457.018438</td>\n",
       "    </tr>\n",
       "    <tr>\n",
       "      <th>std</th>\n",
       "      <td>0.136652</td>\n",
       "      <td>0.136947</td>\n",
       "      <td>0.136378</td>\n",
       "      <td>0.136623</td>\n",
       "      <td>0.136623</td>\n",
       "      <td>11274.606568</td>\n",
       "    </tr>\n",
       "    <tr>\n",
       "      <th>min</th>\n",
       "      <td>0.943000</td>\n",
       "      <td>0.947200</td>\n",
       "      <td>0.940600</td>\n",
       "      <td>0.943200</td>\n",
       "      <td>0.943200</td>\n",
       "      <td>2.000000</td>\n",
       "    </tr>\n",
       "    <tr>\n",
       "      <th>25%</th>\n",
       "      <td>1.049800</td>\n",
       "      <td>1.054770</td>\n",
       "      <td>1.044800</td>\n",
       "      <td>1.049800</td>\n",
       "      <td>1.049800</td>\n",
       "      <td>9693.000000</td>\n",
       "    </tr>\n",
       "    <tr>\n",
       "      <th>50%</th>\n",
       "      <td>1.254420</td>\n",
       "      <td>1.259230</td>\n",
       "      <td>1.250170</td>\n",
       "      <td>1.254400</td>\n",
       "      <td>1.254400</td>\n",
       "      <td>19458.000000</td>\n",
       "    </tr>\n",
       "    <tr>\n",
       "      <th>75%</th>\n",
       "      <td>1.315860</td>\n",
       "      <td>1.319310</td>\n",
       "      <td>1.312870</td>\n",
       "      <td>1.315800</td>\n",
       "      <td>1.315800</td>\n",
       "      <td>29218.000000</td>\n",
       "    </tr>\n",
       "    <tr>\n",
       "      <th>max</th>\n",
       "      <td>1.458030</td>\n",
       "      <td>1.468730</td>\n",
       "      <td>1.449370</td>\n",
       "      <td>1.457800</td>\n",
       "      <td>1.457800</td>\n",
       "      <td>38977.000000</td>\n",
       "    </tr>\n",
       "  </tbody>\n",
       "</table>\n",
       "</div>"
      ],
      "text/plain": [
       "              Open         High          Low        Close    Adj Close  \\\n",
       "count  3905.000000  3905.000000  3905.000000  3905.000000  3905.000000   \n",
       "mean      1.198423     1.202731     1.194271     1.198412     1.198412   \n",
       "std       0.136652     0.136947     0.136378     0.136623     0.136623   \n",
       "min       0.943000     0.947200     0.940600     0.943200     0.943200   \n",
       "25%       1.049800     1.054770     1.044800     1.049800     1.049800   \n",
       "50%       1.254420     1.259230     1.250170     1.254400     1.254400   \n",
       "75%       1.315860     1.319310     1.312870     1.315800     1.315800   \n",
       "max       1.458030     1.468730     1.449370     1.457800     1.457800   \n",
       "\n",
       "               Time  \n",
       "count   3905.000000  \n",
       "mean   19457.018438  \n",
       "std    11274.606568  \n",
       "min        2.000000  \n",
       "25%     9693.000000  \n",
       "50%    19458.000000  \n",
       "75%    29218.000000  \n",
       "max    38977.000000  "
      ]
     },
     "execution_count": 7,
     "metadata": {},
     "output_type": "execute_result"
    }
   ],
   "source": [
    "df.describe()"
   ]
  },
  {
   "cell_type": "code",
   "execution_count": null,
   "id": "1cb92efb",
   "metadata": {},
   "outputs": [],
   "source": []
  },
  {
   "cell_type": "code",
   "execution_count": 8,
   "id": "44ba05ac",
   "metadata": {},
   "outputs": [
    {
     "name": "stdout",
     "output_type": "stream",
     "text": [
      "Ticker       0\n",
      "Open         0\n",
      "High         0\n",
      "Low          0\n",
      "Close        0\n",
      "Adj Close    0\n",
      "Time         0\n",
      "dtype: int64\n"
     ]
    }
   ],
   "source": [
    "# Check for missing values in each column\n",
    "missing_values = df.isna().sum()\n",
    "print(missing_values)"
   ]
  },
  {
   "cell_type": "code",
   "execution_count": null,
   "id": "05c7013d",
   "metadata": {},
   "outputs": [],
   "source": []
  },
  {
   "cell_type": "code",
   "execution_count": 9,
   "id": "2b5e863a",
   "metadata": {},
   "outputs": [],
   "source": [
    "X = df[['Open', 'High', 'Low']]  # Features\n",
    "y = df['Close']  # Target"
   ]
  },
  {
   "cell_type": "code",
   "execution_count": null,
   "id": "cb87d776",
   "metadata": {},
   "outputs": [],
   "source": []
  },
  {
   "cell_type": "markdown",
   "id": "baa72b2a",
   "metadata": {},
   "source": [
    "**Train test split**"
   ]
  },
  {
   "cell_type": "markdown",
   "id": "badf31a7",
   "metadata": {},
   "source": [
    "Train test split ratio - 80-20"
   ]
  },
  {
   "cell_type": "code",
   "execution_count": 10,
   "id": "29974190",
   "metadata": {},
   "outputs": [],
   "source": [
    "# Splitting the data into training and testing sets\n",
    "X_train, X_test, y_train, y_test = train_test_split(X, y, test_size=0.2, random_state=42)"
   ]
  },
  {
   "cell_type": "code",
   "execution_count": 11,
   "id": "ec285e17",
   "metadata": {},
   "outputs": [
    {
     "data": {
      "text/html": [
       "<style>#sk-container-id-1 {color: black;}#sk-container-id-1 pre{padding: 0;}#sk-container-id-1 div.sk-toggleable {background-color: white;}#sk-container-id-1 label.sk-toggleable__label {cursor: pointer;display: block;width: 100%;margin-bottom: 0;padding: 0.3em;box-sizing: border-box;text-align: center;}#sk-container-id-1 label.sk-toggleable__label-arrow:before {content: \"▸\";float: left;margin-right: 0.25em;color: #696969;}#sk-container-id-1 label.sk-toggleable__label-arrow:hover:before {color: black;}#sk-container-id-1 div.sk-estimator:hover label.sk-toggleable__label-arrow:before {color: black;}#sk-container-id-1 div.sk-toggleable__content {max-height: 0;max-width: 0;overflow: hidden;text-align: left;background-color: #f0f8ff;}#sk-container-id-1 div.sk-toggleable__content pre {margin: 0.2em;color: black;border-radius: 0.25em;background-color: #f0f8ff;}#sk-container-id-1 input.sk-toggleable__control:checked~div.sk-toggleable__content {max-height: 200px;max-width: 100%;overflow: auto;}#sk-container-id-1 input.sk-toggleable__control:checked~label.sk-toggleable__label-arrow:before {content: \"▾\";}#sk-container-id-1 div.sk-estimator input.sk-toggleable__control:checked~label.sk-toggleable__label {background-color: #d4ebff;}#sk-container-id-1 div.sk-label input.sk-toggleable__control:checked~label.sk-toggleable__label {background-color: #d4ebff;}#sk-container-id-1 input.sk-hidden--visually {border: 0;clip: rect(1px 1px 1px 1px);clip: rect(1px, 1px, 1px, 1px);height: 1px;margin: -1px;overflow: hidden;padding: 0;position: absolute;width: 1px;}#sk-container-id-1 div.sk-estimator {font-family: monospace;background-color: #f0f8ff;border: 1px dotted black;border-radius: 0.25em;box-sizing: border-box;margin-bottom: 0.5em;}#sk-container-id-1 div.sk-estimator:hover {background-color: #d4ebff;}#sk-container-id-1 div.sk-parallel-item::after {content: \"\";width: 100%;border-bottom: 1px solid gray;flex-grow: 1;}#sk-container-id-1 div.sk-label:hover label.sk-toggleable__label {background-color: #d4ebff;}#sk-container-id-1 div.sk-serial::before {content: \"\";position: absolute;border-left: 1px solid gray;box-sizing: border-box;top: 0;bottom: 0;left: 50%;z-index: 0;}#sk-container-id-1 div.sk-serial {display: flex;flex-direction: column;align-items: center;background-color: white;padding-right: 0.2em;padding-left: 0.2em;position: relative;}#sk-container-id-1 div.sk-item {position: relative;z-index: 1;}#sk-container-id-1 div.sk-parallel {display: flex;align-items: stretch;justify-content: center;background-color: white;position: relative;}#sk-container-id-1 div.sk-item::before, #sk-container-id-1 div.sk-parallel-item::before {content: \"\";position: absolute;border-left: 1px solid gray;box-sizing: border-box;top: 0;bottom: 0;left: 50%;z-index: -1;}#sk-container-id-1 div.sk-parallel-item {display: flex;flex-direction: column;z-index: 1;position: relative;background-color: white;}#sk-container-id-1 div.sk-parallel-item:first-child::after {align-self: flex-end;width: 50%;}#sk-container-id-1 div.sk-parallel-item:last-child::after {align-self: flex-start;width: 50%;}#sk-container-id-1 div.sk-parallel-item:only-child::after {width: 0;}#sk-container-id-1 div.sk-dashed-wrapped {border: 1px dashed gray;margin: 0 0.4em 0.5em 0.4em;box-sizing: border-box;padding-bottom: 0.4em;background-color: white;}#sk-container-id-1 div.sk-label label {font-family: monospace;font-weight: bold;display: inline-block;line-height: 1.2em;}#sk-container-id-1 div.sk-label-container {text-align: center;}#sk-container-id-1 div.sk-container {/* jupyter's `normalize.less` sets `[hidden] { display: none; }` but bootstrap.min.css set `[hidden] { display: none !important; }` so we also need the `!important` here to be able to override the default hidden behavior on the sphinx rendered scikit-learn.org. See: https://github.com/scikit-learn/scikit-learn/issues/21755 */display: inline-block !important;position: relative;}#sk-container-id-1 div.sk-text-repr-fallback {display: none;}</style><div id=\"sk-container-id-1\" class=\"sk-top-container\"><div class=\"sk-text-repr-fallback\"><pre>DecisionTreeRegressor(random_state=42)</pre><b>In a Jupyter environment, please rerun this cell to show the HTML representation or trust the notebook. <br />On GitHub, the HTML representation is unable to render, please try loading this page with nbviewer.org.</b></div><div class=\"sk-container\" hidden><div class=\"sk-item\"><div class=\"sk-estimator sk-toggleable\"><input class=\"sk-toggleable__control sk-hidden--visually\" id=\"sk-estimator-id-1\" type=\"checkbox\" checked><label for=\"sk-estimator-id-1\" class=\"sk-toggleable__label sk-toggleable__label-arrow\">DecisionTreeRegressor</label><div class=\"sk-toggleable__content\"><pre>DecisionTreeRegressor(random_state=42)</pre></div></div></div></div></div>"
      ],
      "text/plain": [
       "DecisionTreeRegressor(random_state=42)"
      ]
     },
     "execution_count": 11,
     "metadata": {},
     "output_type": "execute_result"
    }
   ],
   "source": [
    "# Initialize the Decision Tree Regressor\n",
    "tree_model = DecisionTreeRegressor(random_state=42)\n",
    "\n",
    "# Train the model on the training data\n",
    "tree_model.fit(X_train, y_train)"
   ]
  },
  {
   "cell_type": "markdown",
   "id": "b685340f",
   "metadata": {},
   "source": [
    "**Model Evaluation**"
   ]
  },
  {
   "cell_type": "code",
   "execution_count": 12,
   "id": "be3be26b",
   "metadata": {},
   "outputs": [],
   "source": [
    "# Making predictions on the testing set\n",
    "y_pred = tree_model.predict(X_test)"
   ]
  },
  {
   "cell_type": "code",
   "execution_count": 13,
   "id": "28d890a6",
   "metadata": {},
   "outputs": [
    {
     "name": "stdout",
     "output_type": "stream",
     "text": [
      "MSE: 1.3787701828167626e-05\n",
      "RMSE: 0.003713179476966825\n"
     ]
    }
   ],
   "source": [
    "# Calculating MSE and RMSE\n",
    "mse = mean_squared_error(y_test, y_pred)\n",
    "rmse = np.sqrt(mse)\n",
    "\n",
    "print(f\"MSE: {mse}\")\n",
    "print(f\"RMSE: {rmse}\")"
   ]
  },
  {
   "cell_type": "code",
   "execution_count": 14,
   "id": "27493d70",
   "metadata": {},
   "outputs": [
    {
     "data": {
      "image/png": "[encoded data removed]",
      "text/plain": [
       "<Figure size 1000x600 with 1 Axes>"
      ]
     },
     "metadata": {},
     "output_type": "display_data"
    }
   ],
   "source": [
    "plt.figure(figsize=(10, 6))\n",
    "ax = sns.regplot(x=y_test, y=y_pred, scatter_kws={'alpha':0.5}, line_kws={'color':'red'})\n",
    "plt.xlabel('Actual Close Rate')\n",
    "plt.ylabel('Predicted Close Rate')\n",
    "plt.title('Actual vs. Predicted Close Rate')\n",
    "\n",
    "# Add a legend\n",
    "line = plt.Line2D([0,1],[0,0], color='red', linestyle='-')\n",
    "plt.legend([line], ['Line of Best Fit'])\n",
    "plt.show()\n"
   ]
  },
  {
   "cell_type": "markdown",
   "id": "7dd4c920",
   "metadata": {},
   "source": [
    "**Plotting residuals**"
   ]
  },
  {
   "cell_type": "code",
   "execution_count": 15,
   "id": "17c2f13f",
   "metadata": {},
   "outputs": [
    {
     "data": {
      "image/png": "[encoded data removed]",
      "text/plain": [
       "<Figure size 1000x600 with 1 Axes>"
      ]
     },
     "metadata": {},
     "output_type": "display_data"
    }
   ],
   "source": [
    "# Calculate residuals\n",
    "residuals = y_test - y_pred\n",
    "\n",
    "# Create a residual plot\n",
    "plt.figure(figsize=(10, 6))\n",
    "sns.residplot(x=y_test, y=residuals, scatter_kws={'alpha':0.5})\n",
    "plt.xlabel('Actual Close Rate')\n",
    "plt.ylabel('Residuals')\n",
    "plt.title('Residual Plot')\n",
    "plt.axhline(y=0, color='red', linestyle='--')\n",
    "plt.show()\n"
   ]
  },
  {
   "cell_type": "code",
   "execution_count": null,
   "id": "589bd22a",
   "metadata": {},
   "outputs": [],
   "source": []
  },
  {
   "cell_type": "code",
   "execution_count": null,
   "id": "3aad67bf",
   "metadata": {},
   "outputs": [],
   "source": []
  },
  {
   "cell_type": "code",
   "execution_count": null,
   "id": "974be8f7",
   "metadata": {},
   "outputs": [],
   "source": []
  },
  {
   "cell_type": "code",
   "execution_count": null,
   "id": "0828a613",
   "metadata": {},
   "outputs": [],
   "source": []
  },
  {
   "cell_type": "code",
   "execution_count": null,
   "id": "e3209636",
   "metadata": {},
   "outputs": [],
   "source": []
  },
  {
   "cell_type": "code",
   "execution_count": null,
   "id": "4ed1ac4a",
   "metadata": {},
   "outputs": [],
   "source": []
  },
  {
   "cell_type": "code",
   "execution_count": null,
   "id": "b1099731",
   "metadata": {},
   "outputs": [],
   "source": []
  },
  {
   "cell_type": "code",
   "execution_count": null,
   "id": "864c1a7e",
   "metadata": {},
   "outputs": [],
   "source": []
  },
  {
   "cell_type": "code",
   "execution_count": null,
   "id": "006031c4",
   "metadata": {},
   "outputs": [],
   "source": []
  },
  {
   "cell_type": "code",
   "execution_count": null,
   "id": "687b923c",
   "metadata": {},
   "outputs": [],
   "source": []
  },
  {
   "cell_type": "code",
   "execution_count": null,
   "id": "fbee8530",
   "metadata": {},
   "outputs": [],
   "source": []
  },
  {
   "cell_type": "code",
   "execution_count": null,
   "id": "28cc1f85",
   "metadata": {},
   "outputs": [],
   "source": []
  },
  {
   "cell_type": "code",
   "execution_count": null,
   "id": "702b5245",
   "metadata": {},
   "outputs": [],
   "source": []
  },
  {
   "cell_type": "code",
   "execution_count": null,
   "id": "bfbf42f8",
   "metadata": {},
   "outputs": [],
   "source": []
  },
  {
   "cell_type": "code",
   "execution_count": null,
   "id": "3b0133a8",
   "metadata": {},
   "outputs": [],
   "source": []
  },
  {
   "cell_type": "code",
   "execution_count": null,
   "id": "ca223a7b",
   "metadata": {},
   "outputs": [],
   "source": []
  },
  {
   "cell_type": "code",
   "execution_count": null,
   "id": "273e1ee5",
   "metadata": {},
   "outputs": [],
   "source": []
  },
  {
   "cell_type": "code",
   "execution_count": null,
   "id": "14d8f8b6",
   "metadata": {},
   "outputs": [],
   "source": []
  },
  {
   "cell_type": "code",
   "execution_count": null,
   "id": "4c409c32",
   "metadata": {},
   "outputs": [],
   "source": []
  },
  {
   "cell_type": "code",
   "execution_count": null,
   "id": "7a1ca401",
   "metadata": {},
   "outputs": [],
   "source": []
  },
  {
   "cell_type": "code",
   "execution_count": null,
   "id": "58e2ec3d",
   "metadata": {},
   "outputs": [],
   "source": []
  },
  {
   "cell_type": "code",
   "execution_count": null,
   "id": "d3039488",
   "metadata": {},
   "outputs": [],
   "source": []
  }
 ],
 "metadata": {
  "kernelspec": {
   "display_name": "Python 3 (ipykernel)",
   "language": "python",
   "name": "python3"
  },
  "language_info": {
   "codemirror_mode": {
    "name": "ipython",
    "version": 3
   },
   "file_extension": ".py",
   "mimetype": "text/x-python",
   "name": "python",
   "nbconvert_exporter": "python",
   "pygments_lexer": "ipython3",
   "version": "3.11.5"
  }
 },
 "nbformat": 4,
 "nbformat_minor": 5
}
