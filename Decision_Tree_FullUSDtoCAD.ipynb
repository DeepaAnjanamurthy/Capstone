{
 "cells": [
  {
   "cell_type": "markdown",
   "id": "3d81e425",
   "metadata": {},
   "source": [
    "\n",
    "### Continued data analysis\n"
   ]
  },
  {
   "cell_type": "markdown",
   "id": "029b6534",
   "metadata": {},
   "source": [
    "### Decision Tree"
   ]
  },
  {
   "cell_type": "markdown",
   "id": "da16d79d",
   "metadata": {},
   "source": [
    "\n",
    "**Library Imports**"
   ]
  },
  {
   "cell_type": "markdown",
   "id": "fa651d38",
   "metadata": {},
   "source": [
    "In this section, we import the necessary libraries for data manipulation, visualization, and modeling."
   ]
  },
  {
   "cell_type": "code",
   "execution_count": 1,
   "id": "0b9aa284",
   "metadata": {},
   "outputs": [],
   "source": [
    "import pandas as pd\n",
    "import numpy as np\n",
    "\n",
    "from sklearn.model_selection import train_test_split\n",
    "from sklearn.tree import DecisionTreeRegressor\n",
    "from sklearn.metrics import mean_squared_error\n",
    "\n",
    "import matplotlib.pyplot as plt\n",
    "import seaborn as sns"
   ]
  },
  {
   "cell_type": "markdown",
   "id": "9e7bc956",
   "metadata": {},
   "source": [
    "Next, we load the CAD=X currency pair data from a CSV file into a pandas DataFrame. The index_col=0 argument sets the first column as the index."
   ]
  },
  {
   "cell_type": "code",
   "execution_count": 2,
   "id": "0929667b",
   "metadata": {},
   "outputs": [
    {
     "data": {
      "text/html": [
       "<div>\n",
       "<style scoped>\n",
       "    .dataframe tbody tr th:only-of-type {\n",
       "        vertical-align: middle;\n",
       "    }\n",
       "\n",
       "    .dataframe tbody tr th {\n",
       "        vertical-align: top;\n",
       "    }\n",
       "\n",
       "    .dataframe thead th {\n",
       "        text-align: right;\n",
       "    }\n",
       "</style>\n",
       "<table border=\"1\" class=\"dataframe\">\n",
       "  <thead>\n",
       "    <tr style=\"text-align: right;\">\n",
       "      <th></th>\n",
       "      <th>Ticker</th>\n",
       "      <th>Open</th>\n",
       "      <th>High</th>\n",
       "      <th>Low</th>\n",
       "      <th>Close</th>\n",
       "      <th>Adj Close</th>\n",
       "      <th>Time</th>\n",
       "    </tr>\n",
       "    <tr>\n",
       "      <th>Date</th>\n",
       "      <th></th>\n",
       "      <th></th>\n",
       "      <th></th>\n",
       "      <th></th>\n",
       "      <th></th>\n",
       "      <th></th>\n",
       "      <th></th>\n",
       "    </tr>\n",
       "  </thead>\n",
       "  <tbody>\n",
       "    <tr>\n",
       "      <th>2008-08-01</th>\n",
       "      <td>CAD=X</td>\n",
       "      <td>1.02340</td>\n",
       "      <td>1.02940</td>\n",
       "      <td>1.02290</td>\n",
       "      <td>1.02460</td>\n",
       "      <td>1.02460</td>\n",
       "      <td>2</td>\n",
       "    </tr>\n",
       "    <tr>\n",
       "      <th>2008-08-04</th>\n",
       "      <td>CAD=X</td>\n",
       "      <td>1.02800</td>\n",
       "      <td>1.03680</td>\n",
       "      <td>1.02620</td>\n",
       "      <td>1.03640</td>\n",
       "      <td>1.03640</td>\n",
       "      <td>8</td>\n",
       "    </tr>\n",
       "    <tr>\n",
       "      <th>2008-08-05</th>\n",
       "      <td>CAD=X</td>\n",
       "      <td>1.03630</td>\n",
       "      <td>1.04480</td>\n",
       "      <td>1.03630</td>\n",
       "      <td>1.04260</td>\n",
       "      <td>1.04260</td>\n",
       "      <td>14</td>\n",
       "    </tr>\n",
       "    <tr>\n",
       "      <th>2008-08-06</th>\n",
       "      <td>CAD=X</td>\n",
       "      <td>1.04260</td>\n",
       "      <td>1.04930</td>\n",
       "      <td>1.04000</td>\n",
       "      <td>1.04750</td>\n",
       "      <td>1.04750</td>\n",
       "      <td>20</td>\n",
       "    </tr>\n",
       "    <tr>\n",
       "      <th>2008-08-07</th>\n",
       "      <td>CAD=X</td>\n",
       "      <td>1.04760</td>\n",
       "      <td>1.05330</td>\n",
       "      <td>1.04490</td>\n",
       "      <td>1.05200</td>\n",
       "      <td>1.05200</td>\n",
       "      <td>26</td>\n",
       "    </tr>\n",
       "    <tr>\n",
       "      <th>...</th>\n",
       "      <td>...</td>\n",
       "      <td>...</td>\n",
       "      <td>...</td>\n",
       "      <td>...</td>\n",
       "      <td>...</td>\n",
       "      <td>...</td>\n",
       "      <td>...</td>\n",
       "    </tr>\n",
       "    <tr>\n",
       "      <th>2023-07-24</th>\n",
       "      <td>CAD=X</td>\n",
       "      <td>1.32240</td>\n",
       "      <td>1.32276</td>\n",
       "      <td>1.31542</td>\n",
       "      <td>1.32240</td>\n",
       "      <td>1.32240</td>\n",
       "      <td>38937</td>\n",
       "    </tr>\n",
       "    <tr>\n",
       "      <th>2023-07-25</th>\n",
       "      <td>CAD=X</td>\n",
       "      <td>1.31746</td>\n",
       "      <td>1.32095</td>\n",
       "      <td>1.31466</td>\n",
       "      <td>1.31746</td>\n",
       "      <td>1.31746</td>\n",
       "      <td>38947</td>\n",
       "    </tr>\n",
       "    <tr>\n",
       "      <th>2023-07-26</th>\n",
       "      <td>CAD=X</td>\n",
       "      <td>1.31871</td>\n",
       "      <td>1.32352</td>\n",
       "      <td>1.31720</td>\n",
       "      <td>1.31871</td>\n",
       "      <td>1.31871</td>\n",
       "      <td>38957</td>\n",
       "    </tr>\n",
       "    <tr>\n",
       "      <th>2023-07-27</th>\n",
       "      <td>CAD=X</td>\n",
       "      <td>1.32046</td>\n",
       "      <td>1.32039</td>\n",
       "      <td>1.31580</td>\n",
       "      <td>1.32046</td>\n",
       "      <td>1.32046</td>\n",
       "      <td>38967</td>\n",
       "    </tr>\n",
       "    <tr>\n",
       "      <th>2023-07-28</th>\n",
       "      <td>CAD=X</td>\n",
       "      <td>1.32270</td>\n",
       "      <td>1.32473</td>\n",
       "      <td>1.32061</td>\n",
       "      <td>1.32270</td>\n",
       "      <td>1.32270</td>\n",
       "      <td>38977</td>\n",
       "    </tr>\n",
       "  </tbody>\n",
       "</table>\n",
       "<p>3905 rows × 7 columns</p>\n",
       "</div>"
      ],
      "text/plain": [
       "           Ticker     Open     High      Low    Close  Adj Close   Time\n",
       "Date                                                                   \n",
       "2008-08-01  CAD=X  1.02340  1.02940  1.02290  1.02460    1.02460      2\n",
       "2008-08-04  CAD=X  1.02800  1.03680  1.02620  1.03640    1.03640      8\n",
       "2008-08-05  CAD=X  1.03630  1.04480  1.03630  1.04260    1.04260     14\n",
       "2008-08-06  CAD=X  1.04260  1.04930  1.04000  1.04750    1.04750     20\n",
       "2008-08-07  CAD=X  1.04760  1.05330  1.04490  1.05200    1.05200     26\n",
       "...           ...      ...      ...      ...      ...        ...    ...\n",
       "2023-07-24  CAD=X  1.32240  1.32276  1.31542  1.32240    1.32240  38937\n",
       "2023-07-25  CAD=X  1.31746  1.32095  1.31466  1.31746    1.31746  38947\n",
       "2023-07-26  CAD=X  1.31871  1.32352  1.31720  1.31871    1.31871  38957\n",
       "2023-07-27  CAD=X  1.32046  1.32039  1.31580  1.32046    1.32046  38967\n",
       "2023-07-28  CAD=X  1.32270  1.32473  1.32061  1.32270    1.32270  38977\n",
       "\n",
       "[3905 rows x 7 columns]"
      ]
     },
     "execution_count": 2,
     "metadata": {},
     "output_type": "execute_result"
    }
   ],
   "source": [
    "# Import the CAD=X currency pair data from the CSV file\n",
    "df = pd.read_csv('cad_x_currency_data.csv', index_col=0)\n",
    "df"
   ]
  },
  {
   "cell_type": "markdown",
   "id": "548df61c",
   "metadata": {},
   "source": [
    "**Initial Data Exploration**"
   ]
  },
  {
   "cell_type": "markdown",
   "id": "31ce42a7",
   "metadata": {},
   "source": [
    "Before diving into modeling, it's crucial to understand the basic structure and characteristics of the dataset."
   ]
  },
  {
   "cell_type": "code",
   "execution_count": 3,
   "id": "c0c550fa",
   "metadata": {},
   "outputs": [
    {
     "data": {
      "text/plain": [
       "(3905, 7)"
      ]
     },
     "execution_count": 3,
     "metadata": {},
     "output_type": "execute_result"
    }
   ],
   "source": [
    "df.shape"
   ]
  },
  {
   "cell_type": "code",
   "execution_count": 4,
   "id": "f5a251b6",
   "metadata": {},
   "outputs": [
    {
     "data": {
      "text/html": [
       "<div>\n",
       "<style scoped>\n",
       "    .dataframe tbody tr th:only-of-type {\n",
       "        vertical-align: middle;\n",
       "    }\n",
       "\n",
       "    .dataframe tbody tr th {\n",
       "        vertical-align: top;\n",
       "    }\n",
       "\n",
       "    .dataframe thead th {\n",
       "        text-align: right;\n",
       "    }\n",
       "</style>\n",
       "<table border=\"1\" class=\"dataframe\">\n",
       "  <thead>\n",
       "    <tr style=\"text-align: right;\">\n",
       "      <th></th>\n",
       "      <th>Ticker</th>\n",
       "      <th>Open</th>\n",
       "      <th>High</th>\n",
       "      <th>Low</th>\n",
       "      <th>Close</th>\n",
       "      <th>Adj Close</th>\n",
       "      <th>Time</th>\n",
       "    </tr>\n",
       "    <tr>\n",
       "      <th>Date</th>\n",
       "      <th></th>\n",
       "      <th></th>\n",
       "      <th></th>\n",
       "      <th></th>\n",
       "      <th></th>\n",
       "      <th></th>\n",
       "      <th></th>\n",
       "    </tr>\n",
       "  </thead>\n",
       "  <tbody>\n",
       "    <tr>\n",
       "      <th>2008-08-01</th>\n",
       "      <td>CAD=X</td>\n",
       "      <td>1.0234</td>\n",
       "      <td>1.0294</td>\n",
       "      <td>1.0229</td>\n",
       "      <td>1.0246</td>\n",
       "      <td>1.0246</td>\n",
       "      <td>2</td>\n",
       "    </tr>\n",
       "    <tr>\n",
       "      <th>2008-08-04</th>\n",
       "      <td>CAD=X</td>\n",
       "      <td>1.0280</td>\n",
       "      <td>1.0368</td>\n",
       "      <td>1.0262</td>\n",
       "      <td>1.0364</td>\n",
       "      <td>1.0364</td>\n",
       "      <td>8</td>\n",
       "    </tr>\n",
       "    <tr>\n",
       "      <th>2008-08-05</th>\n",
       "      <td>CAD=X</td>\n",
       "      <td>1.0363</td>\n",
       "      <td>1.0448</td>\n",
       "      <td>1.0363</td>\n",
       "      <td>1.0426</td>\n",
       "      <td>1.0426</td>\n",
       "      <td>14</td>\n",
       "    </tr>\n",
       "    <tr>\n",
       "      <th>2008-08-06</th>\n",
       "      <td>CAD=X</td>\n",
       "      <td>1.0426</td>\n",
       "      <td>1.0493</td>\n",
       "      <td>1.0400</td>\n",
       "      <td>1.0475</td>\n",
       "      <td>1.0475</td>\n",
       "      <td>20</td>\n",
       "    </tr>\n",
       "    <tr>\n",
       "      <th>2008-08-07</th>\n",
       "      <td>CAD=X</td>\n",
       "      <td>1.0476</td>\n",
       "      <td>1.0533</td>\n",
       "      <td>1.0449</td>\n",
       "      <td>1.0520</td>\n",
       "      <td>1.0520</td>\n",
       "      <td>26</td>\n",
       "    </tr>\n",
       "  </tbody>\n",
       "</table>\n",
       "</div>"
      ],
      "text/plain": [
       "           Ticker    Open    High     Low   Close  Adj Close  Time\n",
       "Date                                                              \n",
       "2008-08-01  CAD=X  1.0234  1.0294  1.0229  1.0246     1.0246     2\n",
       "2008-08-04  CAD=X  1.0280  1.0368  1.0262  1.0364     1.0364     8\n",
       "2008-08-05  CAD=X  1.0363  1.0448  1.0363  1.0426     1.0426    14\n",
       "2008-08-06  CAD=X  1.0426  1.0493  1.0400  1.0475     1.0475    20\n",
       "2008-08-07  CAD=X  1.0476  1.0533  1.0449  1.0520     1.0520    26"
      ]
     },
     "execution_count": 4,
     "metadata": {},
     "output_type": "execute_result"
    }
   ],
   "source": [
    "df.head()"
   ]
  },
  {
   "cell_type": "code",
   "execution_count": 5,
   "id": "9a009cdd",
   "metadata": {},
   "outputs": [
    {
     "name": "stdout",
     "output_type": "stream",
     "text": [
      "<class 'pandas.core.frame.DataFrame'>\n",
      "Index: 3905 entries, 2008-08-01 to 2023-07-28\n",
      "Data columns (total 7 columns):\n",
      " #   Column     Non-Null Count  Dtype  \n",
      "---  ------     --------------  -----  \n",
      " 0   Ticker     3905 non-null   object \n",
      " 1   Open       3905 non-null   float64\n",
      " 2   High       3905 non-null   float64\n",
      " 3   Low        3905 non-null   float64\n",
      " 4   Close      3905 non-null   float64\n",
      " 5   Adj Close  3905 non-null   float64\n",
      " 6   Time       3905 non-null   int64  \n",
      "dtypes: float64(5), int64(1), object(1)\n",
      "memory usage: 244.1+ KB\n"
     ]
    }
   ],
   "source": [
    "df.info()"
   ]
  },
  {
   "cell_type": "code",
   "execution_count": 6,
   "id": "89e385e0",
   "metadata": {},
   "outputs": [
    {
     "data": {
      "text/html": [
       "<div>\n",
       "<style scoped>\n",
       "    .dataframe tbody tr th:only-of-type {\n",
       "        vertical-align: middle;\n",
       "    }\n",
       "\n",
       "    .dataframe tbody tr th {\n",
       "        vertical-align: top;\n",
       "    }\n",
       "\n",
       "    .dataframe thead th {\n",
       "        text-align: right;\n",
       "    }\n",
       "</style>\n",
       "<table border=\"1\" class=\"dataframe\">\n",
       "  <thead>\n",
       "    <tr style=\"text-align: right;\">\n",
       "      <th></th>\n",
       "      <th>Open</th>\n",
       "      <th>High</th>\n",
       "      <th>Low</th>\n",
       "      <th>Close</th>\n",
       "      <th>Adj Close</th>\n",
       "      <th>Time</th>\n",
       "    </tr>\n",
       "  </thead>\n",
       "  <tbody>\n",
       "    <tr>\n",
       "      <th>count</th>\n",
       "      <td>3905.000000</td>\n",
       "      <td>3905.000000</td>\n",
       "      <td>3905.000000</td>\n",
       "      <td>3905.000000</td>\n",
       "      <td>3905.000000</td>\n",
       "      <td>3905.000000</td>\n",
       "    </tr>\n",
       "    <tr>\n",
       "      <th>mean</th>\n",
       "      <td>1.198423</td>\n",
       "      <td>1.202731</td>\n",
       "      <td>1.194271</td>\n",
       "      <td>1.198412</td>\n",
       "      <td>1.198412</td>\n",
       "      <td>19457.018438</td>\n",
       "    </tr>\n",
       "    <tr>\n",
       "      <th>std</th>\n",
       "      <td>0.136652</td>\n",
       "      <td>0.136947</td>\n",
       "      <td>0.136378</td>\n",
       "      <td>0.136623</td>\n",
       "      <td>0.136623</td>\n",
       "      <td>11274.606568</td>\n",
       "    </tr>\n",
       "    <tr>\n",
       "      <th>min</th>\n",
       "      <td>0.943000</td>\n",
       "      <td>0.947200</td>\n",
       "      <td>0.940600</td>\n",
       "      <td>0.943200</td>\n",
       "      <td>0.943200</td>\n",
       "      <td>2.000000</td>\n",
       "    </tr>\n",
       "    <tr>\n",
       "      <th>25%</th>\n",
       "      <td>1.049800</td>\n",
       "      <td>1.054770</td>\n",
       "      <td>1.044800</td>\n",
       "      <td>1.049800</td>\n",
       "      <td>1.049800</td>\n",
       "      <td>9693.000000</td>\n",
       "    </tr>\n",
       "    <tr>\n",
       "      <th>50%</th>\n",
       "      <td>1.254420</td>\n",
       "      <td>1.259230</td>\n",
       "      <td>1.250170</td>\n",
       "      <td>1.254400</td>\n",
       "      <td>1.254400</td>\n",
       "      <td>19458.000000</td>\n",
       "    </tr>\n",
       "    <tr>\n",
       "      <th>75%</th>\n",
       "      <td>1.315860</td>\n",
       "      <td>1.319310</td>\n",
       "      <td>1.312870</td>\n",
       "      <td>1.315800</td>\n",
       "      <td>1.315800</td>\n",
       "      <td>29218.000000</td>\n",
       "    </tr>\n",
       "    <tr>\n",
       "      <th>max</th>\n",
       "      <td>1.458030</td>\n",
       "      <td>1.468730</td>\n",
       "      <td>1.449370</td>\n",
       "      <td>1.457800</td>\n",
       "      <td>1.457800</td>\n",
       "      <td>38977.000000</td>\n",
       "    </tr>\n",
       "  </tbody>\n",
       "</table>\n",
       "</div>"
      ],
      "text/plain": [
       "              Open         High          Low        Close    Adj Close  \\\n",
       "count  3905.000000  3905.000000  3905.000000  3905.000000  3905.000000   \n",
       "mean      1.198423     1.202731     1.194271     1.198412     1.198412   \n",
       "std       0.136652     0.136947     0.136378     0.136623     0.136623   \n",
       "min       0.943000     0.947200     0.940600     0.943200     0.943200   \n",
       "25%       1.049800     1.054770     1.044800     1.049800     1.049800   \n",
       "50%       1.254420     1.259230     1.250170     1.254400     1.254400   \n",
       "75%       1.315860     1.319310     1.312870     1.315800     1.315800   \n",
       "max       1.458030     1.468730     1.449370     1.457800     1.457800   \n",
       "\n",
       "               Time  \n",
       "count   3905.000000  \n",
       "mean   19457.018438  \n",
       "std    11274.606568  \n",
       "min        2.000000  \n",
       "25%     9693.000000  \n",
       "50%    19458.000000  \n",
       "75%    29218.000000  \n",
       "max    38977.000000  "
      ]
     },
     "execution_count": 6,
     "metadata": {},
     "output_type": "execute_result"
    }
   ],
   "source": [
    "df.describe()"
   ]
  },
  {
   "cell_type": "markdown",
   "id": "b5726e0f",
   "metadata": {},
   "source": [
    "- df.shape provides the dimensions of the DataFrame, giving us an idea of the dataset's size.\n",
    "- df.head() displays the first few rows, allowing us to quickly inspect the data's format and values.\n",
    "- df.info() provides a summary of the DataFrame, including the number of non-null entries and the data type of each column.\n",
    "- df.describe() gives a statistical summary of the numerical columns, helping us understand the distribution of the data."
   ]
  },
  {
   "cell_type": "markdown",
   "id": "38d239c4",
   "metadata": {},
   "source": [
    "It's important to check for missing values in the dataset, as they can affect the performance of the machine learning model."
   ]
  },
  {
   "cell_type": "code",
   "execution_count": 7,
   "id": "20aa1a58",
   "metadata": {},
   "outputs": [
    {
     "name": "stdout",
     "output_type": "stream",
     "text": [
      "Ticker       0\n",
      "Open         0\n",
      "High         0\n",
      "Low          0\n",
      "Close        0\n",
      "Adj Close    0\n",
      "Time         0\n",
      "dtype: int64\n"
     ]
    }
   ],
   "source": [
    "# Check for missing values in each column\n",
    "missing_values = df.isna().sum()\n",
    "print(missing_values)"
   ]
  },
  {
   "cell_type": "code",
   "execution_count": 8,
   "id": "9b26ae30",
   "metadata": {},
   "outputs": [
    {
     "data": {
      "text/html": [
       "<div>\n",
       "<style scoped>\n",
       "    .dataframe tbody tr th:only-of-type {\n",
       "        vertical-align: middle;\n",
       "    }\n",
       "\n",
       "    .dataframe tbody tr th {\n",
       "        vertical-align: top;\n",
       "    }\n",
       "\n",
       "    .dataframe thead th {\n",
       "        text-align: right;\n",
       "    }\n",
       "</style>\n",
       "<table border=\"1\" class=\"dataframe\">\n",
       "  <thead>\n",
       "    <tr style=\"text-align: right;\">\n",
       "      <th></th>\n",
       "      <th>Ticker</th>\n",
       "      <th>Open</th>\n",
       "      <th>High</th>\n",
       "      <th>Low</th>\n",
       "      <th>Close</th>\n",
       "      <th>Adj Close</th>\n",
       "      <th>Time</th>\n",
       "    </tr>\n",
       "    <tr>\n",
       "      <th>Date</th>\n",
       "      <th></th>\n",
       "      <th></th>\n",
       "      <th></th>\n",
       "      <th></th>\n",
       "      <th></th>\n",
       "      <th></th>\n",
       "      <th></th>\n",
       "    </tr>\n",
       "  </thead>\n",
       "  <tbody>\n",
       "    <tr>\n",
       "      <th>2008-08-01</th>\n",
       "      <td>CAD=X</td>\n",
       "      <td>1.02340</td>\n",
       "      <td>1.02940</td>\n",
       "      <td>1.02290</td>\n",
       "      <td>1.02460</td>\n",
       "      <td>1.02460</td>\n",
       "      <td>2</td>\n",
       "    </tr>\n",
       "    <tr>\n",
       "      <th>2008-08-04</th>\n",
       "      <td>CAD=X</td>\n",
       "      <td>1.02800</td>\n",
       "      <td>1.03680</td>\n",
       "      <td>1.02620</td>\n",
       "      <td>1.03640</td>\n",
       "      <td>1.03640</td>\n",
       "      <td>8</td>\n",
       "    </tr>\n",
       "    <tr>\n",
       "      <th>2008-08-05</th>\n",
       "      <td>CAD=X</td>\n",
       "      <td>1.03630</td>\n",
       "      <td>1.04480</td>\n",
       "      <td>1.03630</td>\n",
       "      <td>1.04260</td>\n",
       "      <td>1.04260</td>\n",
       "      <td>14</td>\n",
       "    </tr>\n",
       "    <tr>\n",
       "      <th>2008-08-06</th>\n",
       "      <td>CAD=X</td>\n",
       "      <td>1.04260</td>\n",
       "      <td>1.04930</td>\n",
       "      <td>1.04000</td>\n",
       "      <td>1.04750</td>\n",
       "      <td>1.04750</td>\n",
       "      <td>20</td>\n",
       "    </tr>\n",
       "    <tr>\n",
       "      <th>2008-08-07</th>\n",
       "      <td>CAD=X</td>\n",
       "      <td>1.04760</td>\n",
       "      <td>1.05330</td>\n",
       "      <td>1.04490</td>\n",
       "      <td>1.05200</td>\n",
       "      <td>1.05200</td>\n",
       "      <td>26</td>\n",
       "    </tr>\n",
       "    <tr>\n",
       "      <th>...</th>\n",
       "      <td>...</td>\n",
       "      <td>...</td>\n",
       "      <td>...</td>\n",
       "      <td>...</td>\n",
       "      <td>...</td>\n",
       "      <td>...</td>\n",
       "      <td>...</td>\n",
       "    </tr>\n",
       "    <tr>\n",
       "      <th>2023-07-24</th>\n",
       "      <td>CAD=X</td>\n",
       "      <td>1.32240</td>\n",
       "      <td>1.32276</td>\n",
       "      <td>1.31542</td>\n",
       "      <td>1.32240</td>\n",
       "      <td>1.32240</td>\n",
       "      <td>38937</td>\n",
       "    </tr>\n",
       "    <tr>\n",
       "      <th>2023-07-25</th>\n",
       "      <td>CAD=X</td>\n",
       "      <td>1.31746</td>\n",
       "      <td>1.32095</td>\n",
       "      <td>1.31466</td>\n",
       "      <td>1.31746</td>\n",
       "      <td>1.31746</td>\n",
       "      <td>38947</td>\n",
       "    </tr>\n",
       "    <tr>\n",
       "      <th>2023-07-26</th>\n",
       "      <td>CAD=X</td>\n",
       "      <td>1.31871</td>\n",
       "      <td>1.32352</td>\n",
       "      <td>1.31720</td>\n",
       "      <td>1.31871</td>\n",
       "      <td>1.31871</td>\n",
       "      <td>38957</td>\n",
       "    </tr>\n",
       "    <tr>\n",
       "      <th>2023-07-27</th>\n",
       "      <td>CAD=X</td>\n",
       "      <td>1.32046</td>\n",
       "      <td>1.32039</td>\n",
       "      <td>1.31580</td>\n",
       "      <td>1.32046</td>\n",
       "      <td>1.32046</td>\n",
       "      <td>38967</td>\n",
       "    </tr>\n",
       "    <tr>\n",
       "      <th>2023-07-28</th>\n",
       "      <td>CAD=X</td>\n",
       "      <td>1.32270</td>\n",
       "      <td>1.32473</td>\n",
       "      <td>1.32061</td>\n",
       "      <td>1.32270</td>\n",
       "      <td>1.32270</td>\n",
       "      <td>38977</td>\n",
       "    </tr>\n",
       "  </tbody>\n",
       "</table>\n",
       "<p>3905 rows × 7 columns</p>\n",
       "</div>"
      ],
      "text/plain": [
       "           Ticker     Open     High      Low    Close  Adj Close   Time\n",
       "Date                                                                   \n",
       "2008-08-01  CAD=X  1.02340  1.02940  1.02290  1.02460    1.02460      2\n",
       "2008-08-04  CAD=X  1.02800  1.03680  1.02620  1.03640    1.03640      8\n",
       "2008-08-05  CAD=X  1.03630  1.04480  1.03630  1.04260    1.04260     14\n",
       "2008-08-06  CAD=X  1.04260  1.04930  1.04000  1.04750    1.04750     20\n",
       "2008-08-07  CAD=X  1.04760  1.05330  1.04490  1.05200    1.05200     26\n",
       "...           ...      ...      ...      ...      ...        ...    ...\n",
       "2023-07-24  CAD=X  1.32240  1.32276  1.31542  1.32240    1.32240  38937\n",
       "2023-07-25  CAD=X  1.31746  1.32095  1.31466  1.31746    1.31746  38947\n",
       "2023-07-26  CAD=X  1.31871  1.32352  1.31720  1.31871    1.31871  38957\n",
       "2023-07-27  CAD=X  1.32046  1.32039  1.31580  1.32046    1.32046  38967\n",
       "2023-07-28  CAD=X  1.32270  1.32473  1.32061  1.32270    1.32270  38977\n",
       "\n",
       "[3905 rows x 7 columns]"
      ]
     },
     "execution_count": 8,
     "metadata": {},
     "output_type": "execute_result"
    }
   ],
   "source": [
    "df"
   ]
  },
  {
   "cell_type": "markdown",
   "id": "bbd7820f",
   "metadata": {},
   "source": [
    "There are no missing values to deal with, so we can continue the analysis."
   ]
  },
  {
   "cell_type": "markdown",
   "id": "19efdd74",
   "metadata": {},
   "source": [
    "**Pick the features and target variables**"
   ]
  },
  {
   "cell_type": "markdown",
   "id": "59bf3140",
   "metadata": {},
   "source": [
    "In this step, we define the features (independent variables) and the target variable (dependent variable) for our model. The features are the variables used to predict the target. For this analysis, we choose 'Open', 'High', and 'Low' prices as features, as they are commonly used in financial modeling to predict the closing price of a currency pair. The target variable is the 'Close' price, which we aim to predict."
   ]
  },
  {
   "cell_type": "code",
   "execution_count": 9,
   "id": "6eac0a2c",
   "metadata": {},
   "outputs": [],
   "source": [
    "X = df[['Open', 'High', 'Low']]\n",
    "y = df['Close']"
   ]
  },
  {
   "cell_type": "markdown",
   "id": "e1532b7f",
   "metadata": {},
   "source": [
    "**Train test split**"
   ]
  },
  {
   "cell_type": "markdown",
   "id": "00a94970",
   "metadata": {},
   "source": [
    "Before fitting the model, it's crucial to split the dataset into a training set and a testing set. This allows us to train the model on one subset of the data and then evaluate its performance on a separate, unseen subset. For this analysis, we use an 80-20 split, meaning 80% of the data will be used for training and 20% for testing. "
   ]
  },
  {
   "cell_type": "markdown",
   "id": "4fe90556",
   "metadata": {},
   "source": [
    "Train test split ratio - 80-20"
   ]
  },
  {
   "cell_type": "code",
   "execution_count": 10,
   "id": "4b38c294",
   "metadata": {},
   "outputs": [],
   "source": [
    "# create a split point for 80-20 split\n",
    "split_point = int(len(X) * 0.8)\n",
    "\n",
    "# define train split\n",
    "X_train = X.iloc[:split_point]\n",
    "y_train = y.iloc[:split_point]\n",
    "\n",
    "# define test split\n",
    "X_test = X.iloc[split_point:]\n",
    "y_test = y.iloc[split_point:]\n"
   ]
  },
  {
   "cell_type": "code",
   "execution_count": null,
   "id": "c7531937",
   "metadata": {},
   "outputs": [],
   "source": [
    "X_train.shape, y_train.shape, X_test.shape, y_test.shape"
   ]
  },
  {
   "cell_type": "markdown",
   "id": "83422cb8",
   "metadata": {},
   "source": [
    "**Fitting the model**"
   ]
  },
  {
   "cell_type": "markdown",
   "id": "eb04e314",
   "metadata": {},
   "source": [
    "Now that we have split the data into training and testing sets, the next step is to fit a decision tree model to the training data. "
   ]
  },
  {
   "cell_type": "code",
   "execution_count": 11,
   "id": "9901a159",
   "metadata": {},
   "outputs": [
    {
     "data": {
      "text/html": [
       "<style>#sk-container-id-1 {color: black;}#sk-container-id-1 pre{padding: 0;}#sk-container-id-1 div.sk-toggleable {background-color: white;}#sk-container-id-1 label.sk-toggleable__label {cursor: pointer;display: block;width: 100%;margin-bottom: 0;padding: 0.3em;box-sizing: border-box;text-align: center;}#sk-container-id-1 label.sk-toggleable__label-arrow:before {content: \"▸\";float: left;margin-right: 0.25em;color: #696969;}#sk-container-id-1 label.sk-toggleable__label-arrow:hover:before {color: black;}#sk-container-id-1 div.sk-estimator:hover label.sk-toggleable__label-arrow:before {color: black;}#sk-container-id-1 div.sk-toggleable__content {max-height: 0;max-width: 0;overflow: hidden;text-align: left;background-color: #f0f8ff;}#sk-container-id-1 div.sk-toggleable__content pre {margin: 0.2em;color: black;border-radius: 0.25em;background-color: #f0f8ff;}#sk-container-id-1 input.sk-toggleable__control:checked~div.sk-toggleable__content {max-height: 200px;max-width: 100%;overflow: auto;}#sk-container-id-1 input.sk-toggleable__control:checked~label.sk-toggleable__label-arrow:before {content: \"▾\";}#sk-container-id-1 div.sk-estimator input.sk-toggleable__control:checked~label.sk-toggleable__label {background-color: #d4ebff;}#sk-container-id-1 div.sk-label input.sk-toggleable__control:checked~label.sk-toggleable__label {background-color: #d4ebff;}#sk-container-id-1 input.sk-hidden--visually {border: 0;clip: rect(1px 1px 1px 1px);clip: rect(1px, 1px, 1px, 1px);height: 1px;margin: -1px;overflow: hidden;padding: 0;position: absolute;width: 1px;}#sk-container-id-1 div.sk-estimator {font-family: monospace;background-color: #f0f8ff;border: 1px dotted black;border-radius: 0.25em;box-sizing: border-box;margin-bottom: 0.5em;}#sk-container-id-1 div.sk-estimator:hover {background-color: #d4ebff;}#sk-container-id-1 div.sk-parallel-item::after {content: \"\";width: 100%;border-bottom: 1px solid gray;flex-grow: 1;}#sk-container-id-1 div.sk-label:hover label.sk-toggleable__label {background-color: #d4ebff;}#sk-container-id-1 div.sk-serial::before {content: \"\";position: absolute;border-left: 1px solid gray;box-sizing: border-box;top: 0;bottom: 0;left: 50%;z-index: 0;}#sk-container-id-1 div.sk-serial {display: flex;flex-direction: column;align-items: center;background-color: white;padding-right: 0.2em;padding-left: 0.2em;position: relative;}#sk-container-id-1 div.sk-item {position: relative;z-index: 1;}#sk-container-id-1 div.sk-parallel {display: flex;align-items: stretch;justify-content: center;background-color: white;position: relative;}#sk-container-id-1 div.sk-item::before, #sk-container-id-1 div.sk-parallel-item::before {content: \"\";position: absolute;border-left: 1px solid gray;box-sizing: border-box;top: 0;bottom: 0;left: 50%;z-index: -1;}#sk-container-id-1 div.sk-parallel-item {display: flex;flex-direction: column;z-index: 1;position: relative;background-color: white;}#sk-container-id-1 div.sk-parallel-item:first-child::after {align-self: flex-end;width: 50%;}#sk-container-id-1 div.sk-parallel-item:last-child::after {align-self: flex-start;width: 50%;}#sk-container-id-1 div.sk-parallel-item:only-child::after {width: 0;}#sk-container-id-1 div.sk-dashed-wrapped {border: 1px dashed gray;margin: 0 0.4em 0.5em 0.4em;box-sizing: border-box;padding-bottom: 0.4em;background-color: white;}#sk-container-id-1 div.sk-label label {font-family: monospace;font-weight: bold;display: inline-block;line-height: 1.2em;}#sk-container-id-1 div.sk-label-container {text-align: center;}#sk-container-id-1 div.sk-container {/* jupyter's `normalize.less` sets `[hidden] { display: none; }` but bootstrap.min.css set `[hidden] { display: none !important; }` so we also need the `!important` here to be able to override the default hidden behavior on the sphinx rendered scikit-learn.org. See: https://github.com/scikit-learn/scikit-learn/issues/21755 */display: inline-block !important;position: relative;}#sk-container-id-1 div.sk-text-repr-fallback {display: none;}</style><div id=\"sk-container-id-1\" class=\"sk-top-container\"><div class=\"sk-text-repr-fallback\"><pre>DecisionTreeRegressor()</pre><b>In a Jupyter environment, please rerun this cell to show the HTML representation or trust the notebook. <br />On GitHub, the HTML representation is unable to render, please try loading this page with nbviewer.org.</b></div><div class=\"sk-container\" hidden><div class=\"sk-item\"><div class=\"sk-estimator sk-toggleable\"><input class=\"sk-toggleable__control sk-hidden--visually\" id=\"sk-estimator-id-1\" type=\"checkbox\" checked><label for=\"sk-estimator-id-1\" class=\"sk-toggleable__label sk-toggleable__label-arrow\">DecisionTreeRegressor</label><div class=\"sk-toggleable__content\"><pre>DecisionTreeRegressor()</pre></div></div></div></div></div>"
      ],
      "text/plain": [
       "DecisionTreeRegressor()"
      ]
     },
     "execution_count": 11,
     "metadata": {},
     "output_type": "execute_result"
    }
   ],
   "source": [
    "# fit the decision tree model\n",
    "\n",
    "dtree = DecisionTreeRegressor()\n",
    "dtree.fit(X_train, y_train)"
   ]
  },
  {
   "cell_type": "markdown",
   "id": "69bd6426",
   "metadata": {},
   "source": [
    "**Model Evaluation**"
   ]
  },
  {
   "cell_type": "markdown",
   "id": "88d9a6fd",
   "metadata": {},
   "source": [
    "After fitting the decision tree model to the training data, it's crucial to evaluate its performance on the test data. Model evaluation helps us understand how well the model generalizes to unseen data and provides insights into its predictive accuracy. In this section, we will use various metrics to assess the model's performance, including Mean Squared Error (MSE), R-squared (Coefficient of Determination), Mean Absolute Error (MAE), and Root Mean Squared Error (RMSE). These metrics will give us a comprehensive view of the model's accuracy and help us identify areas for improvement."
   ]
  },
  {
   "cell_type": "code",
   "execution_count": 12,
   "id": "88f2eab0",
   "metadata": {},
   "outputs": [
    {
     "name": "stdout",
     "output_type": "stream",
     "text": [
      "Mean Squared Error: 2.6252696912129063e-06\n"
     ]
    }
   ],
   "source": [
    "predictions = dtree.predict(X_test)\n",
    "mse = mean_squared_error(y_test, predictions)\n",
    "print(f\"Mean Squared Error: {mse}\")"
   ]
  },
  {
   "cell_type": "markdown",
   "id": "df9df1d9",
   "metadata": {},
   "source": [
    "**R-squared (Coefficient of Determination):**"
   ]
  },
  {
   "cell_type": "code",
   "execution_count": 13,
   "id": "f8aea9dd",
   "metadata": {},
   "outputs": [
    {
     "name": "stdout",
     "output_type": "stream",
     "text": [
      "R-squared: 0.9985761423915268\n"
     ]
    }
   ],
   "source": [
    "from sklearn.metrics import r2_score\n",
    "\n",
    "r2 = r2_score(y_test, predictions)\n",
    "print(f\"R-squared: {r2}\")"
   ]
  },
  {
   "cell_type": "markdown",
   "id": "378d9c0a",
   "metadata": {},
   "source": [
    "**Mean Absolute Error (MAE):**"
   ]
  },
  {
   "cell_type": "code",
   "execution_count": 15,
   "id": "2aceb769",
   "metadata": {},
   "outputs": [
    {
     "name": "stdout",
     "output_type": "stream",
     "text": [
      "Mean Absolute Error: 0.0005904974919122537\n"
     ]
    }
   ],
   "source": [
    "from sklearn.metrics import mean_absolute_error\n",
    "\n",
    "\n",
    "mae = mean_absolute_error(y_test, predictions)\n",
    "print(f\"Mean Absolute Error: {mae}\")"
   ]
  },
  {
   "cell_type": "markdown",
   "id": "2e5bd490",
   "metadata": {},
   "source": [
    "**Mean Squared Error (MSE):**"
   ]
  },
  {
   "cell_type": "code",
   "execution_count": 16,
   "id": "b68ba6c9",
   "metadata": {},
   "outputs": [
    {
     "name": "stdout",
     "output_type": "stream",
     "text": [
      "Mean Squared Error: 2.6252696912129063e-06\n"
     ]
    }
   ],
   "source": [
    "from sklearn.metrics import mean_squared_error\n",
    "\n",
    "mse = mean_squared_error(y_test, predictions)\n",
    "print(f\"Mean Squared Error: {mse}\")"
   ]
  },
  {
   "cell_type": "markdown",
   "id": "195f9c68",
   "metadata": {},
   "source": [
    "**Root Mean Squared Error (RMSE):**"
   ]
  },
  {
   "cell_type": "code",
   "execution_count": 17,
   "id": "a7ea0471",
   "metadata": {},
   "outputs": [
    {
     "name": "stdout",
     "output_type": "stream",
     "text": [
      "Root Mean Squared Error: 0.0016202684009795742\n"
     ]
    }
   ],
   "source": [
    "from math import sqrt\n",
    "\n",
    "rmse = sqrt(mse)\n",
    "print(f\"Root Mean Squared Error: {rmse}\")"
   ]
  },
  {
   "cell_type": "markdown",
   "id": "16fe9817",
   "metadata": {},
   "source": [
    "The R-squared value of approximately 0.9987 indicates that the decision tree model is capturing a significant portion of the variance in the data, which suggests a high level of accuracy in predicting the closing prices. The low values for the Mean Absolute Error (MAE), Mean Squared Error (MSE), and Root Mean Squared Error (RMSE) further support this conclusion. \n",
    "\n",
    "Specifically:\n",
    "\n",
    "- The MAE of approximately 0.00057 means that, on average, the model's predictions are within this margin of the actual closing prices.\n",
    "- The MSE of approximately 2.42e-06 is a measure of the average squared difference between the predicted and actual values, indicating a small degree of error in the model's predictions.\n",
    "- The RMSE of approximately 0.00156 is the square root of the MSE, providing a measure of the average error in the same units as the data. A lower RMSE value indicates better model performance.\n",
    "\n",
    "Overall, these metrics suggest that the decision tree model is performing well in predicting the closing prices of the currency pair, with a high degree of accuracy and relatively low error."
   ]
  },
  {
   "cell_type": "markdown",
   "id": "2cbd0bcb",
   "metadata": {},
   "source": [
    "**Plot Actual versus Predicted**"
   ]
  },
  {
   "cell_type": "code",
   "execution_count": 18,
   "id": "3539eecb",
   "metadata": {},
   "outputs": [
    {
     "data": {
      "image/png": "[encoded data removed]",
      "text/plain": [
       "<Figure size 1200x600 with 1 Axes>"
      ]
     },
     "metadata": {},
     "output_type": "display_data"
    }
   ],
   "source": [
    "import matplotlib.dates as mdates\n",
    "\n",
    "# Make predictions for the training set\n",
    "train_predictions = dtree.predict(X_train)\n",
    "\n",
    "# Combine the actual and predicted values for the training and testing sets\n",
    "train_results = pd.DataFrame({'Actual': y_train, 'Predicted': train_predictions}, index=y_train.index)\n",
    "test_results = pd.DataFrame({'Actual': y_test, 'Predicted': predictions}, index=y_test.index)\n",
    "\n",
    "# Convert index to datetime if it's not already\n",
    "train_results.index = pd.to_datetime(train_results.index)\n",
    "test_results.index = pd.to_datetime(test_results.index)\n",
    "\n",
    "# Plot the actual vs predicted values\n",
    "plt.figure(figsize=(12, 6))\n",
    "plt.plot(train_results['Actual'], label='Actual Train', color='blue')\n",
    "plt.plot(train_results['Predicted'], label='Predicted Train', color='blue', linestyle='--')\n",
    "plt.plot(test_results['Actual'], label='Actual Test', color='red')\n",
    "plt.plot(test_results['Predicted'], label='Predicted Test', color='green', linestyle='--')\n",
    "\n",
    "plt.xlabel('Date')\n",
    "plt.ylabel('Close Price')\n",
    "plt.title('Actual vs Predicted Close Prices')\n",
    "\n",
    "# Set major and minor ticks format\n",
    "plt.gca().xaxis.set_major_locator(mdates.YearLocator())\n",
    "plt.gca().xaxis.set_major_formatter(mdates.DateFormatter('%Y'))\n",
    "plt.gca().xaxis.set_minor_locator(mdates.MonthLocator())\n",
    "\n",
    "plt.gcf().autofmt_xdate()  # Auto format the date on the x-axis for readability\n",
    "plt.show()\n",
    "# plt.legend()\n",
    "# plt.show()\n"
   ]
  },
  {
   "cell_type": "markdown",
   "id": "3affea9c",
   "metadata": {},
   "source": [
    "By visually inspecting the plot, we aim to see how closely the predicted values align with the actual values. "
   ]
  },
  {
   "cell_type": "markdown",
   "id": "74369f67",
   "metadata": {},
   "source": [
    "**Checking for overfitting**"
   ]
  },
  {
   "cell_type": "code",
   "execution_count": 19,
   "id": "cbf360e7",
   "metadata": {},
   "outputs": [],
   "source": [
    "train_mse = mean_squared_error(y_train, train_predictions)\n",
    "test_mse = mean_squared_error(y_test, predictions)\n"
   ]
  },
  {
   "cell_type": "code",
   "execution_count": 20,
   "id": "1643a3d3",
   "metadata": {},
   "outputs": [
    {
     "name": "stdout",
     "output_type": "stream",
     "text": [
      "Training MSE: 0.0\n",
      "Testing MSE: 2.6252696912129063e-06\n"
     ]
    }
   ],
   "source": [
    "print(f\"Training MSE: {train_mse}\")\n",
    "print(f\"Testing MSE: {test_mse}\")\n"
   ]
  },
  {
   "cell_type": "markdown",
   "id": "b7089de9",
   "metadata": {},
   "source": [
    "The model appears to have learned the data too well, capturing noise."
   ]
  },
  {
   "cell_type": "markdown",
   "id": "8b2cd965",
   "metadata": {},
   "source": [
    "**Addressing Overfitting and Enhancing Model Generalization**\n",
    "\n",
    "Since we've identified overfitting in our decision tree model, the next phase of the analysis will focus on improving the model's ability to generalize. This will be approached in two key steps:\n",
    "\n",
    "**Feature Engineering:** We will create new features that could better capture the underlying patterns in the data. For example, a moving average feature could smooth out short-term fluctuations and help the model identify longer-term trends more effectively.\n",
    "\n",
    "**Hyperparameter Tuning with Grid Search and Cross-Validation:** We will perform a systematic exploration of the model's hyperparameter space using Grid Search coupled with Cross-Validation (CV). This will not only aid in finding the optimal model parameters but also provide a more robust evaluation by ensuring the model's performance is tested across different data subsets."
   ]
  },
  {
   "cell_type": "markdown",
   "id": "ca7b79fe",
   "metadata": {},
   "source": [
    "### Iteration 2"
   ]
  },
  {
   "cell_type": "markdown",
   "id": "57f84f2c",
   "metadata": {},
   "source": [
    "**Feature Engineering**"
   ]
  },
  {
   "cell_type": "markdown",
   "id": "cb74ec73",
   "metadata": {},
   "source": [
    "1. Moving Average"
   ]
  },
  {
   "cell_type": "markdown",
   "id": "6b9f37fa",
   "metadata": {},
   "source": [
    "By introducing a moving average of the close price, we've created a new feature, Close_5_MA, that helps capture the trend over a period. This smoothens out short-term fluctuations and could potentially provide a more reliable signal for predicting future prices. It's particularly useful in financial time series modeling where recent trends can be indicative of future movements."
   ]
  },
  {
   "cell_type": "markdown",
   "id": "49abcb05",
   "metadata": {},
   "source": [
    "The backfilling of the initial missing values for the moving average ensures that we retain all data points for model training, which is critical when working with time series data where each point could contain valuable trend information."
   ]
  },
  {
   "cell_type": "code",
   "execution_count": 22,
   "id": "43d197fb",
   "metadata": {},
   "outputs": [
    {
     "data": {
      "text/html": [
       "<div>\n",
       "<style scoped>\n",
       "    .dataframe tbody tr th:only-of-type {\n",
       "        vertical-align: middle;\n",
       "    }\n",
       "\n",
       "    .dataframe tbody tr th {\n",
       "        vertical-align: top;\n",
       "    }\n",
       "\n",
       "    .dataframe thead th {\n",
       "        text-align: right;\n",
       "    }\n",
       "</style>\n",
       "<table border=\"1\" class=\"dataframe\">\n",
       "  <thead>\n",
       "    <tr style=\"text-align: right;\">\n",
       "      <th></th>\n",
       "      <th>Ticker</th>\n",
       "      <th>Open</th>\n",
       "      <th>High</th>\n",
       "      <th>Low</th>\n",
       "      <th>Close</th>\n",
       "      <th>Adj Close</th>\n",
       "      <th>Time</th>\n",
       "    </tr>\n",
       "    <tr>\n",
       "      <th>Date</th>\n",
       "      <th></th>\n",
       "      <th></th>\n",
       "      <th></th>\n",
       "      <th></th>\n",
       "      <th></th>\n",
       "      <th></th>\n",
       "      <th></th>\n",
       "    </tr>\n",
       "  </thead>\n",
       "  <tbody>\n",
       "    <tr>\n",
       "      <th>2008-08-01</th>\n",
       "      <td>CAD=X</td>\n",
       "      <td>1.02340</td>\n",
       "      <td>1.02940</td>\n",
       "      <td>1.02290</td>\n",
       "      <td>1.02460</td>\n",
       "      <td>1.02460</td>\n",
       "      <td>2</td>\n",
       "    </tr>\n",
       "    <tr>\n",
       "      <th>2008-08-04</th>\n",
       "      <td>CAD=X</td>\n",
       "      <td>1.02800</td>\n",
       "      <td>1.03680</td>\n",
       "      <td>1.02620</td>\n",
       "      <td>1.03640</td>\n",
       "      <td>1.03640</td>\n",
       "      <td>8</td>\n",
       "    </tr>\n",
       "    <tr>\n",
       "      <th>2008-08-05</th>\n",
       "      <td>CAD=X</td>\n",
       "      <td>1.03630</td>\n",
       "      <td>1.04480</td>\n",
       "      <td>1.03630</td>\n",
       "      <td>1.04260</td>\n",
       "      <td>1.04260</td>\n",
       "      <td>14</td>\n",
       "    </tr>\n",
       "    <tr>\n",
       "      <th>2008-08-06</th>\n",
       "      <td>CAD=X</td>\n",
       "      <td>1.04260</td>\n",
       "      <td>1.04930</td>\n",
       "      <td>1.04000</td>\n",
       "      <td>1.04750</td>\n",
       "      <td>1.04750</td>\n",
       "      <td>20</td>\n",
       "    </tr>\n",
       "    <tr>\n",
       "      <th>2008-08-07</th>\n",
       "      <td>CAD=X</td>\n",
       "      <td>1.04760</td>\n",
       "      <td>1.05330</td>\n",
       "      <td>1.04490</td>\n",
       "      <td>1.05200</td>\n",
       "      <td>1.05200</td>\n",
       "      <td>26</td>\n",
       "    </tr>\n",
       "    <tr>\n",
       "      <th>...</th>\n",
       "      <td>...</td>\n",
       "      <td>...</td>\n",
       "      <td>...</td>\n",
       "      <td>...</td>\n",
       "      <td>...</td>\n",
       "      <td>...</td>\n",
       "      <td>...</td>\n",
       "    </tr>\n",
       "    <tr>\n",
       "      <th>2023-07-24</th>\n",
       "      <td>CAD=X</td>\n",
       "      <td>1.32240</td>\n",
       "      <td>1.32276</td>\n",
       "      <td>1.31542</td>\n",
       "      <td>1.32240</td>\n",
       "      <td>1.32240</td>\n",
       "      <td>38937</td>\n",
       "    </tr>\n",
       "    <tr>\n",
       "      <th>2023-07-25</th>\n",
       "      <td>CAD=X</td>\n",
       "      <td>1.31746</td>\n",
       "      <td>1.32095</td>\n",
       "      <td>1.31466</td>\n",
       "      <td>1.31746</td>\n",
       "      <td>1.31746</td>\n",
       "      <td>38947</td>\n",
       "    </tr>\n",
       "    <tr>\n",
       "      <th>2023-07-26</th>\n",
       "      <td>CAD=X</td>\n",
       "      <td>1.31871</td>\n",
       "      <td>1.32352</td>\n",
       "      <td>1.31720</td>\n",
       "      <td>1.31871</td>\n",
       "      <td>1.31871</td>\n",
       "      <td>38957</td>\n",
       "    </tr>\n",
       "    <tr>\n",
       "      <th>2023-07-27</th>\n",
       "      <td>CAD=X</td>\n",
       "      <td>1.32046</td>\n",
       "      <td>1.32039</td>\n",
       "      <td>1.31580</td>\n",
       "      <td>1.32046</td>\n",
       "      <td>1.32046</td>\n",
       "      <td>38967</td>\n",
       "    </tr>\n",
       "    <tr>\n",
       "      <th>2023-07-28</th>\n",
       "      <td>CAD=X</td>\n",
       "      <td>1.32270</td>\n",
       "      <td>1.32473</td>\n",
       "      <td>1.32061</td>\n",
       "      <td>1.32270</td>\n",
       "      <td>1.32270</td>\n",
       "      <td>38977</td>\n",
       "    </tr>\n",
       "  </tbody>\n",
       "</table>\n",
       "<p>3905 rows × 7 columns</p>\n",
       "</div>"
      ],
      "text/plain": [
       "           Ticker     Open     High      Low    Close  Adj Close   Time\n",
       "Date                                                                   \n",
       "2008-08-01  CAD=X  1.02340  1.02940  1.02290  1.02460    1.02460      2\n",
       "2008-08-04  CAD=X  1.02800  1.03680  1.02620  1.03640    1.03640      8\n",
       "2008-08-05  CAD=X  1.03630  1.04480  1.03630  1.04260    1.04260     14\n",
       "2008-08-06  CAD=X  1.04260  1.04930  1.04000  1.04750    1.04750     20\n",
       "2008-08-07  CAD=X  1.04760  1.05330  1.04490  1.05200    1.05200     26\n",
       "...           ...      ...      ...      ...      ...        ...    ...\n",
       "2023-07-24  CAD=X  1.32240  1.32276  1.31542  1.32240    1.32240  38937\n",
       "2023-07-25  CAD=X  1.31746  1.32095  1.31466  1.31746    1.31746  38947\n",
       "2023-07-26  CAD=X  1.31871  1.32352  1.31720  1.31871    1.31871  38957\n",
       "2023-07-27  CAD=X  1.32046  1.32039  1.31580  1.32046    1.32046  38967\n",
       "2023-07-28  CAD=X  1.32270  1.32473  1.32061  1.32270    1.32270  38977\n",
       "\n",
       "[3905 rows x 7 columns]"
      ]
     },
     "execution_count": 22,
     "metadata": {},
     "output_type": "execute_result"
    }
   ],
   "source": [
    "# Import the CAD=X currency pair data from the CSV file\n",
    "df2 = pd.read_csv('cad_x_currency_data.csv', index_col=0)\n",
    "df2"
   ]
  },
  {
   "cell_type": "code",
   "execution_count": 23,
   "id": "79637f98",
   "metadata": {},
   "outputs": [],
   "source": [
    "# Create a 5-day moving average of the Close price for iteration 2\n",
    "df2['Close_5_MA_iter2'] = df2['Close'].rolling(window=5).mean().fillna(method='bfill')\n"
   ]
  },
  {
   "cell_type": "markdown",
   "id": "20bc4788",
   "metadata": {},
   "source": [
    "**Feature Selection**"
   ]
  },
  {
   "cell_type": "markdown",
   "id": "a0f3dd80",
   "metadata": {},
   "source": [
    "With the new Close_5_MA feature included, we now have a set of four features: 'Open', 'High', 'Low', and 'Close_5_MA'. This expanded feature set is expected to provide the model with additional context for making more accurate predictions."
   ]
  },
  {
   "cell_type": "code",
   "execution_count": 24,
   "id": "c4fb16ef",
   "metadata": {},
   "outputs": [],
   "source": [
    "# Define features and target for iteration 2\n",
    "X_iter2 = df2[['Open', 'High', 'Low', 'Close_5_MA_iter2']]\n",
    "y_iter2 = df2['Close']\n"
   ]
  },
  {
   "cell_type": "code",
   "execution_count": 25,
   "id": "a24e3202",
   "metadata": {},
   "outputs": [],
   "source": [
    "# Create a split point for the 80-20 split for iteration 2\n",
    "split_point_iter2 = int(len(X_iter2) * 0.8)\n",
    "\n",
    "# Define train and test splits for iteration 2\n",
    "X_train_iter2 = X_iter2.iloc[:split_point_iter2]\n",
    "y_train_iter2 = y_iter2.iloc[:split_point_iter2]\n",
    "X_test_iter2 = X_iter2.iloc[split_point_iter2:]\n",
    "y_test_iter2 = y_iter2.iloc[split_point_iter2:]\n"
   ]
  },
  {
   "cell_type": "markdown",
   "id": "baea2843",
   "metadata": {},
   "source": [
    "**Define Model and Parameter Grid**"
   ]
  },
  {
   "cell_type": "markdown",
   "id": "694c12b5",
   "metadata": {},
   "source": [
    "To further refine the model, a grid search over a predefined range of hyperparameters is conducted using cross-validation. This process helps in identifying the best combination of parameters that minimizes overfitting and enhances the model's predictive ability."
   ]
  },
  {
   "cell_type": "code",
   "execution_count": 26,
   "id": "f8177d01",
   "metadata": {},
   "outputs": [],
   "source": [
    "# Define the model for iteration 2\n",
    "dtree_iter2 = DecisionTreeRegressor()\n"
   ]
  },
  {
   "cell_type": "code",
   "execution_count": 27,
   "id": "eb52bff1",
   "metadata": {},
   "outputs": [],
   "source": [
    "# Define the parameter grid for iteration 2\n",
    "param_grid_iter2 = {\n",
    "    'max_depth': [3, 5, 7, 10],\n",
    "    'min_samples_split': [2, 5, 10],\n",
    "    'min_samples_leaf': [1, 2, 4]\n",
    "}\n"
   ]
  },
  {
   "cell_type": "markdown",
   "id": "5468f21b",
   "metadata": {},
   "source": [
    "**Setup and fit the GridSearch**"
   ]
  },
  {
   "cell_type": "code",
   "execution_count": 28,
   "id": "bb5dd034",
   "metadata": {},
   "outputs": [
    {
     "data": {
      "text/html": [
       "<style>#sk-container-id-2 {color: black;}#sk-container-id-2 pre{padding: 0;}#sk-container-id-2 div.sk-toggleable {background-color: white;}#sk-container-id-2 label.sk-toggleable__label {cursor: pointer;display: block;width: 100%;margin-bottom: 0;padding: 0.3em;box-sizing: border-box;text-align: center;}#sk-container-id-2 label.sk-toggleable__label-arrow:before {content: \"▸\";float: left;margin-right: 0.25em;color: #696969;}#sk-container-id-2 label.sk-toggleable__label-arrow:hover:before {color: black;}#sk-container-id-2 div.sk-estimator:hover label.sk-toggleable__label-arrow:before {color: black;}#sk-container-id-2 div.sk-toggleable__content {max-height: 0;max-width: 0;overflow: hidden;text-align: left;background-color: #f0f8ff;}#sk-container-id-2 div.sk-toggleable__content pre {margin: 0.2em;color: black;border-radius: 0.25em;background-color: #f0f8ff;}#sk-container-id-2 input.sk-toggleable__control:checked~div.sk-toggleable__content {max-height: 200px;max-width: 100%;overflow: auto;}#sk-container-id-2 input.sk-toggleable__control:checked~label.sk-toggleable__label-arrow:before {content: \"▾\";}#sk-container-id-2 div.sk-estimator input.sk-toggleable__control:checked~label.sk-toggleable__label {background-color: #d4ebff;}#sk-container-id-2 div.sk-label input.sk-toggleable__control:checked~label.sk-toggleable__label {background-color: #d4ebff;}#sk-container-id-2 input.sk-hidden--visually {border: 0;clip: rect(1px 1px 1px 1px);clip: rect(1px, 1px, 1px, 1px);height: 1px;margin: -1px;overflow: hidden;padding: 0;position: absolute;width: 1px;}#sk-container-id-2 div.sk-estimator {font-family: monospace;background-color: #f0f8ff;border: 1px dotted black;border-radius: 0.25em;box-sizing: border-box;margin-bottom: 0.5em;}#sk-container-id-2 div.sk-estimator:hover {background-color: #d4ebff;}#sk-container-id-2 div.sk-parallel-item::after {content: \"\";width: 100%;border-bottom: 1px solid gray;flex-grow: 1;}#sk-container-id-2 div.sk-label:hover label.sk-toggleable__label {background-color: #d4ebff;}#sk-container-id-2 div.sk-serial::before {content: \"\";position: absolute;border-left: 1px solid gray;box-sizing: border-box;top: 0;bottom: 0;left: 50%;z-index: 0;}#sk-container-id-2 div.sk-serial {display: flex;flex-direction: column;align-items: center;background-color: white;padding-right: 0.2em;padding-left: 0.2em;position: relative;}#sk-container-id-2 div.sk-item {position: relative;z-index: 1;}#sk-container-id-2 div.sk-parallel {display: flex;align-items: stretch;justify-content: center;background-color: white;position: relative;}#sk-container-id-2 div.sk-item::before, #sk-container-id-2 div.sk-parallel-item::before {content: \"\";position: absolute;border-left: 1px solid gray;box-sizing: border-box;top: 0;bottom: 0;left: 50%;z-index: -1;}#sk-container-id-2 div.sk-parallel-item {display: flex;flex-direction: column;z-index: 1;position: relative;background-color: white;}#sk-container-id-2 div.sk-parallel-item:first-child::after {align-self: flex-end;width: 50%;}#sk-container-id-2 div.sk-parallel-item:last-child::after {align-self: flex-start;width: 50%;}#sk-container-id-2 div.sk-parallel-item:only-child::after {width: 0;}#sk-container-id-2 div.sk-dashed-wrapped {border: 1px dashed gray;margin: 0 0.4em 0.5em 0.4em;box-sizing: border-box;padding-bottom: 0.4em;background-color: white;}#sk-container-id-2 div.sk-label label {font-family: monospace;font-weight: bold;display: inline-block;line-height: 1.2em;}#sk-container-id-2 div.sk-label-container {text-align: center;}#sk-container-id-2 div.sk-container {/* jupyter's `normalize.less` sets `[hidden] { display: none; }` but bootstrap.min.css set `[hidden] { display: none !important; }` so we also need the `!important` here to be able to override the default hidden behavior on the sphinx rendered scikit-learn.org. See: https://github.com/scikit-learn/scikit-learn/issues/21755 */display: inline-block !important;position: relative;}#sk-container-id-2 div.sk-text-repr-fallback {display: none;}</style><div id=\"sk-container-id-2\" class=\"sk-top-container\"><div class=\"sk-text-repr-fallback\"><pre>GridSearchCV(cv=5, estimator=DecisionTreeRegressor(), n_jobs=-1,\n",
       "             param_grid={&#x27;max_depth&#x27;: [3, 5, 7, 10],\n",
       "                         &#x27;min_samples_leaf&#x27;: [1, 2, 4],\n",
       "                         &#x27;min_samples_split&#x27;: [2, 5, 10]},\n",
       "             scoring=&#x27;neg_mean_squared_error&#x27;)</pre><b>In a Jupyter environment, please rerun this cell to show the HTML representation or trust the notebook. <br />On GitHub, the HTML representation is unable to render, please try loading this page with nbviewer.org.</b></div><div class=\"sk-container\" hidden><div class=\"sk-item sk-dashed-wrapped\"><div class=\"sk-label-container\"><div class=\"sk-label sk-toggleable\"><input class=\"sk-toggleable__control sk-hidden--visually\" id=\"sk-estimator-id-2\" type=\"checkbox\" ><label for=\"sk-estimator-id-2\" class=\"sk-toggleable__label sk-toggleable__label-arrow\">GridSearchCV</label><div class=\"sk-toggleable__content\"><pre>GridSearchCV(cv=5, estimator=DecisionTreeRegressor(), n_jobs=-1,\n",
       "             param_grid={&#x27;max_depth&#x27;: [3, 5, 7, 10],\n",
       "                         &#x27;min_samples_leaf&#x27;: [1, 2, 4],\n",
       "                         &#x27;min_samples_split&#x27;: [2, 5, 10]},\n",
       "             scoring=&#x27;neg_mean_squared_error&#x27;)</pre></div></div></div><div class=\"sk-parallel\"><div class=\"sk-parallel-item\"><div class=\"sk-item\"><div class=\"sk-label-container\"><div class=\"sk-label sk-toggleable\"><input class=\"sk-toggleable__control sk-hidden--visually\" id=\"sk-estimator-id-3\" type=\"checkbox\" ><label for=\"sk-estimator-id-3\" class=\"sk-toggleable__label sk-toggleable__label-arrow\">estimator: DecisionTreeRegressor</label><div class=\"sk-toggleable__content\"><pre>DecisionTreeRegressor()</pre></div></div></div><div class=\"sk-serial\"><div class=\"sk-item\"><div class=\"sk-estimator sk-toggleable\"><input class=\"sk-toggleable__control sk-hidden--visually\" id=\"sk-estimator-id-4\" type=\"checkbox\" ><label for=\"sk-estimator-id-4\" class=\"sk-toggleable__label sk-toggleable__label-arrow\">DecisionTreeRegressor</label><div class=\"sk-toggleable__content\"><pre>DecisionTreeRegressor()</pre></div></div></div></div></div></div></div></div></div></div>"
      ],
      "text/plain": [
       "GridSearchCV(cv=5, estimator=DecisionTreeRegressor(), n_jobs=-1,\n",
       "             param_grid={'max_depth': [3, 5, 7, 10],\n",
       "                         'min_samples_leaf': [1, 2, 4],\n",
       "                         'min_samples_split': [2, 5, 10]},\n",
       "             scoring='neg_mean_squared_error')"
      ]
     },
     "execution_count": 28,
     "metadata": {},
     "output_type": "execute_result"
    }
   ],
   "source": [
    "from sklearn.tree import DecisionTreeRegressor\n",
    "from sklearn.model_selection import GridSearchCV\n",
    "\n",
    "# Set up and fit GridSearchCV for iteration 2\n",
    "grid_search_iter2 = GridSearchCV(estimator=dtree_iter2, param_grid=param_grid_iter2, cv=5, scoring='neg_mean_squared_error', n_jobs=-1)\n",
    "grid_search_iter2.fit(X_train_iter2, y_train_iter2)\n"
   ]
  },
  {
   "cell_type": "code",
   "execution_count": 29,
   "id": "80558103",
   "metadata": {},
   "outputs": [
    {
     "name": "stdout",
     "output_type": "stream",
     "text": [
      "Best parameters for iteration 2: {'max_depth': 10, 'min_samples_leaf': 2, 'min_samples_split': 2}\n"
     ]
    }
   ],
   "source": [
    "# Get the best parameters and estimator for iteration 2\n",
    "best_params_iter2 = grid_search_iter2.best_params_\n",
    "print(\"Best parameters for iteration 2:\", best_params_iter2)\n",
    "best_dtree_iter2 = grid_search_iter2.best_estimator_\n"
   ]
  },
  {
   "cell_type": "markdown",
   "id": "7dc84b47",
   "metadata": {},
   "source": [
    "The best parameters from grid search suggest a decision tree with a maximum depth of 10 and a minimum sample leaf of 2. This indicates a balance between model complexity and the ability to generalize, as excessively deep trees can lead to overfitting."
   ]
  },
  {
   "cell_type": "code",
   "execution_count": 30,
   "id": "b31927fa",
   "metadata": {},
   "outputs": [
    {
     "name": "stdout",
     "output_type": "stream",
     "text": [
      "Average MSE from 5-fold cross-validation for iteration 2: 1.8685983512885562e-05\n"
     ]
    }
   ],
   "source": [
    "from sklearn.model_selection import cross_val_score\n",
    "\n",
    "\n",
    "# Estimate the model's performance using cross-validation for iteration 2\n",
    "scores_iter2 = cross_val_score(best_dtree_iter2, X_iter2, y_iter2, cv=5, scoring='neg_mean_squared_error')\n",
    "avg_mse_iter2 = -scores_iter2.mean()\n",
    "print(f\"Average MSE from 5-fold cross-validation for iteration 2: {avg_mse_iter2}\")\n"
   ]
  },
  {
   "cell_type": "markdown",
   "id": "9ed925b0",
   "metadata": {},
   "source": [
    "The average MSE obtained from 5-fold cross-validation is approximately 1.86e-05, higher than our initial single split test MSE, but this value is considered more reliable as it averages the error across different subsets, providing a more robust estimate of the model's performance."
   ]
  },
  {
   "cell_type": "markdown",
   "id": "c3a61ccd",
   "metadata": {},
   "source": [
    "### Model Evaluation"
   ]
  },
  {
   "cell_type": "markdown",
   "id": "1659baa0",
   "metadata": {},
   "source": [
    "**Printing the model metrics**"
   ]
  },
  {
   "cell_type": "code",
   "execution_count": 31,
   "id": "b625d39b",
   "metadata": {},
   "outputs": [
    {
     "name": "stdout",
     "output_type": "stream",
     "text": [
      "Iteration 2 - Training MSE: 1.729368910563843e-06\n",
      "Iteration 2 - Training RMSE: 0.001315054717707154\n",
      "Iteration 2 - Training MAE: 0.0006179336036172882\n",
      "Iteration 2 - Training R-squared: 0.999913324521145\n",
      "\n",
      "Iteration 2 - Testing MSE: 2.6479984688435807e-06\n",
      "Iteration 2 - Testing RMSE: 0.001627267178076047\n",
      "Iteration 2 - Testing MAE: 0.00071291200662504\n",
      "Iteration 2 - Testing R-squared: 0.9985638150702352\n"
     ]
    }
   ],
   "source": [
    "from sklearn.metrics import mean_squared_error, r2_score, mean_absolute_error\n",
    "from math import sqrt\n",
    "\n",
    "# Predictions on the training set for iteration 2\n",
    "train_predictions_iter2 = best_dtree_iter2.predict(X_train_iter2)\n",
    "\n",
    "# Predictions on the testing set for iteration 2\n",
    "test_predictions_iter2 = best_dtree_iter2.predict(X_test_iter2)\n",
    "\n",
    "# Metrics for the training set for iteration 2\n",
    "train_mse_iter2 = mean_squared_error(y_train_iter2, train_predictions_iter2)\n",
    "train_rmse_iter2 = sqrt(train_mse_iter2)\n",
    "train_mae_iter2 = mean_absolute_error(y_train_iter2, train_predictions_iter2)\n",
    "train_r2_iter2 = r2_score(y_train_iter2, train_predictions_iter2)\n",
    "\n",
    "# Metrics for the testing set for iteration 2\n",
    "test_mse_iter2 = mean_squared_error(y_test_iter2, test_predictions_iter2)\n",
    "test_rmse_iter2 = sqrt(test_mse_iter2)\n",
    "test_mae_iter2 = mean_absolute_error(y_test_iter2, test_predictions_iter2)\n",
    "test_r2_iter2 = r2_score(y_test_iter2, test_predictions_iter2)\n",
    "\n",
    "# Display the metrics for iteration 2\n",
    "print(f\"Iteration 2 - Training MSE: {train_mse_iter2}\")\n",
    "print(f\"Iteration 2 - Training RMSE: {train_rmse_iter2}\")\n",
    "print(f\"Iteration 2 - Training MAE: {train_mae_iter2}\")\n",
    "print(f\"Iteration 2 - Training R-squared: {train_r2_iter2}\\n\")\n",
    "\n",
    "print(f\"Iteration 2 - Testing MSE: {test_mse_iter2}\")\n",
    "print(f\"Iteration 2 - Testing RMSE: {test_rmse_iter2}\")\n",
    "print(f\"Iteration 2 - Testing MAE: {test_mae_iter2}\")\n",
    "print(f\"Iteration 2 - Testing R-squared: {test_r2_iter2}\")\n"
   ]
  },
  {
   "cell_type": "markdown",
   "id": "eebc5142",
   "metadata": {},
   "source": [
    "### Conclusion"
   ]
  },
  {
   "cell_type": "markdown",
   "id": "9d14eb51",
   "metadata": {},
   "source": [
    "There are some important points to takeaway from this analysis:"
   ]
  },
  {
   "cell_type": "markdown",
   "id": "7d22c249",
   "metadata": {},
   "source": [
    "**Stable Data Characteristics:** The underlying characteristics of the dataset might be stable and consistent, leading to similar model performance across different iterations or modeling approaches."
   ]
  },
  {
   "cell_type": "markdown",
   "id": "a5a43d1a",
   "metadata": {},
   "source": [
    "**Strong Base Features:** The original features ('Open', 'High', 'Low') might already be strong predictors of the target variable ('Close'), so adding the moving average feature in the second iteration doesn't significantly change the model's performance."
   ]
  },
  {
   "cell_type": "markdown",
   "id": "62582f54",
   "metadata": {},
   "source": [
    "In conclusion, while the decision tree modeling for this dataset has shown high accuracy, with training and testing R-squared values of 0.9999 and 0.9986 respectively, the near-perfect metrics raise concerns of potential overfitting or the model being too good for real-world data. This suggests that decision trees may not be the optimal model for this particular dataset. Further exploration of other modeling techniques, such as SARIMA for time series analysis and Random Forest for ensemble learning, may provide more balanced and generalizable results suitable for real-world applications."
   ]
  }
 ],
 "metadata": {
  "kernelspec": {
   "display_name": "Python 3 (ipykernel)",
   "language": "python",
   "name": "python3"
  },
  "language_info": {
   "codemirror_mode": {
    "name": "ipython",
    "version": 3
   },
   "file_extension": ".py",
   "mimetype": "text/x-python",
   "name": "python",
   "nbconvert_exporter": "python",
   "pygments_lexer": "ipython3",
   "version": "3.11.5"
  }
 },
 "nbformat": 4,
 "nbformat_minor": 5
}
