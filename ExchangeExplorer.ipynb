{
 "cells": [
  {
   "cell_type": "markdown",
   "id": "f4b29fa2",
   "metadata": {},
   "source": [
    "**Author:** Deepa Anjanamurthy\n",
    "\n",
    "**Project**: Capstone - Data Science"
   ]
  },
  {
   "cell_type": "markdown",
   "id": "beb05289",
   "metadata": {},
   "source": [
    "### **Table of Contents**\n",
    "\n",
    "- [**Introduction**](#intro)\n",
    "\n",
    "- [**Part 1: Data Cleaning and EDA**](#part-1)\n",
    "    * [**Subcategory 1**](#part-1-1)\n",
    "    * [**Subcategory 2**](#part-1-2)\n",
    "        \n",
    "- [**Part 2**](#part-2)\n",
    "    * [**2.1**](#part-2-1)\n",
    "    * [**2.2**](#part-2-2)\n",
    "    \n",
    "- [**Part 3**](#part-3)\n",
    "    * [**3.1**](#part-3-1) \n",
    "    * [**3.2**](#part-3-2)\n",
    "\n",
    "- [**Part 4**](#part-4)\n",
    "    * [**4.1**](#part-4-1) \n",
    "    * [**4.2**](#part-4-2)\n",
    "\n",
    "- [**Part 5**](#part-5)\n",
    "    * [**5.1**](#part-5-1) \n",
    "    * [**5.2**](#part-5-2)\n"
   ]
  },
  {
   "cell_type": "markdown",
   "id": "3cc792b5",
   "metadata": {},
   "source": [
    "<a class=\"anchor\" id=\"intro\"></a>\n",
    "**Introduction to Exchange Explorer!**\n",
    "\n",
    "In this project, **\"Exchange Explorer: Predictive Analytics for USD Fluctuations,\"** we dive into the fascinating world of currency exchange rates, focusing on the US Dollar (USD) — a key player in global finance. The USD's influence stretches far and wide, affecting everything from international trade to personal investment decisions. Our goal is to sift through historical exchange rate data, uncover patterns, and predict future movements using the machine learning techniques. \n",
    "\n",
    "This isn't just about crunching numbers; it's about providing valuable insights for investors, financial analysts, and policymakers to make informed decisions in a complex market. Through a careful blend of analysis and technology, \"Exchange Explorer\" aims to shed light on the dynamics of forex markets, making them more understandable and navigable for everyone involved.\n",
    "\n"
   ]
  },
  {
   "cell_type": "code",
   "execution_count": 3,
   "id": "fd05eba1",
   "metadata": {},
   "outputs": [],
   "source": [
    "# Import necessary libraries\n",
    "\n",
    "import numpy as np\n",
    "import pandas as pd\n",
    "import matplotlib.pyplot as plt\n",
    "%matplotlib inline\n",
    "import seaborn as sns"
   ]
  },
  {
   "cell_type": "markdown",
   "id": "cf25a598",
   "metadata": {},
   "source": [
    "<a class=\"anchor\" id=\"#part-1\"></a>\n",
    "**Part 1: Data Cleaning and EDA**"
   ]
  },
  {
   "cell_type": "markdown",
   "id": "5907c753",
   "metadata": {},
   "source": [
    "The dataset contains 15 years of data separated by the year - **2008 to 2023**. These files have been combined into one csv file  for ease and is being used for analysis."
   ]
  },
  {
   "cell_type": "code",
   "execution_count": 4,
   "id": "691c1a6b",
   "metadata": {},
   "outputs": [],
   "source": [
    "# Load the data\n",
    "df = pd.read_csv('combined_usd_exchange_rates.csv')"
   ]
  },
  {
   "cell_type": "code",
   "execution_count": 5,
   "id": "1e7dd37a",
   "metadata": {},
   "outputs": [
    {
     "data": {
      "text/html": [
       "<div>\n",
       "<style scoped>\n",
       "    .dataframe tbody tr th:only-of-type {\n",
       "        vertical-align: middle;\n",
       "    }\n",
       "\n",
       "    .dataframe tbody tr th {\n",
       "        vertical-align: top;\n",
       "    }\n",
       "\n",
       "    .dataframe thead th {\n",
       "        text-align: right;\n",
       "    }\n",
       "</style>\n",
       "<table border=\"1\" class=\"dataframe\">\n",
       "  <thead>\n",
       "    <tr style=\"text-align: right;\">\n",
       "      <th></th>\n",
       "      <th>Ticker</th>\n",
       "      <th>Date</th>\n",
       "      <th>Open</th>\n",
       "      <th>High</th>\n",
       "      <th>Low</th>\n",
       "      <th>Close</th>\n",
       "      <th>Adj Close</th>\n",
       "      <th>Volume</th>\n",
       "    </tr>\n",
       "  </thead>\n",
       "  <tbody>\n",
       "    <tr>\n",
       "      <th>0</th>\n",
       "      <td>GBP=X</td>\n",
       "      <td>2008-08-01</td>\n",
       "      <td>0.50441</td>\n",
       "      <td>0.5068</td>\n",
       "      <td>0.50396</td>\n",
       "      <td>0.50651</td>\n",
       "      <td>0.50651</td>\n",
       "      <td>0.0</td>\n",
       "    </tr>\n",
       "    <tr>\n",
       "      <th>1</th>\n",
       "      <td>AUD=X</td>\n",
       "      <td>2008-08-01</td>\n",
       "      <td>1.06430</td>\n",
       "      <td>1.0765</td>\n",
       "      <td>1.06390</td>\n",
       "      <td>1.07270</td>\n",
       "      <td>1.07270</td>\n",
       "      <td>0.0</td>\n",
       "    </tr>\n",
       "    <tr>\n",
       "      <th>2</th>\n",
       "      <td>CAD=X</td>\n",
       "      <td>2008-08-01</td>\n",
       "      <td>1.02340</td>\n",
       "      <td>1.0294</td>\n",
       "      <td>1.02290</td>\n",
       "      <td>1.02460</td>\n",
       "      <td>1.02460</td>\n",
       "      <td>0.0</td>\n",
       "    </tr>\n",
       "    <tr>\n",
       "      <th>3</th>\n",
       "      <td>CHF=X</td>\n",
       "      <td>2008-08-01</td>\n",
       "      <td>1.04800</td>\n",
       "      <td>1.0512</td>\n",
       "      <td>1.04640</td>\n",
       "      <td>1.05040</td>\n",
       "      <td>1.05040</td>\n",
       "      <td>0.0</td>\n",
       "    </tr>\n",
       "    <tr>\n",
       "      <th>4</th>\n",
       "      <td>CNY=X</td>\n",
       "      <td>2008-08-01</td>\n",
       "      <td>6.83600</td>\n",
       "      <td>6.8554</td>\n",
       "      <td>6.82100</td>\n",
       "      <td>6.84700</td>\n",
       "      <td>6.84700</td>\n",
       "      <td>0.0</td>\n",
       "    </tr>\n",
       "  </tbody>\n",
       "</table>\n",
       "</div>"
      ],
      "text/plain": [
       "  Ticker        Date     Open    High      Low    Close  Adj Close  Volume\n",
       "0  GBP=X  2008-08-01  0.50441  0.5068  0.50396  0.50651    0.50651     0.0\n",
       "1  AUD=X  2008-08-01  1.06430  1.0765  1.06390  1.07270    1.07270     0.0\n",
       "2  CAD=X  2008-08-01  1.02340  1.0294  1.02290  1.02460    1.02460     0.0\n",
       "3  CHF=X  2008-08-01  1.04800  1.0512  1.04640  1.05040    1.05040     0.0\n",
       "4  CNY=X  2008-08-01  6.83600  6.8554  6.82100  6.84700    6.84700     0.0"
      ]
     },
     "execution_count": 5,
     "metadata": {},
     "output_type": "execute_result"
    }
   ],
   "source": [
    "# Check if the dataframe data\n",
    "df.head()"
   ]
  },
  {
   "cell_type": "code",
   "execution_count": 6,
   "id": "c4bbaaf9",
   "metadata": {},
   "outputs": [
    {
     "data": {
      "text/plain": [
       "(38982, 8)"
      ]
     },
     "execution_count": 6,
     "metadata": {},
     "output_type": "execute_result"
    }
   ],
   "source": [
    "# Check the shape - no. of rows and columns in the dataframe\n",
    "df.shape"
   ]
  },
  {
   "cell_type": "code",
   "execution_count": 7,
   "id": "9db4a2e1",
   "metadata": {},
   "outputs": [
    {
     "data": {
      "text/html": [
       "<div>\n",
       "<style scoped>\n",
       "    .dataframe tbody tr th:only-of-type {\n",
       "        vertical-align: middle;\n",
       "    }\n",
       "\n",
       "    .dataframe tbody tr th {\n",
       "        vertical-align: top;\n",
       "    }\n",
       "\n",
       "    .dataframe thead th {\n",
       "        text-align: right;\n",
       "    }\n",
       "</style>\n",
       "<table border=\"1\" class=\"dataframe\">\n",
       "  <thead>\n",
       "    <tr style=\"text-align: right;\">\n",
       "      <th></th>\n",
       "      <th>Ticker</th>\n",
       "      <th>Date</th>\n",
       "      <th>Open</th>\n",
       "      <th>High</th>\n",
       "      <th>Low</th>\n",
       "      <th>Close</th>\n",
       "      <th>Adj Close</th>\n",
       "      <th>Volume</th>\n",
       "    </tr>\n",
       "  </thead>\n",
       "  <tbody>\n",
       "    <tr>\n",
       "      <th>9661</th>\n",
       "      <td>GBP=X</td>\n",
       "      <td>2012-04-26</td>\n",
       "      <td>0.61810</td>\n",
       "      <td>0.618800</td>\n",
       "      <td>0.617060</td>\n",
       "      <td>0.618120</td>\n",
       "      <td>0.618120</td>\n",
       "      <td>0.0</td>\n",
       "    </tr>\n",
       "    <tr>\n",
       "      <th>10193</th>\n",
       "      <td>CAD=X</td>\n",
       "      <td>2012-07-10</td>\n",
       "      <td>1.01920</td>\n",
       "      <td>1.021640</td>\n",
       "      <td>1.016500</td>\n",
       "      <td>1.019160</td>\n",
       "      <td>1.019160</td>\n",
       "      <td>0.0</td>\n",
       "    </tr>\n",
       "    <tr>\n",
       "      <th>2267</th>\n",
       "      <td>CAD=X</td>\n",
       "      <td>2009-06-24</td>\n",
       "      <td>1.15060</td>\n",
       "      <td>1.158100</td>\n",
       "      <td>1.142100</td>\n",
       "      <td>1.155000</td>\n",
       "      <td>1.155000</td>\n",
       "      <td>0.0</td>\n",
       "    </tr>\n",
       "    <tr>\n",
       "      <th>915</th>\n",
       "      <td>GBP=X</td>\n",
       "      <td>2008-12-17</td>\n",
       "      <td>0.64193</td>\n",
       "      <td>0.655090</td>\n",
       "      <td>0.636330</td>\n",
       "      <td>0.644870</td>\n",
       "      <td>0.644870</td>\n",
       "      <td>0.0</td>\n",
       "    </tr>\n",
       "    <tr>\n",
       "      <th>1506</th>\n",
       "      <td>AUD=X</td>\n",
       "      <td>2009-03-10</td>\n",
       "      <td>1.57530</td>\n",
       "      <td>1.575800</td>\n",
       "      <td>1.541400</td>\n",
       "      <td>1.543000</td>\n",
       "      <td>1.543000</td>\n",
       "      <td>0.0</td>\n",
       "    </tr>\n",
       "    <tr>\n",
       "      <th>24000</th>\n",
       "      <td>CNY=X</td>\n",
       "      <td>2017-10-27</td>\n",
       "      <td>6.64090</td>\n",
       "      <td>6.660300</td>\n",
       "      <td>6.638500</td>\n",
       "      <td>6.641100</td>\n",
       "      <td>6.641100</td>\n",
       "      <td>0.0</td>\n",
       "    </tr>\n",
       "    <tr>\n",
       "      <th>6915</th>\n",
       "      <td>CHF=X</td>\n",
       "      <td>2011-04-06</td>\n",
       "      <td>0.92570</td>\n",
       "      <td>0.928820</td>\n",
       "      <td>0.913180</td>\n",
       "      <td>0.925590</td>\n",
       "      <td>0.925590</td>\n",
       "      <td>0.0</td>\n",
       "    </tr>\n",
       "    <tr>\n",
       "      <th>6992</th>\n",
       "      <td>EUR=X</td>\n",
       "      <td>2011-04-19</td>\n",
       "      <td>0.70310</td>\n",
       "      <td>0.703850</td>\n",
       "      <td>0.697930</td>\n",
       "      <td>0.703040</td>\n",
       "      <td>0.703040</td>\n",
       "      <td>0.0</td>\n",
       "    </tr>\n",
       "    <tr>\n",
       "      <th>7830</th>\n",
       "      <td>INR=X</td>\n",
       "      <td>2011-08-15</td>\n",
       "      <td>45.18000</td>\n",
       "      <td>45.338001</td>\n",
       "      <td>45.180000</td>\n",
       "      <td>45.393002</td>\n",
       "      <td>45.393002</td>\n",
       "      <td>0.0</td>\n",
       "    </tr>\n",
       "    <tr>\n",
       "      <th>32916</th>\n",
       "      <td>AUD=X</td>\n",
       "      <td>2021-04-01</td>\n",
       "      <td>1.31676</td>\n",
       "      <td>1.327457</td>\n",
       "      <td>1.313888</td>\n",
       "      <td>1.316812</td>\n",
       "      <td>1.316812</td>\n",
       "      <td>0.0</td>\n",
       "    </tr>\n",
       "    <tr>\n",
       "      <th>7706</th>\n",
       "      <td>CHF=X</td>\n",
       "      <td>2011-07-27</td>\n",
       "      <td>0.80160</td>\n",
       "      <td>0.803190</td>\n",
       "      <td>0.799400</td>\n",
       "      <td>0.801520</td>\n",
       "      <td>0.801520</td>\n",
       "      <td>0.0</td>\n",
       "    </tr>\n",
       "    <tr>\n",
       "      <th>6407</th>\n",
       "      <td>HKD=X</td>\n",
       "      <td>2011-01-25</td>\n",
       "      <td>7.79690</td>\n",
       "      <td>7.797200</td>\n",
       "      <td>7.790300</td>\n",
       "      <td>7.796900</td>\n",
       "      <td>7.796900</td>\n",
       "      <td>0.0</td>\n",
       "    </tr>\n",
       "    <tr>\n",
       "      <th>35518</th>\n",
       "      <td>CHF=X</td>\n",
       "      <td>2022-03-31</td>\n",
       "      <td>0.92297</td>\n",
       "      <td>0.925810</td>\n",
       "      <td>0.919600</td>\n",
       "      <td>0.922970</td>\n",
       "      <td>0.922970</td>\n",
       "      <td>0.0</td>\n",
       "    </tr>\n",
       "    <tr>\n",
       "      <th>25497</th>\n",
       "      <td>AUD=X</td>\n",
       "      <td>2018-05-28</td>\n",
       "      <td>1.32330</td>\n",
       "      <td>1.325300</td>\n",
       "      <td>1.318900</td>\n",
       "      <td>1.323300</td>\n",
       "      <td>1.323300</td>\n",
       "      <td>0.0</td>\n",
       "    </tr>\n",
       "    <tr>\n",
       "      <th>6587</th>\n",
       "      <td>HKD=X</td>\n",
       "      <td>2011-02-18</td>\n",
       "      <td>7.78670</td>\n",
       "      <td>7.787400</td>\n",
       "      <td>7.782300</td>\n",
       "      <td>7.786600</td>\n",
       "      <td>7.786600</td>\n",
       "      <td>0.0</td>\n",
       "    </tr>\n",
       "  </tbody>\n",
       "</table>\n",
       "</div>"
      ],
      "text/plain": [
       "      Ticker        Date      Open       High        Low      Close  \\\n",
       "9661   GBP=X  2012-04-26   0.61810   0.618800   0.617060   0.618120   \n",
       "10193  CAD=X  2012-07-10   1.01920   1.021640   1.016500   1.019160   \n",
       "2267   CAD=X  2009-06-24   1.15060   1.158100   1.142100   1.155000   \n",
       "915    GBP=X  2008-12-17   0.64193   0.655090   0.636330   0.644870   \n",
       "1506   AUD=X  2009-03-10   1.57530   1.575800   1.541400   1.543000   \n",
       "24000  CNY=X  2017-10-27   6.64090   6.660300   6.638500   6.641100   \n",
       "6915   CHF=X  2011-04-06   0.92570   0.928820   0.913180   0.925590   \n",
       "6992   EUR=X  2011-04-19   0.70310   0.703850   0.697930   0.703040   \n",
       "7830   INR=X  2011-08-15  45.18000  45.338001  45.180000  45.393002   \n",
       "32916  AUD=X  2021-04-01   1.31676   1.327457   1.313888   1.316812   \n",
       "7706   CHF=X  2011-07-27   0.80160   0.803190   0.799400   0.801520   \n",
       "6407   HKD=X  2011-01-25   7.79690   7.797200   7.790300   7.796900   \n",
       "35518  CHF=X  2022-03-31   0.92297   0.925810   0.919600   0.922970   \n",
       "25497  AUD=X  2018-05-28   1.32330   1.325300   1.318900   1.323300   \n",
       "6587   HKD=X  2011-02-18   7.78670   7.787400   7.782300   7.786600   \n",
       "\n",
       "       Adj Close  Volume  \n",
       "9661    0.618120     0.0  \n",
       "10193   1.019160     0.0  \n",
       "2267    1.155000     0.0  \n",
       "915     0.644870     0.0  \n",
       "1506    1.543000     0.0  \n",
       "24000   6.641100     0.0  \n",
       "6915    0.925590     0.0  \n",
       "6992    0.703040     0.0  \n",
       "7830   45.393002     0.0  \n",
       "32916   1.316812     0.0  \n",
       "7706    0.801520     0.0  \n",
       "6407    7.796900     0.0  \n",
       "35518   0.922970     0.0  \n",
       "25497   1.323300     0.0  \n",
       "6587    7.786600     0.0  "
      ]
     },
     "execution_count": 7,
     "metadata": {},
     "output_type": "execute_result"
    }
   ],
   "source": [
    "# Get a sample of rows in the DF\n",
    "df.sample(15)"
   ]
  },
  {
   "cell_type": "code",
   "execution_count": 8,
   "id": "7235bff9",
   "metadata": {},
   "outputs": [
    {
     "name": "stdout",
     "output_type": "stream",
     "text": [
      "<class 'pandas.core.frame.DataFrame'>\n",
      "RangeIndex: 38982 entries, 0 to 38981\n",
      "Data columns (total 8 columns):\n",
      " #   Column     Non-Null Count  Dtype  \n",
      "---  ------     --------------  -----  \n",
      " 0   Ticker     38982 non-null  object \n",
      " 1   Date       38982 non-null  object \n",
      " 2   Open       38982 non-null  float64\n",
      " 3   High       38982 non-null  float64\n",
      " 4   Low        38982 non-null  float64\n",
      " 5   Close      38982 non-null  float64\n",
      " 6   Adj Close  38982 non-null  float64\n",
      " 7   Volume     38982 non-null  float64\n",
      "dtypes: float64(6), object(2)\n",
      "memory usage: 2.4+ MB\n"
     ]
    }
   ],
   "source": [
    "# Check the data integrity and columns/ variables in the data\n",
    "df.info()"
   ]
  },
  {
   "cell_type": "code",
   "execution_count": 6,
   "id": "d6f2e0bb",
   "metadata": {},
   "outputs": [
    {
     "name": "stdout",
     "output_type": "stream",
     "text": [
      "Ticker       0\n",
      "Date         0\n",
      "Open         0\n",
      "High         0\n",
      "Low          0\n",
      "Close        0\n",
      "Adj Close    0\n",
      "Volume       0\n",
      "dtype: int64\n"
     ]
    }
   ],
   "source": [
    "# Check for missing values in each column\n",
    "missing_values = df.isna().sum()\n",
    "\n",
    "# Display the count of missing values for each column\n",
    "print(missing_values)"
   ]
  },
  {
   "cell_type": "markdown",
   "id": "19dc7b3f",
   "metadata": {},
   "source": [
    "The column Date is currently an object type. In order to use the column in a time series analysis, converting this column to **datetime** data type."
   ]
  },
  {
   "cell_type": "code",
   "execution_count": 9,
   "id": "e8dd76ac",
   "metadata": {},
   "outputs": [],
   "source": [
    "df['Date'] = pd.to_datetime(df['Date'])"
   ]
  },
  {
   "cell_type": "code",
   "execution_count": 10,
   "id": "758222f5",
   "metadata": {},
   "outputs": [
    {
     "name": "stdout",
     "output_type": "stream",
     "text": [
      "<class 'pandas.core.frame.DataFrame'>\n",
      "RangeIndex: 38982 entries, 0 to 38981\n",
      "Data columns (total 8 columns):\n",
      " #   Column     Non-Null Count  Dtype         \n",
      "---  ------     --------------  -----         \n",
      " 0   Ticker     38982 non-null  object        \n",
      " 1   Date       38982 non-null  datetime64[ns]\n",
      " 2   Open       38982 non-null  float64       \n",
      " 3   High       38982 non-null  float64       \n",
      " 4   Low        38982 non-null  float64       \n",
      " 5   Close      38982 non-null  float64       \n",
      " 6   Adj Close  38982 non-null  float64       \n",
      " 7   Volume     38982 non-null  float64       \n",
      "dtypes: datetime64[ns](1), float64(6), object(1)\n",
      "memory usage: 2.4+ MB\n"
     ]
    }
   ],
   "source": [
    "df.info()"
   ]
  },
  {
   "cell_type": "code",
   "execution_count": 11,
   "id": "98ccf490",
   "metadata": {},
   "outputs": [
    {
     "name": "stdout",
     "output_type": "stream",
     "text": [
      "[0.]\n"
     ]
    }
   ],
   "source": [
    "# Check unique values in the 'Volume' column\n",
    "unique_volume_values = df['Volume'].unique()\n",
    "\n",
    "# Display the unique values\n",
    "print(unique_volume_values)"
   ]
  },
  {
   "cell_type": "code",
   "execution_count": 12,
   "id": "a33bc478",
   "metadata": {},
   "outputs": [],
   "source": [
    "# Drop the 'Volume' column if it's not needed\n",
    "df = df.drop('Volume', axis=1)"
   ]
  },
  {
   "cell_type": "markdown",
   "id": "a4f452f9",
   "metadata": {},
   "source": [
    "The Volume column only has the unique value of 0, and provides no value to the analysis. Hence, this column is unnecessary as there's no variability that can be observed using this variable. Dropped this column for future analysis."
   ]
  },
  {
   "cell_type": "code",
   "execution_count": null,
   "id": "493b8f1a",
   "metadata": {},
   "outputs": [],
   "source": []
  },
  {
   "cell_type": "code",
   "execution_count": null,
   "id": "37e61512",
   "metadata": {},
   "outputs": [],
   "source": []
  },
  {
   "cell_type": "code",
   "execution_count": null,
   "id": "1758635c",
   "metadata": {},
   "outputs": [],
   "source": []
  },
  {
   "cell_type": "code",
   "execution_count": null,
   "id": "f97e0553",
   "metadata": {},
   "outputs": [],
   "source": []
  },
  {
   "cell_type": "code",
   "execution_count": null,
   "id": "87ada588",
   "metadata": {},
   "outputs": [],
   "source": []
  },
  {
   "cell_type": "code",
   "execution_count": null,
   "id": "3da14593",
   "metadata": {},
   "outputs": [],
   "source": []
  },
  {
   "cell_type": "code",
   "execution_count": null,
   "id": "a56001f1",
   "metadata": {},
   "outputs": [],
   "source": []
  },
  {
   "cell_type": "code",
   "execution_count": null,
   "id": "d1086741",
   "metadata": {},
   "outputs": [],
   "source": []
  },
  {
   "cell_type": "code",
   "execution_count": null,
   "id": "18b51e8b",
   "metadata": {},
   "outputs": [],
   "source": []
  },
  {
   "cell_type": "code",
   "execution_count": null,
   "id": "ed7cd7f3",
   "metadata": {},
   "outputs": [],
   "source": []
  },
  {
   "cell_type": "code",
   "execution_count": null,
   "id": "cf08ec81",
   "metadata": {},
   "outputs": [],
   "source": []
  },
  {
   "cell_type": "code",
   "execution_count": null,
   "id": "cdbbe44c",
   "metadata": {},
   "outputs": [],
   "source": []
  },
  {
   "cell_type": "code",
   "execution_count": null,
   "id": "ec69993d",
   "metadata": {},
   "outputs": [],
   "source": []
  },
  {
   "cell_type": "code",
   "execution_count": null,
   "id": "0ff5cc85",
   "metadata": {},
   "outputs": [],
   "source": []
  },
  {
   "cell_type": "code",
   "execution_count": null,
   "id": "f0b015a0",
   "metadata": {},
   "outputs": [],
   "source": []
  }
 ],
 "metadata": {
  "kernelspec": {
   "display_name": "Python 3 (ipykernel)",
   "language": "python",
   "name": "python3"
  },
  "language_info": {
   "codemirror_mode": {
    "name": "ipython",
    "version": 3
   },
   "file_extension": ".py",
   "mimetype": "text/x-python",
   "name": "python",
   "nbconvert_exporter": "python",
   "pygments_lexer": "ipython3",
   "version": "3.11.5"
  }
 },
 "nbformat": 4,
 "nbformat_minor": 5
}
